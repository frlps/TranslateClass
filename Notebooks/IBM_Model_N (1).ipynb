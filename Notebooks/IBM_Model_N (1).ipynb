{
  "nbformat": 4,
  "nbformat_minor": 0,
  "metadata": {
    "colab": {
      "name": "IBM_Model_N.ipynb",
      "provenance": [],
      "collapsed_sections": []
    },
    "kernelspec": {
      "name": "python3",
      "display_name": "Python 3"
    },
    "language_info": {
      "name": "python"
    }
  },
  "cells": [
    {
      "cell_type": "markdown",
      "source": [
        "#IBM Model 1"
      ],
      "metadata": {
        "id": "4Th-KhvRfEKF"
      }
    },
    {
      "cell_type": "markdown",
      "source": [
        "Natural Language Toolkit: IBM Model 1\n",
        "Copyright (C) 2001-2013 NLTK Project\n",
        "Author: Chin Yee Lee <c.lee32@student.unimelb.edu.au>\n",
        "        Hengfeng Li <hengfeng12345@gmail.com>\n",
        "        Ruxin Hou <r.hou@student.unimelb.edu.au>\n",
        "        Calvin Tanujaya Lim <c.tanujayalim@gmail.com>\n",
        "Based on earlier version by:\n",
        "        Will Zhang <wilzzha@gmail.com>\n",
        "        Guan Gui <ggui@student.unimelb.edu.au>\n",
        "URL: <https://www.nltk.org/>\n",
        "For license information, see LICENSE.TXT\n",
        "\n",
        "Lexical translation model that ignores word order.\n",
        "\n",
        "In IBM Model 1, word order is ignored for simplicity. As long as the\n",
        "word alignments are equivalent, it doesn't matter where the word occurs\n",
        "in the source or target sentence. Thus, the following three alignments\n",
        "are equally likely::\n",
        "\n",
        "    Source: je mange du jambon\n",
        "    Target: i eat some ham\n",
        "    Alignment: (0,0) (1,1) (2,2) (3,3)\n",
        "\n",
        "    Source: je mange du jambon\n",
        "    Target: some ham eat i\n",
        "    Alignment: (0,2) (1,3) (2,1) (3,1)\n",
        "\n",
        "    Source: du jambon je mange\n",
        "    Target: eat i some ham\n",
        "    Alignment: (0,3) (1,2) (2,0) (3,1)\n",
        "\n",
        "Note that an alignment is represented here as\n",
        "(word_index_in_target, word_index_in_source).\n",
        "\n",
        "The EM algorithm used in Model 1 is:\n",
        "\n",
        ":E step: In the training data, count how many times a source language\n",
        "         word is translated into a target language word, weighted by\n",
        "         the prior probability of the translation.\n",
        "\n",
        ":M step: Estimate the new probability of translation based on the\n",
        "         counts from the Expectation step.\n",
        "\n",
        "Notations\n",
        "---------\n",
        "\n",
        ":i: Position in the source sentence\n",
        "     Valid values are 0 (for NULL), 1, 2, ..., length of source sentence\n",
        ":j: Position in the target sentence\n",
        "     Valid values are 1, 2, ..., length of target sentence\n",
        ":s: A word in the source language\n",
        ":t: A word in the target language\n",
        "\n",
        "References\n",
        "----------\n",
        "\n",
        "Philipp Koehn. 2010. Statistical Machine Translation.\n",
        "Cambridge University Press, New York.\n",
        "\n",
        "Peter E Brown, Stephen A. Della Pietra, Vincent J. Della Pietra, and\n",
        "Robert L. Mercer. 1993. The Mathematics of Statistical Machine\n",
        "Translation: Parameter Estimation. Computational Linguistics, 19 (2),\n",
        "263-311.\n"
      ],
      "metadata": {
        "id": "HEhN2gAWskV5"
      }
    },
    {
      "cell_type": "markdown",
      "source": [
        "## Bibliotecas"
      ],
      "metadata": {
        "id": "TMoVigoNpUDA"
      }
    },
    {
      "cell_type": "code",
      "source": [
        "import warnings\n",
        "from collections import defaultdict\n",
        "\n",
        "from nltk.translate import AlignedSent, Alignment, IBMModel\n",
        "from nltk.translate.ibm_model import Counts\n"
      ],
      "metadata": {
        "id": "bScTsB1pgynb"
      },
      "execution_count": null,
      "outputs": []
    },
    {
      "cell_type": "code",
      "source": [
        "help(AlignedSent)"
      ],
      "metadata": {
        "colab": {
          "base_uri": "https://localhost:8080/"
        },
        "id": "bSaOppI4BOtD",
        "outputId": "4e5dd1d8-27ff-486c-99b0-fc0deabb35c4"
      },
      "execution_count": null,
      "outputs": [
        {
          "output_type": "stream",
          "name": "stdout",
          "text": [
            "Help on class AlignedSent in module nltk.translate.api:\n",
            "\n",
            "class AlignedSent(builtins.object)\n",
            " |  AlignedSent(words, mots, alignment=None)\n",
            " |  \n",
            " |  Return an aligned sentence object, which encapsulates two sentences\n",
            " |  along with an ``Alignment`` between them.\n",
            " |  \n",
            " |      >>> from nltk.translate import AlignedSent, Alignment\n",
            " |      >>> algnsent = AlignedSent(['klein', 'ist', 'das', 'Haus'],\n",
            " |      ...     ['the', 'house', 'is', 'small'], Alignment.fromstring('0-2 1-3 2-1 3-0'))\n",
            " |      >>> algnsent.words\n",
            " |      ['klein', 'ist', 'das', 'Haus']\n",
            " |      >>> algnsent.mots\n",
            " |      ['the', 'house', 'is', 'small']\n",
            " |      >>> algnsent.alignment\n",
            " |      Alignment([(0, 2), (1, 3), (2, 1), (3, 0)])\n",
            " |      >>> from nltk.corpus import comtrans\n",
            " |      >>> print(comtrans.aligned_sents()[54])\n",
            " |      <AlignedSent: 'Weshalb also sollten...' -> 'So why should EU arm...'>\n",
            " |      >>> print(comtrans.aligned_sents()[54].alignment)\n",
            " |      0-0 0-1 1-0 2-2 3-4 3-5 4-7 5-8 6-3 7-9 8-9 9-10 9-11 10-12 11-6 12-6 13-13\n",
            " |  \n",
            " |  :param words: source language words\n",
            " |  :type words: list(str)\n",
            " |  :param mots: target language words\n",
            " |  :type mots: list(str)\n",
            " |  :param alignment: the word-level alignments between the source\n",
            " |      and target language\n",
            " |  :type alignment: Alignment\n",
            " |  \n",
            " |  Methods defined here:\n",
            " |  \n",
            " |  __init__(self, words, mots, alignment=None)\n",
            " |      Initialize self.  See help(type(self)) for accurate signature.\n",
            " |  \n",
            " |  __repr__(self)\n",
            " |      Return a string representation for this ``AlignedSent``.\n",
            " |      \n",
            " |      :rtype: str\n",
            " |  \n",
            " |  __str__(self)\n",
            " |      Return a human-readable string representation for this ``AlignedSent``.\n",
            " |      \n",
            " |      :rtype: str\n",
            " |  \n",
            " |  __unicode__ = __str__(self)\n",
            " |  \n",
            " |  invert(self)\n",
            " |      Return the aligned sentence pair, reversing the directionality\n",
            " |      \n",
            " |      :rtype: AlignedSent\n",
            " |  \n",
            " |  unicode_repr = __repr__(self)\n",
            " |  \n",
            " |  ----------------------------------------------------------------------\n",
            " |  Data descriptors defined here:\n",
            " |  \n",
            " |  __dict__\n",
            " |      dictionary for instance variables (if defined)\n",
            " |  \n",
            " |  __weakref__\n",
            " |      list of weak references to the object (if defined)\n",
            " |  \n",
            " |  alignment\n",
            " |  \n",
            " |  mots\n",
            " |  \n",
            " |  words\n",
            "\n"
          ]
        }
      ]
    },
    {
      "cell_type": "code",
      "execution_count": null,
      "metadata": {
        "id": "V-Y_nMPPxKS5"
      },
      "outputs": [],
      "source": [
        "bitext = []\n",
        "bitext.append(AlignedSent(['klein', 'ist', 'das', 'haus'], ['the', 'house', 'is', 'small']))\n",
        "bitext.append(AlignedSent(['das', 'haus', 'ist', 'ja', 'groß'], ['the', 'house', 'is', 'big']))\n",
        "bitext.append(AlignedSent(['das', 'buch', 'ist', 'ja', 'klein'], ['the', 'book', 'is', 'small']))\n",
        "bitext.append(AlignedSent(['das', 'haus'], ['the', 'house']))\n",
        "bitext.append(AlignedSent(['das', 'buch'], ['the', 'book']))\n",
        "bitext.append(AlignedSent(['ein', 'buch'], ['a', 'book']))"
      ]
    },
    {
      "cell_type": "markdown",
      "source": [
        "## IBM Model 1 - Classe"
      ],
      "metadata": {
        "id": "2MEORJmTgmHk"
      }
    },
    {
      "cell_type": "code",
      "source": [
        "class IBMModel1(IBMModel):\n",
        "  def __init__(self, sentence_aligned_corpus, iterations, probability_tables=None):\n",
        "    \"\"\"\n",
        "    Train on ``sentence_aligned_corpus`` and create a lexical\n",
        "    translation model.\n",
        "\n",
        "    Translation direction is from ``AlignedSent.mots`` to\n",
        "    ``AlignedSent.words``.\n",
        "\n",
        "    :param sentence_aligned_corpus: Sentence-aligned parallel corpus\n",
        "    :type sentence_aligned_corpus: list(AlignedSent)\n",
        "\n",
        "    :param iterations: Number of iterations to run training algorithm\n",
        "    :type iterations: int\n",
        "\n",
        "    :param probability_tables: Optional. Use this to pass in custom\n",
        "      probability values. If not specified, probabilities will be\n",
        "      set to a uniform distribution, or some other sensible value.\n",
        "      If specified, the following entry must be present:\n",
        "      ``translation_table``.\n",
        "      See ``IBMModel`` for the type and purpose of this table.\n",
        "    :type probability_tables: dict[str]: object\n",
        "    \"\"\"\n",
        "    super().__init__(sentence_aligned_corpus) \n",
        "    if probability_tables is None:\n",
        "      self.set_uniform_probabilities(sentence_aligned_corpus)\n",
        "    else:\n",
        "      # Set user-defined probabilities\n",
        "      self.translation_table = probability_tables[\"translation_table\"]\n",
        "    for n in range(0, iterations):\n",
        "      self.train(sentence_aligned_corpus)\n",
        "\n",
        "    self.align_all(sentence_aligned_corpus)\n",
        "\n",
        "  def set_uniform_probabilities(self, sentence_aligned_corpus):\n",
        "    initial_prob = 1 / len(self.trg_vocab)\n",
        "    if initial_prob < IBMModel.MIN_PROB:\n",
        "      warnings.warn(\"Target language vocabulary is too large (\"\n",
        "      + str(len(self.trg_vocab)) + \" words). Results may be less accurate.\")\n",
        "\n",
        "    for t in self.trg_vocab:\n",
        "      self.translation_table[t] = defaultdict(lambda: initial_prob)\n",
        "\n",
        "  def train(self, parallel_corpus):\n",
        "    counts = Counts()\n",
        "    for aligned_sentence in parallel_corpus:\n",
        "      trg_sentence = aligned_sentence.words\n",
        "      src_sentence = [None] + aligned_sentence.mots\n",
        "\n",
        "      # E step (a): Compute normalization factors to weigh counts\n",
        "      total_count = self.prob_all_alignments(src_sentence, trg_sentence)\n",
        "\n",
        "      # E step (b): Collect counts\n",
        "      for t in trg_sentence:\n",
        "        for s in src_sentence:\n",
        "          count = self.prob_alignment_point(s, t)\n",
        "          normalized_count = count / total_count[t]\n",
        "          counts.t_given_s[t][s] += normalized_count\n",
        "          counts.any_t_given_s[s] += normalized_count\n",
        "\n",
        "    # M step: Update probabilities with maximum likelihood estimate\n",
        "    self.maximize_lexical_translation_probabilities(counts)\n",
        "\n",
        "\n",
        "  def prob_all_alignments(self, src_sentence, trg_sentence):\n",
        "    \"\"\"\n",
        "    Computes the probability of all possible word alignments,\n",
        "    expressed as a marginal distribution over target words t\n",
        "      \n",
        "    Each entry in the return value represents the contribution to\n",
        "    the total alignment probability by the target word t.\n",
        "\n",
        "    To obtain probability(alignment | src_sentence, trg_sentence),\n",
        "    simply sum the entries in the return value.\n",
        "\n",
        "    :return: Probability of t for all s in ``src_sentence``\n",
        "    :rtype: dict(str): float\n",
        "    \"\"\"\n",
        "    alignment_prob_for_t = defaultdict(lambda: 0.0)\n",
        "    for t in trg_sentence:\n",
        "      for s in src_sentence:\n",
        "        alignment_prob_for_t[t] += self.prob_alignment_point(s, t)\n",
        "    return alignment_prob_for_t\n",
        "\n",
        "\n",
        "  def prob_alignment_point(self, s, t):\n",
        "    \"\"\"\n",
        "    Probability that word ``t`` in the target sentence is aligned to\n",
        "    word ``s`` in the source sentence\n",
        "    \"\"\"\n",
        "    return self.translation_table[t][s]\n",
        "\n",
        "\n",
        "  def prob_t_a_given_s(self, alignment_info):\n",
        "    \"\"\"\n",
        "    Probability of target sentence and an alignment given the\n",
        "    source sentence\n",
        "    \"\"\"\n",
        "    prob = 1.0\n",
        "\n",
        "    for j, i in enumerate(alignment_info.alignment):\n",
        "      if j == 0:\n",
        "        continue  # skip the dummy zeroeth element\n",
        "      trg_word = alignment_info.trg_sentence[j]\n",
        "      src_word = alignment_info.src_sentence[i]\n",
        "      prob *= self.translation_table[trg_word][src_word]\n",
        "\n",
        "    return max(prob, IBMModel.MIN_PROB)\n",
        "\n",
        "\n",
        "  def align_all(self, parallel_corpus):\n",
        "    for sentence_pair in parallel_corpus:\n",
        "      self.align(sentence_pair)\n",
        "\n",
        "\n",
        "  def align(self, sentence_pair):\n",
        "    \"\"\"\n",
        "    Determines the best word alignment for one sentence pair from\n",
        "    the corpus that the model was trained on.\n",
        "\n",
        "    The best alignment will be set in ``sentence_pair`` when the\n",
        "    method returns. In contrast with the internal implementation of\n",
        "    IBM models, the word indices in the ``Alignment`` are zero-\n",
        "    indexed, not one-indexed.\n",
        "\n",
        "    :param sentence_pair: A sentence in the source language and its\n",
        "      counterpart sentence in the target language\n",
        "    :type sentence_pair: AlignedSent\n",
        "    \"\"\"\n",
        "    best_alignment = []\n",
        "\n",
        "    for j, trg_word in enumerate(sentence_pair.words):\n",
        "      # Initialize trg_word to align with the NULL token\n",
        "      best_prob = max(self.translation_table[trg_word][None], IBMModel.MIN_PROB)\n",
        "      best_alignment_point = None\n",
        "      for i, src_word in enumerate(sentence_pair.mots):\n",
        "        align_prob = self.translation_table[trg_word][src_word]\n",
        "        if align_prob >= best_prob:  # prefer newer word in case of tie\n",
        "          best_prob = align_prob\n",
        "          best_alignment_point = i\n",
        "\n",
        "      best_alignment.append((j, best_alignment_point))\n",
        "\n",
        "    sentence_pair.alignment = Alignment(best_alignment)"
      ],
      "metadata": {
        "id": "li7JTsb8pdfK"
      },
      "execution_count": null,
      "outputs": []
    },
    {
      "cell_type": "code",
      "source": [
        "import nltk"
      ],
      "metadata": {
        "id": "xrH5SWA7FD2N"
      },
      "execution_count": null,
      "outputs": []
    },
    {
      "cell_type": "code",
      "source": [
        "ibm1 = nltk.translate.IBMModel1(bitext, 5)"
      ],
      "metadata": {
        "id": "uvwmM9_GtReH"
      },
      "execution_count": null,
      "outputs": []
    },
    {
      "cell_type": "code",
      "source": [
        "print(ibm1.translation_table['buch']['book'])\n",
        "\n",
        "\n",
        "print(ibm1.translation_table['das']['book'])\n",
        "\n",
        "\n",
        "print(ibm1.translation_table['buch'][None])\n",
        "\n",
        "\n",
        "print(ibm1.translation_table['ja'][None])"
      ],
      "metadata": {
        "colab": {
          "base_uri": "https://localhost:8080/"
        },
        "id": "dPOnEfGCxLMK",
        "outputId": "a1bf4a49-d33e-4fef-95a8-668abe719396"
      },
      "execution_count": null,
      "outputs": [
        {
          "output_type": "stream",
          "name": "stdout",
          "text": [
            "0.8890388023094323\n",
            "0.061668228784061314\n",
            "0.11318685275683199\n",
            "0.07278526278031176\n"
          ]
        }
      ]
    },
    {
      "cell_type": "markdown",
      "source": [
        "## Nosso Corpus\n"
      ],
      "metadata": {
        "id": "w0I4vF5oBoDx"
      }
    },
    {
      "cell_type": "code",
      "source": [
        "import pandas as pd\n",
        "arquivo = '/content/Dataset_IA_Fev_2022.xlsx'\n",
        "#arquivo = '/content/Frases.xlsx'\n",
        "\n",
        "df_read = pd.read_excel(arquivo,sheet_name='Frases')"
      ],
      "metadata": {
        "id": "r5Q6C5kBprGZ"
      },
      "execution_count": null,
      "outputs": []
    },
    {
      "cell_type": "code",
      "source": [
        "df_read[:2]"
      ],
      "metadata": {
        "colab": {
          "base_uri": "https://localhost:8080/",
          "height": 454
        },
        "id": "1k3EJT9ivNOF",
        "outputId": "22c1676e-ce8a-4823-9260-831cedf1e478"
      },
      "execution_count": null,
      "outputs": [
        {
          "output_type": "execute_result",
          "data": {
            "text/plain": [
              "   Número da frase Contexto Tempo (vídeo longo)  \\\n",
              "0  Teste com Surdo    Banco              ------   \n",
              "1                1    Banco         23:15-23:31   \n",
              "\n",
              "                                        Sinais Surdo  \\\n",
              "0                              BANCO CARTÃO PROBLEMA   \n",
              "1  CARTÃO MEU SUSTO CELULAR VI – IR BANCO CONVERS...   \n",
              "\n",
              "                    Português Surdo (teclado QWERTY)  \\\n",
              "0                          banco meu cartão problema   \n",
              "1  o meu cartao eu susto nossa paguei eu nao sabe...   \n",
              "\n",
              "  Português Surdo (teclado QWERTY correção de palavras)  \\\n",
              "0                         banco meu cartão problema.      \n",
              "1  o meu cartão eu susto nossa paguei eu não sabe...      \n",
              "\n",
              "  Português Surdo (teclado SLK)  \\\n",
              "0                        ------   \n",
              "1                        ------   \n",
              "\n",
              "                     Português Intérprete (tradução)  \\\n",
              "0             Meu cartão do banco está com problema.   \n",
              "1  No meu cartão vi uma compra que não conheço, g...   \n",
              "\n",
              "  Português (retradução Angelina - palavras surdo QWERTY e mensagem final)  \\\n",
              "0           Meu cartão do banco está com problema.\\n                         \n",
              "1  Me assustei com um pagamento desconhecido que ...                         \n",
              "\n",
              "  Português (retradução Fabio - palavras surdo QWERTY e mensagem final)  \\\n",
              "0             Meu cartão do banco está com problema.                      \n",
              "1  Eu me assustei com uma compra no meu cartão. E...                      \n",
              "\n",
              "  Português (retradução Felipe - palavras surdo QWERTY e mensagem final)  \\\n",
              "0             Meu cartão do banco está com problema.                       \n",
              "1  Me assustei com um pagamento em meu cartão que...                       \n",
              "\n",
              "  Português (retradução Vagner - palavras surdo QWERTY e mensagem final)  \\\n",
              "0             Meu cartão do banco está com problema.                       \n",
              "1     Eu cancelo em meu cartão valor que não conheço                       \n",
              "\n",
              "  Ordem da frase (Português)  Tempo Verbal (Português)  \\\n",
              "0                      O-S-V                       NaN   \n",
              "1                      O-S-V                       NaN   \n",
              "\n",
              "   Tipo de Verbo (Português)  \\\n",
              "0                        NaN   \n",
              "1                        NaN   \n",
              "\n",
              "                              Tipo de verbo (Libras) Tempo Verbal (Libras)  \\\n",
              "0        Ancorado: Problema(Verbo de Ligação - está)     Nenhum (presente)   \n",
              "1  Direcional: Ver / Ir / Comprar / Explicar\\n\\nA...                   Não   \n",
              "\n",
              "  Uso de datilologia (Libras)  \n",
              "0                         Não  \n",
              "1                         Não  "
            ],
            "text/html": [
              "\n",
              "  <div id=\"df-0a9bab58-7868-4ec0-a692-4c74c24ee1eb\">\n",
              "    <div class=\"colab-df-container\">\n",
              "      <div>\n",
              "<style scoped>\n",
              "    .dataframe tbody tr th:only-of-type {\n",
              "        vertical-align: middle;\n",
              "    }\n",
              "\n",
              "    .dataframe tbody tr th {\n",
              "        vertical-align: top;\n",
              "    }\n",
              "\n",
              "    .dataframe thead th {\n",
              "        text-align: right;\n",
              "    }\n",
              "</style>\n",
              "<table border=\"1\" class=\"dataframe\">\n",
              "  <thead>\n",
              "    <tr style=\"text-align: right;\">\n",
              "      <th></th>\n",
              "      <th>Número da frase</th>\n",
              "      <th>Contexto</th>\n",
              "      <th>Tempo (vídeo longo)</th>\n",
              "      <th>Sinais Surdo</th>\n",
              "      <th>Português Surdo (teclado QWERTY)</th>\n",
              "      <th>Português Surdo (teclado QWERTY correção de palavras)</th>\n",
              "      <th>Português Surdo (teclado SLK)</th>\n",
              "      <th>Português Intérprete (tradução)</th>\n",
              "      <th>Português (retradução Angelina - palavras surdo QWERTY e mensagem final)</th>\n",
              "      <th>Português (retradução Fabio - palavras surdo QWERTY e mensagem final)</th>\n",
              "      <th>Português (retradução Felipe - palavras surdo QWERTY e mensagem final)</th>\n",
              "      <th>Português (retradução Vagner - palavras surdo QWERTY e mensagem final)</th>\n",
              "      <th>Ordem da frase (Português)</th>\n",
              "      <th>Tempo Verbal (Português)</th>\n",
              "      <th>Tipo de Verbo (Português)</th>\n",
              "      <th>Tipo de verbo (Libras)</th>\n",
              "      <th>Tempo Verbal (Libras)</th>\n",
              "      <th>Uso de datilologia (Libras)</th>\n",
              "    </tr>\n",
              "  </thead>\n",
              "  <tbody>\n",
              "    <tr>\n",
              "      <th>0</th>\n",
              "      <td>Teste com Surdo</td>\n",
              "      <td>Banco</td>\n",
              "      <td>------</td>\n",
              "      <td>BANCO CARTÃO PROBLEMA</td>\n",
              "      <td>banco meu cartão problema</td>\n",
              "      <td>banco meu cartão problema.</td>\n",
              "      <td>------</td>\n",
              "      <td>Meu cartão do banco está com problema.</td>\n",
              "      <td>Meu cartão do banco está com problema.\\n</td>\n",
              "      <td>Meu cartão do banco está com problema.</td>\n",
              "      <td>Meu cartão do banco está com problema.</td>\n",
              "      <td>Meu cartão do banco está com problema.</td>\n",
              "      <td>O-S-V</td>\n",
              "      <td>NaN</td>\n",
              "      <td>NaN</td>\n",
              "      <td>Ancorado: Problema(Verbo de Ligação - está)</td>\n",
              "      <td>Nenhum (presente)</td>\n",
              "      <td>Não</td>\n",
              "    </tr>\n",
              "    <tr>\n",
              "      <th>1</th>\n",
              "      <td>1</td>\n",
              "      <td>Banco</td>\n",
              "      <td>23:15-23:31</td>\n",
              "      <td>CARTÃO MEU SUSTO CELULAR VI – IR BANCO CONVERS...</td>\n",
              "      <td>o meu cartao eu susto nossa paguei eu nao sabe...</td>\n",
              "      <td>o meu cartão eu susto nossa paguei eu não sabe...</td>\n",
              "      <td>------</td>\n",
              "      <td>No meu cartão vi uma compra que não conheço, g...</td>\n",
              "      <td>Me assustei com um pagamento desconhecido que ...</td>\n",
              "      <td>Eu me assustei com uma compra no meu cartão. E...</td>\n",
              "      <td>Me assustei com um pagamento em meu cartão que...</td>\n",
              "      <td>Eu cancelo em meu cartão valor que não conheço</td>\n",
              "      <td>O-S-V</td>\n",
              "      <td>NaN</td>\n",
              "      <td>NaN</td>\n",
              "      <td>Direcional: Ver / Ir / Comprar / Explicar\\n\\nA...</td>\n",
              "      <td>Não</td>\n",
              "      <td>Não</td>\n",
              "    </tr>\n",
              "  </tbody>\n",
              "</table>\n",
              "</div>\n",
              "      <button class=\"colab-df-convert\" onclick=\"convertToInteractive('df-0a9bab58-7868-4ec0-a692-4c74c24ee1eb')\"\n",
              "              title=\"Convert this dataframe to an interactive table.\"\n",
              "              style=\"display:none;\">\n",
              "        \n",
              "  <svg xmlns=\"http://www.w3.org/2000/svg\" height=\"24px\"viewBox=\"0 0 24 24\"\n",
              "       width=\"24px\">\n",
              "    <path d=\"M0 0h24v24H0V0z\" fill=\"none\"/>\n",
              "    <path d=\"M18.56 5.44l.94 2.06.94-2.06 2.06-.94-2.06-.94-.94-2.06-.94 2.06-2.06.94zm-11 1L8.5 8.5l.94-2.06 2.06-.94-2.06-.94L8.5 2.5l-.94 2.06-2.06.94zm10 10l.94 2.06.94-2.06 2.06-.94-2.06-.94-.94-2.06-.94 2.06-2.06.94z\"/><path d=\"M17.41 7.96l-1.37-1.37c-.4-.4-.92-.59-1.43-.59-.52 0-1.04.2-1.43.59L10.3 9.45l-7.72 7.72c-.78.78-.78 2.05 0 2.83L4 21.41c.39.39.9.59 1.41.59.51 0 1.02-.2 1.41-.59l7.78-7.78 2.81-2.81c.8-.78.8-2.07 0-2.86zM5.41 20L4 18.59l7.72-7.72 1.47 1.35L5.41 20z\"/>\n",
              "  </svg>\n",
              "      </button>\n",
              "      \n",
              "  <style>\n",
              "    .colab-df-container {\n",
              "      display:flex;\n",
              "      flex-wrap:wrap;\n",
              "      gap: 12px;\n",
              "    }\n",
              "\n",
              "    .colab-df-convert {\n",
              "      background-color: #E8F0FE;\n",
              "      border: none;\n",
              "      border-radius: 50%;\n",
              "      cursor: pointer;\n",
              "      display: none;\n",
              "      fill: #1967D2;\n",
              "      height: 32px;\n",
              "      padding: 0 0 0 0;\n",
              "      width: 32px;\n",
              "    }\n",
              "\n",
              "    .colab-df-convert:hover {\n",
              "      background-color: #E2EBFA;\n",
              "      box-shadow: 0px 1px 2px rgba(60, 64, 67, 0.3), 0px 1px 3px 1px rgba(60, 64, 67, 0.15);\n",
              "      fill: #174EA6;\n",
              "    }\n",
              "\n",
              "    [theme=dark] .colab-df-convert {\n",
              "      background-color: #3B4455;\n",
              "      fill: #D2E3FC;\n",
              "    }\n",
              "\n",
              "    [theme=dark] .colab-df-convert:hover {\n",
              "      background-color: #434B5C;\n",
              "      box-shadow: 0px 1px 3px 1px rgba(0, 0, 0, 0.15);\n",
              "      filter: drop-shadow(0px 1px 2px rgba(0, 0, 0, 0.3));\n",
              "      fill: #FFFFFF;\n",
              "    }\n",
              "  </style>\n",
              "\n",
              "      <script>\n",
              "        const buttonEl =\n",
              "          document.querySelector('#df-0a9bab58-7868-4ec0-a692-4c74c24ee1eb button.colab-df-convert');\n",
              "        buttonEl.style.display =\n",
              "          google.colab.kernel.accessAllowed ? 'block' : 'none';\n",
              "\n",
              "        async function convertToInteractive(key) {\n",
              "          const element = document.querySelector('#df-0a9bab58-7868-4ec0-a692-4c74c24ee1eb');\n",
              "          const dataTable =\n",
              "            await google.colab.kernel.invokeFunction('convertToInteractive',\n",
              "                                                     [key], {});\n",
              "          if (!dataTable) return;\n",
              "\n",
              "          const docLinkHtml = 'Like what you see? Visit the ' +\n",
              "            '<a target=\"_blank\" href=https://colab.research.google.com/notebooks/data_table.ipynb>data table notebook</a>'\n",
              "            + ' to learn more about interactive tables.';\n",
              "          element.innerHTML = '';\n",
              "          dataTable['output_type'] = 'display_data';\n",
              "          await google.colab.output.renderOutput(dataTable, element);\n",
              "          const docLink = document.createElement('div');\n",
              "          docLink.innerHTML = docLinkHtml;\n",
              "          element.appendChild(docLink);\n",
              "        }\n",
              "      </script>\n",
              "    </div>\n",
              "  </div>\n",
              "  "
            ]
          },
          "metadata": {},
          "execution_count": 16
        }
      ]
    },
    {
      "cell_type": "code",
      "source": [
        "df_Translate = df_read[[\"Português Surdo (teclado QWERTY correção de palavras)\",\"Português (retradução Fabio - palavras surdo QWERTY e mensagem final)\"]] "
      ],
      "metadata": {
        "id": "JNKzM0tly2Ga"
      },
      "execution_count": null,
      "outputs": []
    },
    {
      "cell_type": "code",
      "source": [
        "df_Translate.rename(columns = {\"Português Surdo (teclado QWERTY correção de palavras)\": 'Portugues_Surdo', \"Português (retradução Fabio - palavras surdo QWERTY e mensagem final)\": 'Portugues'}, inplace = True)"
      ],
      "metadata": {
        "colab": {
          "base_uri": "https://localhost:8080/"
        },
        "id": "UPH1WZV5z7ZL",
        "outputId": "5f444dd4-8297-41e9-da8c-1f21ad6a901d"
      },
      "execution_count": null,
      "outputs": [
        {
          "output_type": "stream",
          "name": "stderr",
          "text": [
            "/usr/local/lib/python3.7/dist-packages/pandas/core/frame.py:5047: SettingWithCopyWarning: \n",
            "A value is trying to be set on a copy of a slice from a DataFrame\n",
            "\n",
            "See the caveats in the documentation: https://pandas.pydata.org/pandas-docs/stable/user_guide/indexing.html#returning-a-view-versus-a-copy\n",
            "  errors=errors,\n"
          ]
        }
      ]
    },
    {
      "cell_type": "code",
      "source": [
        "df_Translate[:25]"
      ],
      "metadata": {
        "colab": {
          "base_uri": "https://localhost:8080/",
          "height": 833
        },
        "id": "gqFBtXf3zzhc",
        "outputId": "2252b5bf-5918-4a86-b3b9-877eaf962ab5"
      },
      "execution_count": null,
      "outputs": [
        {
          "output_type": "execute_result",
          "data": {
            "text/plain": [
              "                                      Portugues_Surdo  \\\n",
              "0                          banco meu cartão problema.   \n",
              "1   o meu cartão eu susto nossa paguei eu não sabe...   \n",
              "2          o meu cartão 4 parcelado quer pagar final.   \n",
              "3   meu INSS problema salário precisa ir conversar...   \n",
              "4   meu banco Santander não gosto eu quer trocar b...   \n",
              "5   eu conversar combinar débito espera 15 dias ch...   \n",
              "6   meu trabalho todos os dias 30 dias certo combi...   \n",
              "7   meu salário depois celular Vivo dia 10 pagamen...   \n",
              "8   meu cartão comprar conta e-mail outro ano eu s...   \n",
              "9   meu carteira perder rua procurar não achar pre...   \n",
              "10  meu celular mensagem e ligar promoção TV 85. v...   \n",
              "11  app banco chat eu quer cancelar cartão credito...   \n",
              "12  o meu conta errei avisar 1 mil precisa site ca...   \n",
              "13  o meu cartão quebrei perder precisar novo pedi...   \n",
              "14  eu ver IPhone 13 cashback 2mil reais eu vou pa...   \n",
              "15  eu ver preço IPhone Pro Max, eu pensar bom dep...   \n",
              "16  banco chat. bom dia eu comprei 3 vezes errei s...   \n",
              "17  eu problema negativo banco triste. banco chat ...   \n",
              "18                                                NaN   \n",
              "19  eu pagar Pix manda mulher. eu ver celular apli...   \n",
              "20  a minha amiga pedir ajuda Pix 500 reais você e...   \n",
              "21  meu cartao errei 3 vezes bloqueio problema ir ...   \n",
              "22  eu peço app cartão um 10 ou 15 dias depois che...   \n",
              "23  eu ir supermercado carne depois caixa meu cart...   \n",
              "24  eu vi televisão notícia hacker pix 7 mil reais...   \n",
              "\n",
              "                                            Portugues  \n",
              "0              Meu cartão do banco está com problema.  \n",
              "1   Eu me assustei com uma compra no meu cartão. E...  \n",
              "2   No meu cartão tem uma compra em 4 parcelas. Qu...  \n",
              "3   Eu tive um problema em com meu salário do INSS...  \n",
              "4   Meu Banco é o Santander e eu não gosto. Eu que...  \n",
              "5   Eu conversei e ficou um cartão de débito. Espe...  \n",
              "6   Eu trabalhei todos os 30 dias corretamente. O ...  \n",
              "7   Depois de receber o meu salário, no dia 10 per...  \n",
              "8   Recebi por e-mail uma compra que fiz outro ano...  \n",
              "9   Perdi minha carteira na rua, procurei mas não ...  \n",
              "10  Recebi mensagem e ligação, no meu celular, sob...  \n",
              "11  No chat do app do banco eu disse que não queri...  \n",
              "12  Errei na minha compra de 1 mil reais, preciso ...  \n",
              "13  Quebrei / perdi meu cartão , e preciso pedir u...  \n",
              "14  Vi um Iphone 13 com cashback de 2 mil reais. C...  \n",
              "15  Eu vi o preço do Iphone pro max e achei que o ...  \n",
              "16  No chat do banco: \"Bom dia. Eu errei e comprei...  \n",
              "17  Estou triste pois estou negativo no banco. No ...  \n",
              "18                                                NaN  \n",
              "19  Eu mandei um pagamento via PIX para uma mulher...  \n",
              "20  Uma amiga minha pediu ajuda e fez um PIX de 50...  \n",
              "21                                                NaN  \n",
              "22                                                NaN  \n",
              "23                                                NaN  \n",
              "24                                                NaN  "
            ],
            "text/html": [
              "\n",
              "  <div id=\"df-4247d965-48f1-48d2-a262-fffd30690ee7\">\n",
              "    <div class=\"colab-df-container\">\n",
              "      <div>\n",
              "<style scoped>\n",
              "    .dataframe tbody tr th:only-of-type {\n",
              "        vertical-align: middle;\n",
              "    }\n",
              "\n",
              "    .dataframe tbody tr th {\n",
              "        vertical-align: top;\n",
              "    }\n",
              "\n",
              "    .dataframe thead th {\n",
              "        text-align: right;\n",
              "    }\n",
              "</style>\n",
              "<table border=\"1\" class=\"dataframe\">\n",
              "  <thead>\n",
              "    <tr style=\"text-align: right;\">\n",
              "      <th></th>\n",
              "      <th>Portugues_Surdo</th>\n",
              "      <th>Portugues</th>\n",
              "    </tr>\n",
              "  </thead>\n",
              "  <tbody>\n",
              "    <tr>\n",
              "      <th>0</th>\n",
              "      <td>banco meu cartão problema.</td>\n",
              "      <td>Meu cartão do banco está com problema.</td>\n",
              "    </tr>\n",
              "    <tr>\n",
              "      <th>1</th>\n",
              "      <td>o meu cartão eu susto nossa paguei eu não sabe...</td>\n",
              "      <td>Eu me assustei com uma compra no meu cartão. E...</td>\n",
              "    </tr>\n",
              "    <tr>\n",
              "      <th>2</th>\n",
              "      <td>o meu cartão 4 parcelado quer pagar final.</td>\n",
              "      <td>No meu cartão tem uma compra em 4 parcelas. Qu...</td>\n",
              "    </tr>\n",
              "    <tr>\n",
              "      <th>3</th>\n",
              "      <td>meu INSS problema salário precisa ir conversar...</td>\n",
              "      <td>Eu tive um problema em com meu salário do INSS...</td>\n",
              "    </tr>\n",
              "    <tr>\n",
              "      <th>4</th>\n",
              "      <td>meu banco Santander não gosto eu quer trocar b...</td>\n",
              "      <td>Meu Banco é o Santander e eu não gosto. Eu que...</td>\n",
              "    </tr>\n",
              "    <tr>\n",
              "      <th>5</th>\n",
              "      <td>eu conversar combinar débito espera 15 dias ch...</td>\n",
              "      <td>Eu conversei e ficou um cartão de débito. Espe...</td>\n",
              "    </tr>\n",
              "    <tr>\n",
              "      <th>6</th>\n",
              "      <td>meu trabalho todos os dias 30 dias certo combi...</td>\n",
              "      <td>Eu trabalhei todos os 30 dias corretamente. O ...</td>\n",
              "    </tr>\n",
              "    <tr>\n",
              "      <th>7</th>\n",
              "      <td>meu salário depois celular Vivo dia 10 pagamen...</td>\n",
              "      <td>Depois de receber o meu salário, no dia 10 per...</td>\n",
              "    </tr>\n",
              "    <tr>\n",
              "      <th>8</th>\n",
              "      <td>meu cartão comprar conta e-mail outro ano eu s...</td>\n",
              "      <td>Recebi por e-mail uma compra que fiz outro ano...</td>\n",
              "    </tr>\n",
              "    <tr>\n",
              "      <th>9</th>\n",
              "      <td>meu carteira perder rua procurar não achar pre...</td>\n",
              "      <td>Perdi minha carteira na rua, procurei mas não ...</td>\n",
              "    </tr>\n",
              "    <tr>\n",
              "      <th>10</th>\n",
              "      <td>meu celular mensagem e ligar promoção TV 85. v...</td>\n",
              "      <td>Recebi mensagem e ligação, no meu celular, sob...</td>\n",
              "    </tr>\n",
              "    <tr>\n",
              "      <th>11</th>\n",
              "      <td>app banco chat eu quer cancelar cartão credito...</td>\n",
              "      <td>No chat do app do banco eu disse que não queri...</td>\n",
              "    </tr>\n",
              "    <tr>\n",
              "      <th>12</th>\n",
              "      <td>o meu conta errei avisar 1 mil precisa site ca...</td>\n",
              "      <td>Errei na minha compra de 1 mil reais, preciso ...</td>\n",
              "    </tr>\n",
              "    <tr>\n",
              "      <th>13</th>\n",
              "      <td>o meu cartão quebrei perder precisar novo pedi...</td>\n",
              "      <td>Quebrei / perdi meu cartão , e preciso pedir u...</td>\n",
              "    </tr>\n",
              "    <tr>\n",
              "      <th>14</th>\n",
              "      <td>eu ver IPhone 13 cashback 2mil reais eu vou pa...</td>\n",
              "      <td>Vi um Iphone 13 com cashback de 2 mil reais. C...</td>\n",
              "    </tr>\n",
              "    <tr>\n",
              "      <th>15</th>\n",
              "      <td>eu ver preço IPhone Pro Max, eu pensar bom dep...</td>\n",
              "      <td>Eu vi o preço do Iphone pro max e achei que o ...</td>\n",
              "    </tr>\n",
              "    <tr>\n",
              "      <th>16</th>\n",
              "      <td>banco chat. bom dia eu comprei 3 vezes errei s...</td>\n",
              "      <td>No chat do banco: \"Bom dia. Eu errei e comprei...</td>\n",
              "    </tr>\n",
              "    <tr>\n",
              "      <th>17</th>\n",
              "      <td>eu problema negativo banco triste. banco chat ...</td>\n",
              "      <td>Estou triste pois estou negativo no banco. No ...</td>\n",
              "    </tr>\n",
              "    <tr>\n",
              "      <th>18</th>\n",
              "      <td>NaN</td>\n",
              "      <td>NaN</td>\n",
              "    </tr>\n",
              "    <tr>\n",
              "      <th>19</th>\n",
              "      <td>eu pagar Pix manda mulher. eu ver celular apli...</td>\n",
              "      <td>Eu mandei um pagamento via PIX para uma mulher...</td>\n",
              "    </tr>\n",
              "    <tr>\n",
              "      <th>20</th>\n",
              "      <td>a minha amiga pedir ajuda Pix 500 reais você e...</td>\n",
              "      <td>Uma amiga minha pediu ajuda e fez um PIX de 50...</td>\n",
              "    </tr>\n",
              "    <tr>\n",
              "      <th>21</th>\n",
              "      <td>meu cartao errei 3 vezes bloqueio problema ir ...</td>\n",
              "      <td>NaN</td>\n",
              "    </tr>\n",
              "    <tr>\n",
              "      <th>22</th>\n",
              "      <td>eu peço app cartão um 10 ou 15 dias depois che...</td>\n",
              "      <td>NaN</td>\n",
              "    </tr>\n",
              "    <tr>\n",
              "      <th>23</th>\n",
              "      <td>eu ir supermercado carne depois caixa meu cart...</td>\n",
              "      <td>NaN</td>\n",
              "    </tr>\n",
              "    <tr>\n",
              "      <th>24</th>\n",
              "      <td>eu vi televisão notícia hacker pix 7 mil reais...</td>\n",
              "      <td>NaN</td>\n",
              "    </tr>\n",
              "  </tbody>\n",
              "</table>\n",
              "</div>\n",
              "      <button class=\"colab-df-convert\" onclick=\"convertToInteractive('df-4247d965-48f1-48d2-a262-fffd30690ee7')\"\n",
              "              title=\"Convert this dataframe to an interactive table.\"\n",
              "              style=\"display:none;\">\n",
              "        \n",
              "  <svg xmlns=\"http://www.w3.org/2000/svg\" height=\"24px\"viewBox=\"0 0 24 24\"\n",
              "       width=\"24px\">\n",
              "    <path d=\"M0 0h24v24H0V0z\" fill=\"none\"/>\n",
              "    <path d=\"M18.56 5.44l.94 2.06.94-2.06 2.06-.94-2.06-.94-.94-2.06-.94 2.06-2.06.94zm-11 1L8.5 8.5l.94-2.06 2.06-.94-2.06-.94L8.5 2.5l-.94 2.06-2.06.94zm10 10l.94 2.06.94-2.06 2.06-.94-2.06-.94-.94-2.06-.94 2.06-2.06.94z\"/><path d=\"M17.41 7.96l-1.37-1.37c-.4-.4-.92-.59-1.43-.59-.52 0-1.04.2-1.43.59L10.3 9.45l-7.72 7.72c-.78.78-.78 2.05 0 2.83L4 21.41c.39.39.9.59 1.41.59.51 0 1.02-.2 1.41-.59l7.78-7.78 2.81-2.81c.8-.78.8-2.07 0-2.86zM5.41 20L4 18.59l7.72-7.72 1.47 1.35L5.41 20z\"/>\n",
              "  </svg>\n",
              "      </button>\n",
              "      \n",
              "  <style>\n",
              "    .colab-df-container {\n",
              "      display:flex;\n",
              "      flex-wrap:wrap;\n",
              "      gap: 12px;\n",
              "    }\n",
              "\n",
              "    .colab-df-convert {\n",
              "      background-color: #E8F0FE;\n",
              "      border: none;\n",
              "      border-radius: 50%;\n",
              "      cursor: pointer;\n",
              "      display: none;\n",
              "      fill: #1967D2;\n",
              "      height: 32px;\n",
              "      padding: 0 0 0 0;\n",
              "      width: 32px;\n",
              "    }\n",
              "\n",
              "    .colab-df-convert:hover {\n",
              "      background-color: #E2EBFA;\n",
              "      box-shadow: 0px 1px 2px rgba(60, 64, 67, 0.3), 0px 1px 3px 1px rgba(60, 64, 67, 0.15);\n",
              "      fill: #174EA6;\n",
              "    }\n",
              "\n",
              "    [theme=dark] .colab-df-convert {\n",
              "      background-color: #3B4455;\n",
              "      fill: #D2E3FC;\n",
              "    }\n",
              "\n",
              "    [theme=dark] .colab-df-convert:hover {\n",
              "      background-color: #434B5C;\n",
              "      box-shadow: 0px 1px 3px 1px rgba(0, 0, 0, 0.15);\n",
              "      filter: drop-shadow(0px 1px 2px rgba(0, 0, 0, 0.3));\n",
              "      fill: #FFFFFF;\n",
              "    }\n",
              "  </style>\n",
              "\n",
              "      <script>\n",
              "        const buttonEl =\n",
              "          document.querySelector('#df-4247d965-48f1-48d2-a262-fffd30690ee7 button.colab-df-convert');\n",
              "        buttonEl.style.display =\n",
              "          google.colab.kernel.accessAllowed ? 'block' : 'none';\n",
              "\n",
              "        async function convertToInteractive(key) {\n",
              "          const element = document.querySelector('#df-4247d965-48f1-48d2-a262-fffd30690ee7');\n",
              "          const dataTable =\n",
              "            await google.colab.kernel.invokeFunction('convertToInteractive',\n",
              "                                                     [key], {});\n",
              "          if (!dataTable) return;\n",
              "\n",
              "          const docLinkHtml = 'Like what you see? Visit the ' +\n",
              "            '<a target=\"_blank\" href=https://colab.research.google.com/notebooks/data_table.ipynb>data table notebook</a>'\n",
              "            + ' to learn more about interactive tables.';\n",
              "          element.innerHTML = '';\n",
              "          dataTable['output_type'] = 'display_data';\n",
              "          await google.colab.output.renderOutput(dataTable, element);\n",
              "          const docLink = document.createElement('div');\n",
              "          docLink.innerHTML = docLinkHtml;\n",
              "          element.appendChild(docLink);\n",
              "        }\n",
              "      </script>\n",
              "    </div>\n",
              "  </div>\n",
              "  "
            ]
          },
          "metadata": {},
          "execution_count": 19
        }
      ]
    },
    {
      "cell_type": "code",
      "source": [
        "df_Translate = df_Translate[:21] #lembrando que o último parâmetro é excluído do Slice!"
      ],
      "metadata": {
        "id": "s7Ml3X4807v6"
      },
      "execution_count": null,
      "outputs": []
    },
    {
      "cell_type": "code",
      "source": [
        "df_Translate"
      ],
      "metadata": {
        "colab": {
          "base_uri": "https://localhost:8080/",
          "height": 708
        },
        "id": "XWq8dLh11IGR",
        "outputId": "8f197f2f-e88a-4ba9-b702-30f7d26ca365"
      },
      "execution_count": null,
      "outputs": [
        {
          "output_type": "execute_result",
          "data": {
            "text/plain": [
              "                                      Portugues_Surdo  \\\n",
              "0                          banco meu cartão problema.   \n",
              "1   o meu cartão eu susto nossa paguei eu não sabe...   \n",
              "2          o meu cartão 4 parcelado quer pagar final.   \n",
              "3   meu INSS problema salário precisa ir conversar...   \n",
              "4   meu banco Santander não gosto eu quer trocar b...   \n",
              "5   eu conversar combinar débito espera 15 dias ch...   \n",
              "6   meu trabalho todos os dias 30 dias certo combi...   \n",
              "7   meu salário depois celular Vivo dia 10 pagamen...   \n",
              "8   meu cartão comprar conta e-mail outro ano eu s...   \n",
              "9   meu carteira perder rua procurar não achar pre...   \n",
              "10  meu celular mensagem e ligar promoção TV 85. v...   \n",
              "11  app banco chat eu quer cancelar cartão credito...   \n",
              "12  o meu conta errei avisar 1 mil precisa site ca...   \n",
              "13  o meu cartão quebrei perder precisar novo pedi...   \n",
              "14  eu ver IPhone 13 cashback 2mil reais eu vou pa...   \n",
              "15  eu ver preço IPhone Pro Max, eu pensar bom dep...   \n",
              "16  banco chat. bom dia eu comprei 3 vezes errei s...   \n",
              "17  eu problema negativo banco triste. banco chat ...   \n",
              "18                                                NaN   \n",
              "19  eu pagar Pix manda mulher. eu ver celular apli...   \n",
              "20  a minha amiga pedir ajuda Pix 500 reais você e...   \n",
              "\n",
              "                                            Portugues  \n",
              "0              Meu cartão do banco está com problema.  \n",
              "1   Eu me assustei com uma compra no meu cartão. E...  \n",
              "2   No meu cartão tem uma compra em 4 parcelas. Qu...  \n",
              "3   Eu tive um problema em com meu salário do INSS...  \n",
              "4   Meu Banco é o Santander e eu não gosto. Eu que...  \n",
              "5   Eu conversei e ficou um cartão de débito. Espe...  \n",
              "6   Eu trabalhei todos os 30 dias corretamente. O ...  \n",
              "7   Depois de receber o meu salário, no dia 10 per...  \n",
              "8   Recebi por e-mail uma compra que fiz outro ano...  \n",
              "9   Perdi minha carteira na rua, procurei mas não ...  \n",
              "10  Recebi mensagem e ligação, no meu celular, sob...  \n",
              "11  No chat do app do banco eu disse que não queri...  \n",
              "12  Errei na minha compra de 1 mil reais, preciso ...  \n",
              "13  Quebrei / perdi meu cartão , e preciso pedir u...  \n",
              "14  Vi um Iphone 13 com cashback de 2 mil reais. C...  \n",
              "15  Eu vi o preço do Iphone pro max e achei que o ...  \n",
              "16  No chat do banco: \"Bom dia. Eu errei e comprei...  \n",
              "17  Estou triste pois estou negativo no banco. No ...  \n",
              "18                                                NaN  \n",
              "19  Eu mandei um pagamento via PIX para uma mulher...  \n",
              "20  Uma amiga minha pediu ajuda e fez um PIX de 50...  "
            ],
            "text/html": [
              "\n",
              "  <div id=\"df-c4f7fd03-4a80-4c99-8afa-51402f9df162\">\n",
              "    <div class=\"colab-df-container\">\n",
              "      <div>\n",
              "<style scoped>\n",
              "    .dataframe tbody tr th:only-of-type {\n",
              "        vertical-align: middle;\n",
              "    }\n",
              "\n",
              "    .dataframe tbody tr th {\n",
              "        vertical-align: top;\n",
              "    }\n",
              "\n",
              "    .dataframe thead th {\n",
              "        text-align: right;\n",
              "    }\n",
              "</style>\n",
              "<table border=\"1\" class=\"dataframe\">\n",
              "  <thead>\n",
              "    <tr style=\"text-align: right;\">\n",
              "      <th></th>\n",
              "      <th>Portugues_Surdo</th>\n",
              "      <th>Portugues</th>\n",
              "    </tr>\n",
              "  </thead>\n",
              "  <tbody>\n",
              "    <tr>\n",
              "      <th>0</th>\n",
              "      <td>banco meu cartão problema.</td>\n",
              "      <td>Meu cartão do banco está com problema.</td>\n",
              "    </tr>\n",
              "    <tr>\n",
              "      <th>1</th>\n",
              "      <td>o meu cartão eu susto nossa paguei eu não sabe...</td>\n",
              "      <td>Eu me assustei com uma compra no meu cartão. E...</td>\n",
              "    </tr>\n",
              "    <tr>\n",
              "      <th>2</th>\n",
              "      <td>o meu cartão 4 parcelado quer pagar final.</td>\n",
              "      <td>No meu cartão tem uma compra em 4 parcelas. Qu...</td>\n",
              "    </tr>\n",
              "    <tr>\n",
              "      <th>3</th>\n",
              "      <td>meu INSS problema salário precisa ir conversar...</td>\n",
              "      <td>Eu tive um problema em com meu salário do INSS...</td>\n",
              "    </tr>\n",
              "    <tr>\n",
              "      <th>4</th>\n",
              "      <td>meu banco Santander não gosto eu quer trocar b...</td>\n",
              "      <td>Meu Banco é o Santander e eu não gosto. Eu que...</td>\n",
              "    </tr>\n",
              "    <tr>\n",
              "      <th>5</th>\n",
              "      <td>eu conversar combinar débito espera 15 dias ch...</td>\n",
              "      <td>Eu conversei e ficou um cartão de débito. Espe...</td>\n",
              "    </tr>\n",
              "    <tr>\n",
              "      <th>6</th>\n",
              "      <td>meu trabalho todos os dias 30 dias certo combi...</td>\n",
              "      <td>Eu trabalhei todos os 30 dias corretamente. O ...</td>\n",
              "    </tr>\n",
              "    <tr>\n",
              "      <th>7</th>\n",
              "      <td>meu salário depois celular Vivo dia 10 pagamen...</td>\n",
              "      <td>Depois de receber o meu salário, no dia 10 per...</td>\n",
              "    </tr>\n",
              "    <tr>\n",
              "      <th>8</th>\n",
              "      <td>meu cartão comprar conta e-mail outro ano eu s...</td>\n",
              "      <td>Recebi por e-mail uma compra que fiz outro ano...</td>\n",
              "    </tr>\n",
              "    <tr>\n",
              "      <th>9</th>\n",
              "      <td>meu carteira perder rua procurar não achar pre...</td>\n",
              "      <td>Perdi minha carteira na rua, procurei mas não ...</td>\n",
              "    </tr>\n",
              "    <tr>\n",
              "      <th>10</th>\n",
              "      <td>meu celular mensagem e ligar promoção TV 85. v...</td>\n",
              "      <td>Recebi mensagem e ligação, no meu celular, sob...</td>\n",
              "    </tr>\n",
              "    <tr>\n",
              "      <th>11</th>\n",
              "      <td>app banco chat eu quer cancelar cartão credito...</td>\n",
              "      <td>No chat do app do banco eu disse que não queri...</td>\n",
              "    </tr>\n",
              "    <tr>\n",
              "      <th>12</th>\n",
              "      <td>o meu conta errei avisar 1 mil precisa site ca...</td>\n",
              "      <td>Errei na minha compra de 1 mil reais, preciso ...</td>\n",
              "    </tr>\n",
              "    <tr>\n",
              "      <th>13</th>\n",
              "      <td>o meu cartão quebrei perder precisar novo pedi...</td>\n",
              "      <td>Quebrei / perdi meu cartão , e preciso pedir u...</td>\n",
              "    </tr>\n",
              "    <tr>\n",
              "      <th>14</th>\n",
              "      <td>eu ver IPhone 13 cashback 2mil reais eu vou pa...</td>\n",
              "      <td>Vi um Iphone 13 com cashback de 2 mil reais. C...</td>\n",
              "    </tr>\n",
              "    <tr>\n",
              "      <th>15</th>\n",
              "      <td>eu ver preço IPhone Pro Max, eu pensar bom dep...</td>\n",
              "      <td>Eu vi o preço do Iphone pro max e achei que o ...</td>\n",
              "    </tr>\n",
              "    <tr>\n",
              "      <th>16</th>\n",
              "      <td>banco chat. bom dia eu comprei 3 vezes errei s...</td>\n",
              "      <td>No chat do banco: \"Bom dia. Eu errei e comprei...</td>\n",
              "    </tr>\n",
              "    <tr>\n",
              "      <th>17</th>\n",
              "      <td>eu problema negativo banco triste. banco chat ...</td>\n",
              "      <td>Estou triste pois estou negativo no banco. No ...</td>\n",
              "    </tr>\n",
              "    <tr>\n",
              "      <th>18</th>\n",
              "      <td>NaN</td>\n",
              "      <td>NaN</td>\n",
              "    </tr>\n",
              "    <tr>\n",
              "      <th>19</th>\n",
              "      <td>eu pagar Pix manda mulher. eu ver celular apli...</td>\n",
              "      <td>Eu mandei um pagamento via PIX para uma mulher...</td>\n",
              "    </tr>\n",
              "    <tr>\n",
              "      <th>20</th>\n",
              "      <td>a minha amiga pedir ajuda Pix 500 reais você e...</td>\n",
              "      <td>Uma amiga minha pediu ajuda e fez um PIX de 50...</td>\n",
              "    </tr>\n",
              "  </tbody>\n",
              "</table>\n",
              "</div>\n",
              "      <button class=\"colab-df-convert\" onclick=\"convertToInteractive('df-c4f7fd03-4a80-4c99-8afa-51402f9df162')\"\n",
              "              title=\"Convert this dataframe to an interactive table.\"\n",
              "              style=\"display:none;\">\n",
              "        \n",
              "  <svg xmlns=\"http://www.w3.org/2000/svg\" height=\"24px\"viewBox=\"0 0 24 24\"\n",
              "       width=\"24px\">\n",
              "    <path d=\"M0 0h24v24H0V0z\" fill=\"none\"/>\n",
              "    <path d=\"M18.56 5.44l.94 2.06.94-2.06 2.06-.94-2.06-.94-.94-2.06-.94 2.06-2.06.94zm-11 1L8.5 8.5l.94-2.06 2.06-.94-2.06-.94L8.5 2.5l-.94 2.06-2.06.94zm10 10l.94 2.06.94-2.06 2.06-.94-2.06-.94-.94-2.06-.94 2.06-2.06.94z\"/><path d=\"M17.41 7.96l-1.37-1.37c-.4-.4-.92-.59-1.43-.59-.52 0-1.04.2-1.43.59L10.3 9.45l-7.72 7.72c-.78.78-.78 2.05 0 2.83L4 21.41c.39.39.9.59 1.41.59.51 0 1.02-.2 1.41-.59l7.78-7.78 2.81-2.81c.8-.78.8-2.07 0-2.86zM5.41 20L4 18.59l7.72-7.72 1.47 1.35L5.41 20z\"/>\n",
              "  </svg>\n",
              "      </button>\n",
              "      \n",
              "  <style>\n",
              "    .colab-df-container {\n",
              "      display:flex;\n",
              "      flex-wrap:wrap;\n",
              "      gap: 12px;\n",
              "    }\n",
              "\n",
              "    .colab-df-convert {\n",
              "      background-color: #E8F0FE;\n",
              "      border: none;\n",
              "      border-radius: 50%;\n",
              "      cursor: pointer;\n",
              "      display: none;\n",
              "      fill: #1967D2;\n",
              "      height: 32px;\n",
              "      padding: 0 0 0 0;\n",
              "      width: 32px;\n",
              "    }\n",
              "\n",
              "    .colab-df-convert:hover {\n",
              "      background-color: #E2EBFA;\n",
              "      box-shadow: 0px 1px 2px rgba(60, 64, 67, 0.3), 0px 1px 3px 1px rgba(60, 64, 67, 0.15);\n",
              "      fill: #174EA6;\n",
              "    }\n",
              "\n",
              "    [theme=dark] .colab-df-convert {\n",
              "      background-color: #3B4455;\n",
              "      fill: #D2E3FC;\n",
              "    }\n",
              "\n",
              "    [theme=dark] .colab-df-convert:hover {\n",
              "      background-color: #434B5C;\n",
              "      box-shadow: 0px 1px 3px 1px rgba(0, 0, 0, 0.15);\n",
              "      filter: drop-shadow(0px 1px 2px rgba(0, 0, 0, 0.3));\n",
              "      fill: #FFFFFF;\n",
              "    }\n",
              "  </style>\n",
              "\n",
              "      <script>\n",
              "        const buttonEl =\n",
              "          document.querySelector('#df-c4f7fd03-4a80-4c99-8afa-51402f9df162 button.colab-df-convert');\n",
              "        buttonEl.style.display =\n",
              "          google.colab.kernel.accessAllowed ? 'block' : 'none';\n",
              "\n",
              "        async function convertToInteractive(key) {\n",
              "          const element = document.querySelector('#df-c4f7fd03-4a80-4c99-8afa-51402f9df162');\n",
              "          const dataTable =\n",
              "            await google.colab.kernel.invokeFunction('convertToInteractive',\n",
              "                                                     [key], {});\n",
              "          if (!dataTable) return;\n",
              "\n",
              "          const docLinkHtml = 'Like what you see? Visit the ' +\n",
              "            '<a target=\"_blank\" href=https://colab.research.google.com/notebooks/data_table.ipynb>data table notebook</a>'\n",
              "            + ' to learn more about interactive tables.';\n",
              "          element.innerHTML = '';\n",
              "          dataTable['output_type'] = 'display_data';\n",
              "          await google.colab.output.renderOutput(dataTable, element);\n",
              "          const docLink = document.createElement('div');\n",
              "          docLink.innerHTML = docLinkHtml;\n",
              "          element.appendChild(docLink);\n",
              "        }\n",
              "      </script>\n",
              "    </div>\n",
              "  </div>\n",
              "  "
            ]
          },
          "metadata": {},
          "execution_count": 21
        }
      ]
    },
    {
      "cell_type": "code",
      "source": [
        "df_Translate.drop(18,inplace=True)"
      ],
      "metadata": {
        "id": "TlhcJUpr6YPf"
      },
      "execution_count": null,
      "outputs": []
    },
    {
      "cell_type": "code",
      "source": [
        "df_Translate"
      ],
      "metadata": {
        "colab": {
          "base_uri": "https://localhost:8080/",
          "height": 677
        },
        "id": "xxzObE4l63Me",
        "outputId": "0cbcd2f1-fbe4-4d01-d671-19f8c3b9eeb2"
      },
      "execution_count": null,
      "outputs": [
        {
          "output_type": "execute_result",
          "data": {
            "text/plain": [
              "                                      Portugues_Surdo  \\\n",
              "0                          banco meu cartão problema.   \n",
              "1   o meu cartão eu susto nossa paguei eu não sabe...   \n",
              "2          o meu cartão 4 parcelado quer pagar final.   \n",
              "3   meu INSS problema salário precisa ir conversar...   \n",
              "4   meu banco Santander não gosto eu quer trocar b...   \n",
              "5   eu conversar combinar débito espera 15 dias ch...   \n",
              "6   meu trabalho todos os dias 30 dias certo combi...   \n",
              "7   meu salário depois celular Vivo dia 10 pagamen...   \n",
              "8   meu cartão comprar conta e-mail outro ano eu s...   \n",
              "9   meu carteira perder rua procurar não achar pre...   \n",
              "10  meu celular mensagem e ligar promoção TV 85. v...   \n",
              "11  app banco chat eu quer cancelar cartão credito...   \n",
              "12  o meu conta errei avisar 1 mil precisa site ca...   \n",
              "13  o meu cartão quebrei perder precisar novo pedi...   \n",
              "14  eu ver IPhone 13 cashback 2mil reais eu vou pa...   \n",
              "15  eu ver preço IPhone Pro Max, eu pensar bom dep...   \n",
              "16  banco chat. bom dia eu comprei 3 vezes errei s...   \n",
              "17  eu problema negativo banco triste. banco chat ...   \n",
              "19  eu pagar Pix manda mulher. eu ver celular apli...   \n",
              "20  a minha amiga pedir ajuda Pix 500 reais você e...   \n",
              "\n",
              "                                            Portugues  \n",
              "0              Meu cartão do banco está com problema.  \n",
              "1   Eu me assustei com uma compra no meu cartão. E...  \n",
              "2   No meu cartão tem uma compra em 4 parcelas. Qu...  \n",
              "3   Eu tive um problema em com meu salário do INSS...  \n",
              "4   Meu Banco é o Santander e eu não gosto. Eu que...  \n",
              "5   Eu conversei e ficou um cartão de débito. Espe...  \n",
              "6   Eu trabalhei todos os 30 dias corretamente. O ...  \n",
              "7   Depois de receber o meu salário, no dia 10 per...  \n",
              "8   Recebi por e-mail uma compra que fiz outro ano...  \n",
              "9   Perdi minha carteira na rua, procurei mas não ...  \n",
              "10  Recebi mensagem e ligação, no meu celular, sob...  \n",
              "11  No chat do app do banco eu disse que não queri...  \n",
              "12  Errei na minha compra de 1 mil reais, preciso ...  \n",
              "13  Quebrei / perdi meu cartão , e preciso pedir u...  \n",
              "14  Vi um Iphone 13 com cashback de 2 mil reais. C...  \n",
              "15  Eu vi o preço do Iphone pro max e achei que o ...  \n",
              "16  No chat do banco: \"Bom dia. Eu errei e comprei...  \n",
              "17  Estou triste pois estou negativo no banco. No ...  \n",
              "19  Eu mandei um pagamento via PIX para uma mulher...  \n",
              "20  Uma amiga minha pediu ajuda e fez um PIX de 50...  "
            ],
            "text/html": [
              "\n",
              "  <div id=\"df-86b9aef5-b81a-45ea-aa64-1b44999f1c4a\">\n",
              "    <div class=\"colab-df-container\">\n",
              "      <div>\n",
              "<style scoped>\n",
              "    .dataframe tbody tr th:only-of-type {\n",
              "        vertical-align: middle;\n",
              "    }\n",
              "\n",
              "    .dataframe tbody tr th {\n",
              "        vertical-align: top;\n",
              "    }\n",
              "\n",
              "    .dataframe thead th {\n",
              "        text-align: right;\n",
              "    }\n",
              "</style>\n",
              "<table border=\"1\" class=\"dataframe\">\n",
              "  <thead>\n",
              "    <tr style=\"text-align: right;\">\n",
              "      <th></th>\n",
              "      <th>Portugues_Surdo</th>\n",
              "      <th>Portugues</th>\n",
              "    </tr>\n",
              "  </thead>\n",
              "  <tbody>\n",
              "    <tr>\n",
              "      <th>0</th>\n",
              "      <td>banco meu cartão problema.</td>\n",
              "      <td>Meu cartão do banco está com problema.</td>\n",
              "    </tr>\n",
              "    <tr>\n",
              "      <th>1</th>\n",
              "      <td>o meu cartão eu susto nossa paguei eu não sabe...</td>\n",
              "      <td>Eu me assustei com uma compra no meu cartão. E...</td>\n",
              "    </tr>\n",
              "    <tr>\n",
              "      <th>2</th>\n",
              "      <td>o meu cartão 4 parcelado quer pagar final.</td>\n",
              "      <td>No meu cartão tem uma compra em 4 parcelas. Qu...</td>\n",
              "    </tr>\n",
              "    <tr>\n",
              "      <th>3</th>\n",
              "      <td>meu INSS problema salário precisa ir conversar...</td>\n",
              "      <td>Eu tive um problema em com meu salário do INSS...</td>\n",
              "    </tr>\n",
              "    <tr>\n",
              "      <th>4</th>\n",
              "      <td>meu banco Santander não gosto eu quer trocar b...</td>\n",
              "      <td>Meu Banco é o Santander e eu não gosto. Eu que...</td>\n",
              "    </tr>\n",
              "    <tr>\n",
              "      <th>5</th>\n",
              "      <td>eu conversar combinar débito espera 15 dias ch...</td>\n",
              "      <td>Eu conversei e ficou um cartão de débito. Espe...</td>\n",
              "    </tr>\n",
              "    <tr>\n",
              "      <th>6</th>\n",
              "      <td>meu trabalho todos os dias 30 dias certo combi...</td>\n",
              "      <td>Eu trabalhei todos os 30 dias corretamente. O ...</td>\n",
              "    </tr>\n",
              "    <tr>\n",
              "      <th>7</th>\n",
              "      <td>meu salário depois celular Vivo dia 10 pagamen...</td>\n",
              "      <td>Depois de receber o meu salário, no dia 10 per...</td>\n",
              "    </tr>\n",
              "    <tr>\n",
              "      <th>8</th>\n",
              "      <td>meu cartão comprar conta e-mail outro ano eu s...</td>\n",
              "      <td>Recebi por e-mail uma compra que fiz outro ano...</td>\n",
              "    </tr>\n",
              "    <tr>\n",
              "      <th>9</th>\n",
              "      <td>meu carteira perder rua procurar não achar pre...</td>\n",
              "      <td>Perdi minha carteira na rua, procurei mas não ...</td>\n",
              "    </tr>\n",
              "    <tr>\n",
              "      <th>10</th>\n",
              "      <td>meu celular mensagem e ligar promoção TV 85. v...</td>\n",
              "      <td>Recebi mensagem e ligação, no meu celular, sob...</td>\n",
              "    </tr>\n",
              "    <tr>\n",
              "      <th>11</th>\n",
              "      <td>app banco chat eu quer cancelar cartão credito...</td>\n",
              "      <td>No chat do app do banco eu disse que não queri...</td>\n",
              "    </tr>\n",
              "    <tr>\n",
              "      <th>12</th>\n",
              "      <td>o meu conta errei avisar 1 mil precisa site ca...</td>\n",
              "      <td>Errei na minha compra de 1 mil reais, preciso ...</td>\n",
              "    </tr>\n",
              "    <tr>\n",
              "      <th>13</th>\n",
              "      <td>o meu cartão quebrei perder precisar novo pedi...</td>\n",
              "      <td>Quebrei / perdi meu cartão , e preciso pedir u...</td>\n",
              "    </tr>\n",
              "    <tr>\n",
              "      <th>14</th>\n",
              "      <td>eu ver IPhone 13 cashback 2mil reais eu vou pa...</td>\n",
              "      <td>Vi um Iphone 13 com cashback de 2 mil reais. C...</td>\n",
              "    </tr>\n",
              "    <tr>\n",
              "      <th>15</th>\n",
              "      <td>eu ver preço IPhone Pro Max, eu pensar bom dep...</td>\n",
              "      <td>Eu vi o preço do Iphone pro max e achei que o ...</td>\n",
              "    </tr>\n",
              "    <tr>\n",
              "      <th>16</th>\n",
              "      <td>banco chat. bom dia eu comprei 3 vezes errei s...</td>\n",
              "      <td>No chat do banco: \"Bom dia. Eu errei e comprei...</td>\n",
              "    </tr>\n",
              "    <tr>\n",
              "      <th>17</th>\n",
              "      <td>eu problema negativo banco triste. banco chat ...</td>\n",
              "      <td>Estou triste pois estou negativo no banco. No ...</td>\n",
              "    </tr>\n",
              "    <tr>\n",
              "      <th>19</th>\n",
              "      <td>eu pagar Pix manda mulher. eu ver celular apli...</td>\n",
              "      <td>Eu mandei um pagamento via PIX para uma mulher...</td>\n",
              "    </tr>\n",
              "    <tr>\n",
              "      <th>20</th>\n",
              "      <td>a minha amiga pedir ajuda Pix 500 reais você e...</td>\n",
              "      <td>Uma amiga minha pediu ajuda e fez um PIX de 50...</td>\n",
              "    </tr>\n",
              "  </tbody>\n",
              "</table>\n",
              "</div>\n",
              "      <button class=\"colab-df-convert\" onclick=\"convertToInteractive('df-86b9aef5-b81a-45ea-aa64-1b44999f1c4a')\"\n",
              "              title=\"Convert this dataframe to an interactive table.\"\n",
              "              style=\"display:none;\">\n",
              "        \n",
              "  <svg xmlns=\"http://www.w3.org/2000/svg\" height=\"24px\"viewBox=\"0 0 24 24\"\n",
              "       width=\"24px\">\n",
              "    <path d=\"M0 0h24v24H0V0z\" fill=\"none\"/>\n",
              "    <path d=\"M18.56 5.44l.94 2.06.94-2.06 2.06-.94-2.06-.94-.94-2.06-.94 2.06-2.06.94zm-11 1L8.5 8.5l.94-2.06 2.06-.94-2.06-.94L8.5 2.5l-.94 2.06-2.06.94zm10 10l.94 2.06.94-2.06 2.06-.94-2.06-.94-.94-2.06-.94 2.06-2.06.94z\"/><path d=\"M17.41 7.96l-1.37-1.37c-.4-.4-.92-.59-1.43-.59-.52 0-1.04.2-1.43.59L10.3 9.45l-7.72 7.72c-.78.78-.78 2.05 0 2.83L4 21.41c.39.39.9.59 1.41.59.51 0 1.02-.2 1.41-.59l7.78-7.78 2.81-2.81c.8-.78.8-2.07 0-2.86zM5.41 20L4 18.59l7.72-7.72 1.47 1.35L5.41 20z\"/>\n",
              "  </svg>\n",
              "      </button>\n",
              "      \n",
              "  <style>\n",
              "    .colab-df-container {\n",
              "      display:flex;\n",
              "      flex-wrap:wrap;\n",
              "      gap: 12px;\n",
              "    }\n",
              "\n",
              "    .colab-df-convert {\n",
              "      background-color: #E8F0FE;\n",
              "      border: none;\n",
              "      border-radius: 50%;\n",
              "      cursor: pointer;\n",
              "      display: none;\n",
              "      fill: #1967D2;\n",
              "      height: 32px;\n",
              "      padding: 0 0 0 0;\n",
              "      width: 32px;\n",
              "    }\n",
              "\n",
              "    .colab-df-convert:hover {\n",
              "      background-color: #E2EBFA;\n",
              "      box-shadow: 0px 1px 2px rgba(60, 64, 67, 0.3), 0px 1px 3px 1px rgba(60, 64, 67, 0.15);\n",
              "      fill: #174EA6;\n",
              "    }\n",
              "\n",
              "    [theme=dark] .colab-df-convert {\n",
              "      background-color: #3B4455;\n",
              "      fill: #D2E3FC;\n",
              "    }\n",
              "\n",
              "    [theme=dark] .colab-df-convert:hover {\n",
              "      background-color: #434B5C;\n",
              "      box-shadow: 0px 1px 3px 1px rgba(0, 0, 0, 0.15);\n",
              "      filter: drop-shadow(0px 1px 2px rgba(0, 0, 0, 0.3));\n",
              "      fill: #FFFFFF;\n",
              "    }\n",
              "  </style>\n",
              "\n",
              "      <script>\n",
              "        const buttonEl =\n",
              "          document.querySelector('#df-86b9aef5-b81a-45ea-aa64-1b44999f1c4a button.colab-df-convert');\n",
              "        buttonEl.style.display =\n",
              "          google.colab.kernel.accessAllowed ? 'block' : 'none';\n",
              "\n",
              "        async function convertToInteractive(key) {\n",
              "          const element = document.querySelector('#df-86b9aef5-b81a-45ea-aa64-1b44999f1c4a');\n",
              "          const dataTable =\n",
              "            await google.colab.kernel.invokeFunction('convertToInteractive',\n",
              "                                                     [key], {});\n",
              "          if (!dataTable) return;\n",
              "\n",
              "          const docLinkHtml = 'Like what you see? Visit the ' +\n",
              "            '<a target=\"_blank\" href=https://colab.research.google.com/notebooks/data_table.ipynb>data table notebook</a>'\n",
              "            + ' to learn more about interactive tables.';\n",
              "          element.innerHTML = '';\n",
              "          dataTable['output_type'] = 'display_data';\n",
              "          await google.colab.output.renderOutput(dataTable, element);\n",
              "          const docLink = document.createElement('div');\n",
              "          docLink.innerHTML = docLinkHtml;\n",
              "          element.appendChild(docLink);\n",
              "        }\n",
              "      </script>\n",
              "    </div>\n",
              "  </div>\n",
              "  "
            ]
          },
          "metadata": {},
          "execution_count": 23
        }
      ]
    },
    {
      "cell_type": "code",
      "source": [
        "df_Translate.iloc[1]"
      ],
      "metadata": {
        "colab": {
          "base_uri": "https://localhost:8080/"
        },
        "id": "XpJQi3MP7GTW",
        "outputId": "aa25627d-9ab8-4bdc-fe89-69bb2da81270"
      },
      "execution_count": null,
      "outputs": [
        {
          "output_type": "execute_result",
          "data": {
            "text/plain": [
              "Portugues_Surdo    o meu cartão eu susto nossa paguei eu não sabe...\n",
              "Portugues          Eu me assustei com uma compra no meu cartão. E...\n",
              "Name: 1, dtype: object"
            ]
          },
          "metadata": {},
          "execution_count": 24
        }
      ]
    },
    {
      "cell_type": "code",
      "source": [
        "df_Translate.iloc[1][0]"
      ],
      "metadata": {
        "colab": {
          "base_uri": "https://localhost:8080/",
          "height": 35
        },
        "id": "C55okmJ05p-J",
        "outputId": "5834a109-974e-4446-f52b-1276231f8505"
      },
      "execution_count": null,
      "outputs": [
        {
          "output_type": "execute_result",
          "data": {
            "text/plain": [
              "'o meu cartão eu susto nossa paguei eu não saber precisa cancelar dinheiro.'"
            ],
            "application/vnd.google.colaboratory.intrinsic+json": {
              "type": "string"
            }
          },
          "metadata": {},
          "execution_count": 25
        }
      ]
    },
    {
      "cell_type": "code",
      "source": [
        "df_Translate.iloc[1][1]"
      ],
      "metadata": {
        "colab": {
          "base_uri": "https://localhost:8080/",
          "height": 35
        },
        "id": "a8kFvKHe7Bee",
        "outputId": "9bd5dc98-fa25-4b33-bcae-50d972274092"
      },
      "execution_count": null,
      "outputs": [
        {
          "output_type": "execute_result",
          "data": {
            "text/plain": [
              "'Eu me assustei com uma compra no meu cartão. Eu não sei sobre esta compra. É preciso cancelar. '"
            ],
            "application/vnd.google.colaboratory.intrinsic+json": {
              "type": "string"
            }
          },
          "metadata": {},
          "execution_count": 26
        }
      ]
    },
    {
      "cell_type": "code",
      "source": [
        "df_Translate.iloc[3][0].split()"
      ],
      "metadata": {
        "colab": {
          "base_uri": "https://localhost:8080/"
        },
        "id": "1xqb8hJM7RUz",
        "outputId": "1161044d-2f01-4f6a-e6e3-3274f067eed8"
      },
      "execution_count": null,
      "outputs": [
        {
          "output_type": "execute_result",
          "data": {
            "text/plain": [
              "['meu', 'INSS', 'problema', 'salário', 'precisa', 'ir', 'conversar', 'INSS.']"
            ]
          },
          "metadata": {},
          "execution_count": 27
        }
      ]
    },
    {
      "cell_type": "code",
      "source": [
        "len(df_Translate)"
      ],
      "metadata": {
        "colab": {
          "base_uri": "https://localhost:8080/"
        },
        "id": "60vxFqpl73FJ",
        "outputId": "2a92d632-71f9-4be8-bcb8-1c6ed85c32de"
      },
      "execution_count": null,
      "outputs": [
        {
          "output_type": "execute_result",
          "data": {
            "text/plain": [
              "20"
            ]
          },
          "metadata": {},
          "execution_count": 28
        }
      ]
    },
    {
      "cell_type": "code",
      "source": [
        "bitext_surdo = [AlignedSent(df_Translate.iloc[x][0].split(),df_Translate.iloc[x][1].split()) for x in range(len(df_Translate))]"
      ],
      "metadata": {
        "id": "ibdjkSah7hNT"
      },
      "execution_count": null,
      "outputs": []
    },
    {
      "cell_type": "code",
      "source": [
        "bitext_surdo"
      ],
      "metadata": {
        "id": "WpGA-ywsBnQm",
        "colab": {
          "base_uri": "https://localhost:8080/"
        },
        "outputId": "73ddbb92-2310-48e1-b20b-3899f8dfffa6"
      },
      "execution_count": null,
      "outputs": [
        {
          "output_type": "execute_result",
          "data": {
            "text/plain": [
              "[AlignedSent(['banco', 'meu', 'cartão', 'problema.'], ['Meu', 'cartão', 'do', 'banco', 'está', 'com', 'problema.'], Alignment([])),\n",
              " AlignedSent(['o', 'meu', 'cartão', 'eu', 'susto', 'nossa', 'paguei', 'eu', 'não', 'saber', 'precisa', 'cancelar', 'dinheiro.'], ['Eu', 'me', 'assustei', 'com', 'uma', 'compra', 'no', 'meu', 'cartão.', 'Eu', 'não', 'sei', 'sobre', 'esta', 'compra.', 'É', 'preciso', 'cancelar.'], Alignment([])),\n",
              " AlignedSent(['o', 'meu', 'cartão', '4', 'parcelado', 'quer', 'pagar', 'final.'], ['No', 'meu', 'cartão', 'tem', 'uma', 'compra', 'em', '4', 'parcelas.', 'Quero', 'pagar', 'até', 'o', 'final.'], Alignment([])),\n",
              " AlignedSent(['meu', 'INSS', 'problema', 'salário', 'precisa', 'ir', 'conversar', 'INSS.'], ['Eu', 'tive', 'um', 'problema', 'em', 'com', 'meu', 'salário', 'do', 'INSS,', 'preciso', 'conversar', 'sobre', 'ele.'], Alignment([])),\n",
              " AlignedSent(['meu', 'banco', 'Santander', 'não', 'gosto', 'eu', 'quer', 'trocar', 'banco', 'de', 'Brasil', 'gostei.'], ['Meu', 'Banco', 'é', 'o', 'Santander', 'e', 'eu', 'não', 'gosto.', 'Eu', 'quero', 'trocar', 'para', 'o', 'Banbco', 'do', 'Brasil', 'que', 'eu', 'gosto.'], Alignment([])),\n",
              " AlignedSent(['eu', 'conversar', 'combinar', 'débito', 'espera', '15', 'dias', 'chegar', 'casa', 'eu', 'ver', 'nossa', 'susto', 'crédito', 'precisa', 'ir', 'de', 'novo', 'gerente', 'explicar', 'eu', 'não', 'gosto', 'parcelado', 'eu', 'quer', 'escolhido', 'débito.'], ['Eu', 'conversei', 'e', 'ficou', 'um', 'cartão', 'de', 'débito.', 'Esperei', '15', 'dias', 'e', 'me', 'assustei', 'quando', 'recebi', 'um', 'cartão', 'de', 'crédito', 'e', 'débito.', 'Preciso', 'preciso', 'ir', 'ver', 'o', 'gerente', 'novamente', 'para', 'explicar', 'que', 'eu', 'não', 'gosto', 'de', 'parcelas.', 'Quero', 'só', 'o', 'de', 'débito', 'que', 'escolhi.'], Alignment([])),\n",
              " AlignedSent(['meu', 'trabalho', 'todos', 'os', 'dias', '30', 'dias', 'certo', 'combinar', 'salário', '1.000', 'reais', 'depois', 'dia', 'salário', 'cair', 'problema', 'precisa', 'rápido', 'comprar', 'conta', 'pagamento.'], ['Eu', 'trabalhei', 'todos', 'os', '30', 'dias', 'corretamente.', 'O', 'salário', 'combinado', 'era', 'de', '1000', 'reais,', 'mas', 'no', 'dia', 'de', 'cair', 'o', 'salário', 'houve', 'um', 'problema.Preciso', 'do', 'salário', 'rápido', 'para', 'pagar', 'as', 'contas.'], Alignment([])),\n",
              " AlignedSent(['meu', 'salário', 'depois', 'celular', 'Vivo', 'dia', '10', 'pagamento', 'errado.', 'eu', 'já', 'paguei', 'certo', 'problema', 'idéia', 'procuro', 'vi', 'conta', 'banco', 'futuro', '2023', 'dia', 'pagamento', 'precisa', 'volta', 'agora', 'pagamento', 'por', 'favor.'], ['Depois', 'de', 'receber', 'o', 'meu', 'salário,', 'no', 'dia', '10', 'percebi', 'que', 'houve', 'um', 'erro', 'no', 'pagamento', 'do', 'celular', 'da', 'Vivo.', 'Eu', 'já', 'pagei', 'e', 'pensei', 'que', 'estava', 'certo.', 'Procurando,', 'vi', 'que', 'estava', 'para', 'pagamento', 'futuro,', 'em', '2023.', 'Preciso', 'corrijam', 'para', 'a', 'data', 'atual,', 'por', 'favor.'], Alignment([])),\n",
              " AlignedSent(['meu', 'cartão', 'comprar', 'conta', 'e-mail', 'outro', 'ano', 'eu', 'susto', 'de', 'novo', 'comprar', 'precisa', 'ligar', 'a', 'minha', 'mãe', 'ligar', 'país', 'Paraguai', 'conversar', 'procuro', 'senha', 'lembra', 'achei', 'cancelar', 'dinheiro', 'volta.'], ['Recebi', 'por', 'e-mail', 'uma', 'compra', 'que', 'fiz', 'outro', 'ano', 'e', 'me', 'assustei.Minha', 'mãe', 'precisou', 'ligar', 'para', 'outro', 'país,', 'o', 'Paraguai', 'para', 'conversar.', 'Procurei', 'pela', 'senha.', 'Quando', 'lembrei', 'pude', 'cancelar', 'e', 'receber', 'o', 'dinheiro', 'de', 'volta.'], Alignment([])),\n",
              " AlignedSent(['meu', 'carteira', 'perder', 'rua', 'procurar', 'não', 'achar', 'precisar', 'ligar', 'banco', 'bloqueio.'], ['Perdi', 'minha', 'carteira', 'na', 'rua,', 'procurei', 'mas', 'não', 'achei.', 'Preciso', 'ligar', 'no', 'banco', 'para', 'bloquear.'], Alignment([])),\n",
              " AlignedSent(['meu', 'celular', 'mensagem', 'e', 'ligar', 'promoção', 'TV', '85.', 'você', 'quer', 'pagar', 'pode', 'dividir', '18', 'vezes', 'depois', 'comprar.', 'não', 'ainda', 'chegar', 'precisa', 'ir', 'banco', 'avisar.', 'você', 'perder', 'comprar', 'aceitar', '-', 'vai', 'se', 'fuder'], ['Recebi', 'mensagem', 'e', 'ligação,', 'no', 'meu', 'celular,', 'sobre', 'uma', 'promoção', 'de', 'uma', 'TV', 'de', '85', 'polegadas.', '\"Você', 'quer', 'comprar?', 'Pode', 'dividir', 'em', '18', 'vezes.', '\"', 'Comprei', 'mas', 'não', 'chegou', 'ainda.', 'Precisei', 'ir', 'ao', 'banco', 'para', 'verificar.', 'Me', 'disseram:', '\"Você', 'perdeu', 'o', 'pagamento,', 'tem', 'que', 'aceitar.', 'Você', 'se', 'f.....', '\"', ':)'], Alignment([])),\n",
              " AlignedSent(['app', 'banco', 'chat', 'eu', 'quer', 'cancelar', 'cartão', 'credito', 'não', 'mais', 'eu', 'não', 'uso', 'não', 'mais.'], ['No', 'chat', 'do', 'app', 'do', 'banco', 'eu', 'disse', 'que', 'não', 'queria', 'mais', 'o', 'cartão', 'de', 'crédito', 'porquê', 'eu', 'não', 'uso', 'mais.'], Alignment([])),\n",
              " AlignedSent(['o', 'meu', 'conta', 'errei', 'avisar', '1', 'mil', 'precisa', 'site', 'cancela', 'precisa', 'mudar', 'parcelado', '5', 'vezes', 'R$', '200,00', 'de', 'novo', 'comprar.'], ['Errei', 'na', 'minha', 'compra', 'de', '1', 'mil', 'reais,', 'preciso', 'cancelar', 'e', 'comprar', 'novamente', 'mudando', 'para', 'pagamento', 'parcelado', 'em', '5', 'veses', 'de', 'R$200.'], Alignment([])),\n",
              " AlignedSent(['o', 'meu', 'cartão', 'quebrei', 'perder', 'precisar', 'novo', 'pedir', 'cartão', 'novo', 'manda', 'correio', 'mim', 'endereço', 'número', 'cidade.', 'rua', 'minha', 'casa,', '123', 'e', 'São', 'Paulo', '-', 'SP.'], ['Quebrei', '/', 'perdi', 'meu', 'cartão', ',', 'e', 'preciso', 'pedir', 'um', 'novo.', 'Mande', 'pelo', 'correio.', 'O', 'endereço', 'da', 'minha', 'casa', 'é:', 'Rua', 'da', 'minha', 'casa,', 'número', '123,', 'São', 'Paulo', '/', 'SP.'], Alignment([])),\n",
              " AlignedSent(['eu', 'ver', 'IPhone', '13', 'cashback', '2mil', 'reais', 'eu', 'vou', 'pagar', 'chegar', 'IPhone', '13', 'Pro', 'Max', 'feliz.', 'eu', 'ver', 'banco', 'zero', 'cashback', 'precisa', 'chat', 'banco', 'problema', 'porque', 'receber', 'não', 'ter', 'cashback', 'eu', 'comprou', 'IPhone', '13', 'Pro', 'Max', '2', 'mil', 'ganhar', 'dinheiro.'], ['Vi', 'um', 'Iphone', '13', 'com', 'cashback', 'de', '2', 'mil', 'reais.', 'Comprei', 'e', 'vai', 'chegar', 'o', 'Iphone', '13', 'pro', 'max,', 'estou', 'feliz.', 'Eu', 'vi', 'o', 'banco', 'e', 'tinha', 'zero', 'cashback.', 'Preciso', 'relatar', 'o', 'problema', 'pelo', 'chat', 'do', 'banco', 'porquê', 'eu', 'comprei', 'um', 'Iphone', '13', 'pro', 'max', 'e', 'não', 'recebi', 'o', 'cashback', 'de', '2', 'mil', 'reais.'], Alignment([])),\n",
              " AlignedSent(['eu', 'ver', 'preço', 'IPhone', 'Pro', 'Max,', 'eu', 'pensar', 'bom', 'depois', 'eu', 'vou', 'pagar', 'o', 'IPhone', '13', 'Pro', 'Max', 'tambem', 'pagar', 'garantia', 'ir', 'chegar', 'a', 'minha', 'casa', 'caixa', 'abre', 'ligar', 'IPhone', 'não', 'ligar', 'não', 'também', 'baterias', 'sem', 'ligar', 'não', 'precisa', 'ir', 'loja', 'conversar', 'mostro', 'IPhone', 'acho', 'problema', 'precisa', 'novo', 'IPhone', '13', 'ligar', 'certo', 'fico', 'feliz.'], ['Eu', 'vi', 'o', 'preço', 'do', 'Iphone', 'pro', 'max', 'e', 'achei', 'que', 'o', 'preço', 'estava', 'bom.', 'Comprei', 'o', 'Iphone', 'Pro', 'Max', 'e', 'depois', 'também', 'comprei', 'a', 'garantia.', 'Quando', 'chegou', 'na', 'minha', 'casa', 'eu', 'abri', 'e', 'o', 'Iphone', 'não', 'ligava,', 'coloquei', 'para', 'carregar', 'e', 'também', 'não', 'ligou.', 'Precisei', 'ir', 'até', 'a', 'loja', 'mostrar', 'o', 'Iphone', 'e', 'tentar', 'achar', 'o', 'problema.', 'Precisei', 'trocar', 'por', 'um', 'novo', 'Iphone', 'e', 'fiquei', 'feliz.'], Alignment([])),\n",
              " AlignedSent(['banco', 'chat.', 'bom', 'dia', 'eu', 'comprei', '3', 'vezes', 'errei', 'site', 'problema', 'precisa', 'cancelado', '2', 'vezes', 'dinheiro', 'volta.', 'eu', 'quer', 'só', 'um', 'pagar.'], ['No', 'chat', 'do', 'banco:', '\"Bom', 'dia.', 'Eu', 'errei', 'e', 'comprei', '3', 'vezes', 'um', 'item.', 'Precio', 'que', 'cancele', '2', 'e', 'me', 'devolvam', 'o', 'valor,', 'pois', 'eu', 'só', 'quero', 'comprar', 'um.\"'], Alignment([])),\n",
              " AlignedSent(['eu', 'problema', 'negativo', 'banco', 'triste.', 'banco', 'chat', 'quer', 'me', 'ajuda', '2', 'mil', 'reais', 'parcelado', 'com', 'juros', 'pagamento', '1', 'mil.'], ['Estou', 'triste', 'pois', 'estou', 'negativo', 'no', 'banco.', 'No', 'chat', 'do', 'banco', 'disse', 'que', 'quero', 'uma', 'ajuda', 'de', '2', 'mil', 'reais,', 'parcelado', 'mesmo', 'com', 'juros,', 'para', 'efetuar', 'um', 'pagamento', 'de', '1', 'mil', 'rais.'], Alignment([])),\n",
              " AlignedSent(['eu', 'pagar', 'Pix', 'manda', 'mulher.', 'eu', 'ver', 'celular', 'aplicativo', 'banco', 'errei', 'pessoa', 'outro', 'nome', 'outro.', 'precisa', 'ir', 'banco', 'chat', 'precisa', 'trocar', 'mulher', 'voltar.', 'banco', 'falar', 'seu', 'problema', 'perder', 'dinheiro', 'negativo', 'banco', 'não', 'culpa', 'você', 'pensar', 'precisa', 'atenção.'], ['Eu', 'mandei', 'um', 'pagamento', 'via', 'PIX', 'para', 'uma', 'mulher.', 'Quando', 'eu', 'vi', 'o', 'aplicativo', 'do', 'banco', 'no', 'celular,', 'percebi', 'que', 'errei', 'a', 'pessoa.', 'Preciso', 'entrar', 'no', 'chat', 'do', 'banco', 'para', 'recuperar', 'o', 'dinheiro', 'e', 'trocar', 'a', 'mulher', 'para', 'quem', 'devo', 'pagar.', 'O', 'Banco', 'falou:', '\"O', 'problema', 'seu', 'e', 'o', 'banco', 'se', 'nega', 'a', 'assumir', 'a', 'culpa.', 'Você', 'precisa', 'prestar', 'atenção.\"'], Alignment([])),\n",
              " AlignedSent(['a', 'minha', 'amiga', 'pedir', 'ajuda', 'Pix', '500', 'reais', 'você', 'eu', 'obrigado', 'precisa', 'ver', 'aplicativo', 'banco', 'saldo', '0', 'precisa', 'banco', 'chat', 'eu', 'não', 'recebe', 'saldo', 'gerente', 'precisa', 'procuro', '7', 'dias', 'eu', 'te', 'avisar', 'você.'], ['Uma', 'amiga', 'minha', 'pediu', 'ajuda', 'e', 'fez', 'um', 'PIX', 'de', '500', 'reais,', 'eu', 'agradeci.', 'Precei', 'ver', 'o', 'app', 'do', 'banco', 'e', 'o', 'saldo', 'era', '0.', 'Precisei', 'usar', 'o', 'chat', 'e', 'dizer', 'que', 'não', 'recebi', 'o', 'valor.', 'O', 'gerente', 'respondeu', 'que', 'me', 'procuraria', 'em', '7', 'dias', 'para', 'avisar', 'o', 'que', 'aconteceu.'], Alignment([]))]"
            ]
          },
          "metadata": {},
          "execution_count": 30
        }
      ]
    },
    {
      "cell_type": "markdown",
      "source": [
        ""
      ],
      "metadata": {
        "id": "8NaSbvm0-EZk"
      }
    },
    {
      "cell_type": "code",
      "source": [
        "#ibm_translate = IBMModel1(bitext_surdo, 10)\n",
        "ibm_translate = nltk.translate.IBMModel1(bitext_surdo, 10)"
      ],
      "metadata": {
        "id": "oSmbjofdywhl"
      },
      "execution_count": null,
      "outputs": []
    },
    {
      "cell_type": "code",
      "source": [
        "print(ibm_translate.translation_table[\"susto\"][\"assustei\"])\n",
        "print(ibm_translate.translation_table[\"ligar\"][\"ligação\"])\n",
        "print(ibm_translate.translation_table[\"ligar\"][\"liguei\"])\n",
        "print(ibm_translate.translation_table[\"ver\"][\"vi\"])\n",
        "print(ibm_translate.translation_table[\"precisa\"][\"preciso\"])\n",
        "print(ibm_translate.translation_table[\"pensar\"][\"achei\"])\n",
        "print(ibm_translate.translation_table[\"negativo\"][\"negativo\"])\n",
        "print(ibm_translate.translation_table[\"pedir\"][\"pediu\"])"
      ],
      "metadata": {
        "colab": {
          "base_uri": "https://localhost:8080/"
        },
        "id": "vFiESWRELZFQ",
        "outputId": "59f6d614-2fbc-456f-dacc-79dcaeaf02cc"
      },
      "execution_count": null,
      "outputs": [
        {
          "output_type": "stream",
          "name": "stdout",
          "text": [
            "0.38216546148473063\n",
            "0.004830917874396135\n",
            "0.004830917874396135\n",
            "0.07429157519723427\n",
            "0.10597277996046257\n",
            "0.021066776442314836\n",
            "0.12679317005188773\n",
            "0.052834056143166046\n"
          ]
        }
      ]
    },
    {
      "cell_type": "code",
      "source": [
        "sentence_teste = bitext_surdo[2]\n",
        "print(sentence_teste.words)\n",
        "print(sentence_teste.mots)\n",
        "print(sentence_teste.alignment)"
      ],
      "metadata": {
        "id": "gEK6u6xG9PUd",
        "colab": {
          "base_uri": "https://localhost:8080/"
        },
        "outputId": "a5150e51-9edf-41f9-e1be-08c8de39454c"
      },
      "execution_count": null,
      "outputs": [
        {
          "output_type": "stream",
          "name": "stdout",
          "text": [
            "['o', 'meu', 'cartão', '4', 'parcelado', 'quer', 'pagar', 'final.']\n",
            "['No', 'meu', 'cartão', 'tem', 'uma', 'compra', 'em', '4', 'parcelas.', 'Quero', 'pagar', 'até', 'o', 'final.']\n",
            "0-11 1-1 2-2 3-13 4-9 5-0 6-3 7-13\n"
          ]
        }
      ]
    },
    {
      "cell_type": "code",
      "source": [
        "sentence_teste = bitext_surdo[3]\n",
        "print(sentence_teste.words)\n",
        "print(sentence_teste.mots)\n",
        "print(sentence_teste.alignment)"
      ],
      "metadata": {
        "colab": {
          "base_uri": "https://localhost:8080/"
        },
        "id": "mBmTeSGML_yl",
        "outputId": "094c208e-0b32-4f75-a6dc-1a16fa44332f"
      },
      "execution_count": null,
      "outputs": [
        {
          "output_type": "stream",
          "name": "stdout",
          "text": [
            "['meu', 'INSS', 'problema', 'salário', 'precisa', 'ir', 'conversar', 'INSS.']\n",
            "['Eu', 'tive', 'um', 'problema', 'em', 'com', 'meu', 'salário', 'do', 'INSS,', 'preciso', 'conversar', 'sobre', 'ele.']\n",
            "0-6 1-13 2-2 3-7 4-0 5-3 6-13 7-13\n"
          ]
        }
      ]
    },
    {
      "cell_type": "markdown",
      "source": [
        "##Teste do modelo dos slides Johns Hopkins"
      ],
      "metadata": {
        "id": "YJAAxqiD35RK"
      }
    },
    {
      "cell_type": "code",
      "source": [
        "bitext_slides = []\n",
        "bitext_slides.append(AlignedSent(['la','maison'],['the','house']))\n",
        "bitext_slides.append(AlignedSent(['la','maison','bleu'],['the','blue','house']))\n",
        "bitext_slides.append(AlignedSent(['la','fleur'],['the','flower']))"
      ],
      "metadata": {
        "id": "1XWyRBJvMETA"
      },
      "execution_count": null,
      "outputs": []
    },
    {
      "cell_type": "code",
      "source": [
        "bitext_slides"
      ],
      "metadata": {
        "colab": {
          "base_uri": "https://localhost:8080/"
        },
        "id": "yKpS361B6EGM",
        "outputId": "6a59a703-5da1-4153-b8d6-7d972045dc74"
      },
      "execution_count": null,
      "outputs": [
        {
          "output_type": "execute_result",
          "data": {
            "text/plain": [
              "[AlignedSent(['la', 'maison'], ['the', 'house'], Alignment([])),\n",
              " AlignedSent(['la', 'maison', 'bleu'], ['the', 'blue', 'house'], Alignment([])),\n",
              " AlignedSent(['la', 'fleur'], ['the', 'flower'], Alignment([]))]"
            ]
          },
          "metadata": {},
          "execution_count": 36
        }
      ]
    },
    {
      "cell_type": "code",
      "source": [
        " ibm_translate_slides1 = nltk.translate.IBMModel1(bitext_slides, 5)"
      ],
      "metadata": {
        "id": "EkmW61bp5HPE"
      },
      "execution_count": null,
      "outputs": []
    },
    {
      "cell_type": "code",
      "source": [
        "print(ibm_translate_slides1.translation_table['la']['the'])\n",
        "print(ibm_translate_slides1.translation_table['maison']['the'])      \n",
        "\n",
        "print(ibm_translate_slides1.translation_table['maison']['house'])      \n",
        "print(ibm_translate_slides1.translation_table['bleu']['blue'])\n",
        "print(ibm_translate_slides1.translation_table['bleu']['flower'])\n",
        "\n",
        "print(ibm_translate_slides1.translation_table['fleur']['flower'])"
      ],
      "metadata": {
        "colab": {
          "base_uri": "https://localhost:8080/"
        },
        "id": "NYYI2WaR5P9G",
        "outputId": "d17b2b8a-3b21-4aab-a6db-0967bda61712"
      },
      "execution_count": null,
      "outputs": [
        {
          "output_type": "stream",
          "name": "stdout",
          "text": [
            "0.706341297812428\n",
            "0.23999079065357592\n",
            "0.6955785675428905\n",
            "0.8125329883572147\n",
            "0.25\n",
            "0.8826714286684298\n"
          ]
        }
      ]
    },
    {
      "cell_type": "code",
      "source": [
        " ibm_translate_slides3 = nltk.translate.IBMModel3(bitext_slides, 5)"
      ],
      "metadata": {
        "id": "JWfTZLtt7l0S"
      },
      "execution_count": null,
      "outputs": []
    },
    {
      "cell_type": "code",
      "source": [
        "print(ibm_translate_slides3.translation_table['la']['the'])\n",
        "print(ibm_translate_slides3.translation_table['maison']['the'])      \n",
        "\n",
        "print(ibm_translate_slides3.translation_table['maison']['house'])      \n",
        "print(ibm_translate_slides3.translation_table['bleu']['blue'])\n",
        "print(ibm_translate_slides3.translation_table['bleu']['flower'])\n",
        "\n",
        "print(ibm_translate_slides3.translation_table['fleur']['flower'])"
      ],
      "metadata": {
        "id": "TPcKRnWf7tVu"
      },
      "execution_count": null,
      "outputs": []
    },
    {
      "cell_type": "code",
      "source": [
        "sentence_teste_slides = bitext_slides[1]\n",
        "print(sentence_teste_slides.words)\n",
        "print(sentence_teste_slides.mots)\n",
        "print(sentence_teste_slides.alignment)"
      ],
      "metadata": {
        "colab": {
          "base_uri": "https://localhost:8080/"
        },
        "id": "N0hqEHne6N1E",
        "outputId": "f17915c7-8f46-4293-a3c4-18c33ff85f41"
      },
      "execution_count": null,
      "outputs": [
        {
          "output_type": "stream",
          "name": "stdout",
          "text": [
            "['la', 'maison', 'bleu']\n",
            "['the', 'blue', 'house']\n",
            "0-0 1-2 2-1\n"
          ]
        }
      ]
    },
    {
      "cell_type": "markdown",
      "source": [
        "# IBM Model 2"
      ],
      "metadata": {
        "id": "nijFmubde4Dm"
      }
    },
    {
      "cell_type": "code",
      "source": [
        "import nltk"
      ],
      "metadata": {
        "id": "i2yKOGpgfx9w"
      },
      "execution_count": null,
      "outputs": []
    },
    {
      "cell_type": "code",
      "source": [
        "ibm_translate_slides2 = nltk.translate.ibm2.IBMModel2(bitext_slides, 10)"
      ],
      "metadata": {
        "id": "g44eTQTJ7JPl"
      },
      "execution_count": null,
      "outputs": []
    },
    {
      "cell_type": "code",
      "source": [
        "print(ibm_translate_slides2.translation_table['la']['the'])\n",
        "print(ibm_translate_slides2.translation_table['maison']['the'])      \n",
        "\n",
        "print(ibm_translate_slides2.translation_table['maison']['house'])      \n",
        "print(ibm_translate_slides2.translation_table['bleu']['blue'])\n",
        "print(ibm_translate_slides2.translation_table['bleu']['flower'])\n",
        "\n",
        "print(ibm_translate_slides2.translation_table['fleur']['flower'])"
      ],
      "metadata": {
        "id": "q6zJDwHpgG87"
      },
      "execution_count": null,
      "outputs": []
    },
    {
      "cell_type": "markdown",
      "source": [
        "## Nosso Corpus"
      ],
      "metadata": {
        "id": "vKdYE_rigWqH"
      }
    },
    {
      "cell_type": "code",
      "source": [
        "bitext_surdo2 = [AlignedSent(df_Translate.iloc[x][0].split(),df_Translate.iloc[x][1].split()) for x in range(len(df_Translate))]\n",
        "bitext_surdo2"
      ],
      "metadata": {
        "colab": {
          "base_uri": "https://localhost:8080/"
        },
        "id": "GUe14mAvgX92",
        "outputId": "6ca21a65-7779-4027-f470-5cfccceaf030"
      },
      "execution_count": null,
      "outputs": [
        {
          "output_type": "execute_result",
          "data": {
            "text/plain": [
              "[AlignedSent(['banco', 'meu', 'cartão', 'problema.'], ['Meu', 'cartão', 'do', 'banco', 'está', 'com', 'problema.'], Alignment([])),\n",
              " AlignedSent(['o', 'meu', 'cartão', 'eu', 'susto', 'nossa', 'paguei', 'eu', 'não', 'saber', 'precisa', 'cancelar', 'dinheiro.'], ['Eu', 'me', 'assustei', 'com', 'uma', 'compra', 'no', 'meu', 'cartão.', 'Eu', 'não', 'sei', 'sobre', 'esta', 'compra.', 'É', 'preciso', 'cancelar.'], Alignment([])),\n",
              " AlignedSent(['o', 'meu', 'cartão', '4', 'parcelado', 'quer', 'pagar', 'final.'], ['No', 'meu', 'cartão', 'tem', 'uma', 'compra', 'em', '4', 'parcelas.', 'Quero', 'pagar', 'até', 'o', 'final.'], Alignment([])),\n",
              " AlignedSent(['meu', 'INSS', 'problema', 'salário', 'precisa', 'ir', 'conversar', 'INSS.'], ['Eu', 'tive', 'um', 'problema', 'em', 'com', 'meu', 'salário', 'do', 'INSS,', 'preciso', 'conversar', 'sobre', 'ele.'], Alignment([])),\n",
              " AlignedSent(['meu', 'banco', 'Santander', 'não', 'gosto', 'eu', 'quer', 'trocar', 'banco', 'de', 'Brasil', 'gostei.'], ['Meu', 'Banco', 'é', 'o', 'Santander', 'e', 'eu', 'não', 'gosto.', 'Eu', 'quero', 'trocar', 'para', 'o', 'Banbco', 'do', 'Brasil', 'que', 'eu', 'gosto.'], Alignment([])),\n",
              " AlignedSent(['eu', 'conversar', 'combinar', 'débito', 'espera', '15', 'dias', 'chegar', 'casa', 'eu', 'ver', 'nossa', 'susto', 'crédito', 'precisa', 'ir', 'de', 'novo', 'gerente', 'explicar', 'eu', 'não', 'gosto', 'parcelado', 'eu', 'quer', 'escolhido', 'débito.'], ['Eu', 'conversei', 'e', 'ficou', 'um', 'cartão', 'de', 'débito.', 'Esperei', '15', 'dias', 'e', 'me', 'assustei', 'quando', 'recebi', 'um', 'cartão', 'de', 'crédito', 'e', 'débito.', 'Preciso', 'preciso', 'ir', 'ver', 'o', 'gerente', 'novamente', 'para', 'explicar', 'que', 'eu', 'não', 'gosto', 'de', 'parcelas.', 'Quero', 'só', 'o', 'de', 'débito', 'que', 'escolhi.'], Alignment([])),\n",
              " AlignedSent(['meu', 'trabalho', 'todos', 'os', 'dias', '30', 'dias', 'certo', 'combinar', 'salário', '1.000', 'reais', 'depois', 'dia', 'salário', 'cair', 'problema', 'precisa', 'rápido', 'comprar', 'conta', 'pagamento.'], ['Eu', 'trabalhei', 'todos', 'os', '30', 'dias', 'corretamente.', 'O', 'salário', 'combinado', 'era', 'de', '1000', 'reais,', 'mas', 'no', 'dia', 'de', 'cair', 'o', 'salário', 'houve', 'um', 'problema.Preciso', 'do', 'salário', 'rápido', 'para', 'pagar', 'as', 'contas.'], Alignment([])),\n",
              " AlignedSent(['meu', 'salário', 'depois', 'celular', 'Vivo', 'dia', '10', 'pagamento', 'errado.', 'eu', 'já', 'paguei', 'certo', 'problema', 'idéia', 'procuro', 'vi', 'conta', 'banco', 'futuro', '2023', 'dia', 'pagamento', 'precisa', 'volta', 'agora', 'pagamento', 'por', 'favor.'], ['Depois', 'de', 'receber', 'o', 'meu', 'salário,', 'no', 'dia', '10', 'percebi', 'que', 'houve', 'um', 'erro', 'no', 'pagamento', 'do', 'celular', 'da', 'Vivo.', 'Eu', 'já', 'pagei', 'e', 'pensei', 'que', 'estava', 'certo.', 'Procurando,', 'vi', 'que', 'estava', 'para', 'pagamento', 'futuro,', 'em', '2023.', 'Preciso', 'corrijam', 'para', 'a', 'data', 'atual,', 'por', 'favor.'], Alignment([])),\n",
              " AlignedSent(['meu', 'cartão', 'comprar', 'conta', 'e-mail', 'outro', 'ano', 'eu', 'susto', 'de', 'novo', 'comprar', 'precisa', 'ligar', 'a', 'minha', 'mãe', 'ligar', 'país', 'Paraguai', 'conversar', 'procuro', 'senha', 'lembra', 'achei', 'cancelar', 'dinheiro', 'volta.'], ['Recebi', 'por', 'e-mail', 'uma', 'compra', 'que', 'fiz', 'outro', 'ano', 'e', 'me', 'assustei.Minha', 'mãe', 'precisou', 'ligar', 'para', 'outro', 'país,', 'o', 'Paraguai', 'para', 'conversar.', 'Procurei', 'pela', 'senha.', 'Quando', 'lembrei', 'pude', 'cancelar', 'e', 'receber', 'o', 'dinheiro', 'de', 'volta.'], Alignment([])),\n",
              " AlignedSent(['meu', 'carteira', 'perder', 'rua', 'procurar', 'não', 'achar', 'precisar', 'ligar', 'banco', 'bloqueio.'], ['Perdi', 'minha', 'carteira', 'na', 'rua,', 'procurei', 'mas', 'não', 'achei.', 'Preciso', 'ligar', 'no', 'banco', 'para', 'bloquear.'], Alignment([])),\n",
              " AlignedSent(['meu', 'celular', 'mensagem', 'e', 'ligar', 'promoção', 'TV', '85.', 'você', 'quer', 'pagar', 'pode', 'dividir', '18', 'vezes', 'depois', 'comprar.', 'não', 'ainda', 'chegar', 'precisa', 'ir', 'banco', 'avisar.', 'você', 'perder', 'comprar', 'aceitar', '-', 'vai', 'se', 'fuder'], ['Recebi', 'mensagem', 'e', 'ligação,', 'no', 'meu', 'celular,', 'sobre', 'uma', 'promoção', 'de', 'uma', 'TV', 'de', '85', 'polegadas.', '\"Você', 'quer', 'comprar?', 'Pode', 'dividir', 'em', '18', 'vezes.', '\"', 'Comprei', 'mas', 'não', 'chegou', 'ainda.', 'Precisei', 'ir', 'ao', 'banco', 'para', 'verificar.', 'Me', 'disseram:', '\"Você', 'perdeu', 'o', 'pagamento,', 'tem', 'que', 'aceitar.', 'Você', 'se', 'f.....', '\"', ':)'], Alignment([])),\n",
              " AlignedSent(['app', 'banco', 'chat', 'eu', 'quer', 'cancelar', 'cartão', 'credito', 'não', 'mais', 'eu', 'não', 'uso', 'não', 'mais.'], ['No', 'chat', 'do', 'app', 'do', 'banco', 'eu', 'disse', 'que', 'não', 'queria', 'mais', 'o', 'cartão', 'de', 'crédito', 'porquê', 'eu', 'não', 'uso', 'mais.'], Alignment([])),\n",
              " AlignedSent(['o', 'meu', 'conta', 'errei', 'avisar', '1', 'mil', 'precisa', 'site', 'cancela', 'precisa', 'mudar', 'parcelado', '5', 'vezes', 'R$', '200,00', 'de', 'novo', 'comprar.'], ['Errei', 'na', 'minha', 'compra', 'de', '1', 'mil', 'reais,', 'preciso', 'cancelar', 'e', 'comprar', 'novamente', 'mudando', 'para', 'pagamento', 'parcelado', 'em', '5', 'veses', 'de', 'R$200.'], Alignment([])),\n",
              " AlignedSent(['o', 'meu', 'cartão', 'quebrei', 'perder', 'precisar', 'novo', 'pedir', 'cartão', 'novo', 'manda', 'correio', 'mim', 'endereço', 'número', 'cidade.', 'rua', 'minha', 'casa,', '123', 'e', 'São', 'Paulo', '-', 'SP.'], ['Quebrei', '/', 'perdi', 'meu', 'cartão', ',', 'e', 'preciso', 'pedir', 'um', 'novo.', 'Mande', 'pelo', 'correio.', 'O', 'endereço', 'da', 'minha', 'casa', 'é:', 'Rua', 'da', 'minha', 'casa,', 'número', '123,', 'São', 'Paulo', '/', 'SP.'], Alignment([])),\n",
              " AlignedSent(['eu', 'ver', 'IPhone', '13', 'cashback', '2mil', 'reais', 'eu', 'vou', 'pagar', 'chegar', 'IPhone', '13', 'Pro', 'Max', 'feliz.', 'eu', 'ver', 'banco', 'zero', 'cashback', 'precisa', 'chat', 'banco', 'problema', 'porque', 'receber', 'não', 'ter', 'cashback', 'eu', 'comprou', 'IPhone', '13', 'Pro', 'Max', '2', 'mil', 'ganhar', 'dinheiro.'], ['Vi', 'um', 'Iphone', '13', 'com', 'cashback', 'de', '2', 'mil', 'reais.', 'Comprei', 'e', 'vai', 'chegar', 'o', 'Iphone', '13', 'pro', 'max,', 'estou', 'feliz.', 'Eu', 'vi', 'o', 'banco', 'e', 'tinha', 'zero', 'cashback.', 'Preciso', 'relatar', 'o', 'problema', 'pelo', 'chat', 'do', 'banco', 'porquê', 'eu', 'comprei', 'um', 'Iphone', '13', 'pro', 'max', 'e', 'não', 'recebi', 'o', 'cashback', 'de', '2', 'mil', 'reais.'], Alignment([])),\n",
              " AlignedSent(['eu', 'ver', 'preço', 'IPhone', 'Pro', 'Max,', 'eu', 'pensar', 'bom', 'depois', 'eu', 'vou', 'pagar', 'o', 'IPhone', '13', 'Pro', 'Max', 'tambem', 'pagar', 'garantia', 'ir', 'chegar', 'a', 'minha', 'casa', 'caixa', 'abre', 'ligar', 'IPhone', 'não', 'ligar', 'não', 'também', 'baterias', 'sem', 'ligar', 'não', 'precisa', 'ir', 'loja', 'conversar', 'mostro', 'IPhone', 'acho', 'problema', 'precisa', 'novo', 'IPhone', '13', 'ligar', 'certo', 'fico', 'feliz.'], ['Eu', 'vi', 'o', 'preço', 'do', 'Iphone', 'pro', 'max', 'e', 'achei', 'que', 'o', 'preço', 'estava', 'bom.', 'Comprei', 'o', 'Iphone', 'Pro', 'Max', 'e', 'depois', 'também', 'comprei', 'a', 'garantia.', 'Quando', 'chegou', 'na', 'minha', 'casa', 'eu', 'abri', 'e', 'o', 'Iphone', 'não', 'ligava,', 'coloquei', 'para', 'carregar', 'e', 'também', 'não', 'ligou.', 'Precisei', 'ir', 'até', 'a', 'loja', 'mostrar', 'o', 'Iphone', 'e', 'tentar', 'achar', 'o', 'problema.', 'Precisei', 'trocar', 'por', 'um', 'novo', 'Iphone', 'e', 'fiquei', 'feliz.'], Alignment([])),\n",
              " AlignedSent(['banco', 'chat.', 'bom', 'dia', 'eu', 'comprei', '3', 'vezes', 'errei', 'site', 'problema', 'precisa', 'cancelado', '2', 'vezes', 'dinheiro', 'volta.', 'eu', 'quer', 'só', 'um', 'pagar.'], ['No', 'chat', 'do', 'banco:', '\"Bom', 'dia.', 'Eu', 'errei', 'e', 'comprei', '3', 'vezes', 'um', 'item.', 'Precio', 'que', 'cancele', '2', 'e', 'me', 'devolvam', 'o', 'valor,', 'pois', 'eu', 'só', 'quero', 'comprar', 'um.\"'], Alignment([])),\n",
              " AlignedSent(['eu', 'problema', 'negativo', 'banco', 'triste.', 'banco', 'chat', 'quer', 'me', 'ajuda', '2', 'mil', 'reais', 'parcelado', 'com', 'juros', 'pagamento', '1', 'mil.'], ['Estou', 'triste', 'pois', 'estou', 'negativo', 'no', 'banco.', 'No', 'chat', 'do', 'banco', 'disse', 'que', 'quero', 'uma', 'ajuda', 'de', '2', 'mil', 'reais,', 'parcelado', 'mesmo', 'com', 'juros,', 'para', 'efetuar', 'um', 'pagamento', 'de', '1', 'mil', 'rais.'], Alignment([])),\n",
              " AlignedSent(['eu', 'pagar', 'Pix', 'manda', 'mulher.', 'eu', 'ver', 'celular', 'aplicativo', 'banco', 'errei', 'pessoa', 'outro', 'nome', 'outro.', 'precisa', 'ir', 'banco', 'chat', 'precisa', 'trocar', 'mulher', 'voltar.', 'banco', 'falar', 'seu', 'problema', 'perder', 'dinheiro', 'negativo', 'banco', 'não', 'culpa', 'você', 'pensar', 'precisa', 'atenção.'], ['Eu', 'mandei', 'um', 'pagamento', 'via', 'PIX', 'para', 'uma', 'mulher.', 'Quando', 'eu', 'vi', 'o', 'aplicativo', 'do', 'banco', 'no', 'celular,', 'percebi', 'que', 'errei', 'a', 'pessoa.', 'Preciso', 'entrar', 'no', 'chat', 'do', 'banco', 'para', 'recuperar', 'o', 'dinheiro', 'e', 'trocar', 'a', 'mulher', 'para', 'quem', 'devo', 'pagar.', 'O', 'Banco', 'falou:', '\"O', 'problema', 'seu', 'e', 'o', 'banco', 'se', 'nega', 'a', 'assumir', 'a', 'culpa.', 'Você', 'precisa', 'prestar', 'atenção.\"'], Alignment([])),\n",
              " AlignedSent(['a', 'minha', 'amiga', 'pedir', 'ajuda', 'Pix', '500', 'reais', 'você', 'eu', 'obrigado', 'precisa', 'ver', 'aplicativo', 'banco', 'saldo', '0', 'precisa', 'banco', 'chat', 'eu', 'não', 'recebe', 'saldo', 'gerente', 'precisa', 'procuro', '7', 'dias', 'eu', 'te', 'avisar', 'você.'], ['Uma', 'amiga', 'minha', 'pediu', 'ajuda', 'e', 'fez', 'um', 'PIX', 'de', '500', 'reais,', 'eu', 'agradeci.', 'Precei', 'ver', 'o', 'app', 'do', 'banco', 'e', 'o', 'saldo', 'era', '0.', 'Precisei', 'usar', 'o', 'chat', 'e', 'dizer', 'que', 'não', 'recebi', 'o', 'valor.', 'O', 'gerente', 'respondeu', 'que', 'me', 'procuraria', 'em', '7', 'dias', 'para', 'avisar', 'o', 'que', 'aconteceu.'], Alignment([]))]"
            ]
          },
          "metadata": {},
          "execution_count": 43
        }
      ]
    },
    {
      "cell_type": "code",
      "source": [
        "ibm_translate2 = nltk.translate.ibm2.IBMModel2(bitext_surdo, 100)"
      ],
      "metadata": {
        "id": "4jQckpfogYxW"
      },
      "execution_count": null,
      "outputs": []
    },
    {
      "cell_type": "code",
      "source": [
        "print(ibm_translate.translation_table[\"susto\"][\"assustei\"])\n",
        "print(ibm_translate.translation_table[\"ligar\"][\"ligação\"])\n",
        "print(ibm_translate.translation_table[\"ligar\"][\"liguei\"])\n",
        "print(ibm_translate.translation_table[\"ver\"][\"vi\"])\n",
        "print(ibm_translate.translation_table[\"precisa\"][\"preciso\"])\n",
        "print(ibm_translate.translation_table[\"pensar\"][\"achei\"])\n",
        "print(ibm_translate.translation_table[\"negativo\"][\"negativo\"])\n",
        "print(ibm_translate.translation_table[\"pedir\"][\"pediu\"])"
      ],
      "metadata": {
        "id": "kLO5uUSog5dJ"
      },
      "execution_count": null,
      "outputs": []
    },
    {
      "cell_type": "code",
      "source": [
        "print(ibm_translate2.translation_table[\"susto\"][\"assustei\"])\n",
        "print(ibm_translate2.translation_table[\"ligar\"][\"ligação\"])\n",
        "print(ibm_translate2.translation_table[\"ligar\"][\"liguei\"])\n",
        "print(ibm_translate2.translation_table[\"ver\"][\"vi\"])\n",
        "print(ibm_translate2.translation_table[\"precisa\"][\"preciso\"])\n",
        "print(ibm_translate2.translation_table[\"pensar\"][\"achei\"])\n",
        "print(ibm_translate2.translation_table[\"negativo\"][\"negativo\"])\n",
        "print(ibm_translate2.translation_table[\"pedir\"][\"pediu\"])"
      ],
      "metadata": {
        "id": "6_A1N1vhg7-d"
      },
      "execution_count": null,
      "outputs": []
    },
    {
      "cell_type": "code",
      "source": [
        "sentence_teste = bitext_surdo[2]\n",
        "print(sentence_teste.words)\n",
        "print(sentence_teste.mots)\n",
        "print(sentence_teste.alignment)"
      ],
      "metadata": {
        "id": "Xpa25K5BhTKa"
      },
      "execution_count": null,
      "outputs": []
    },
    {
      "cell_type": "code",
      "source": [
        "sentence_teste2 = bitext_surdo2[2]\n",
        "print(sentence_teste2.words)\n",
        "print(sentence_teste2.mots)\n",
        "print(sentence_teste2.alignment)"
      ],
      "metadata": {
        "id": "g3D2YfIyhUgt"
      },
      "execution_count": null,
      "outputs": []
    },
    {
      "cell_type": "code",
      "source": [
        ""
      ],
      "metadata": {
        "id": "YvvQj4smhvw-"
      },
      "execution_count": null,
      "outputs": []
    }
  ]
}