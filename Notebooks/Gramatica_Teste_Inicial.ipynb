{
  "nbformat": 4,
  "nbformat_minor": 0,
  "metadata": {
    "colab": {
      "name": "Gramatica_Teste_Inicial.ipynb",
      "provenance": [],
      "collapsed_sections": [],
      "toc_visible": true
    },
    "kernelspec": {
      "name": "python3",
      "display_name": "Python 3"
    },
    "language_info": {
      "name": "python"
    }
  },
  "cells": [
    {
      "cell_type": "markdown",
      "source": [
        "# Testes com ferramentas de gramática"
      ],
      "metadata": {
        "id": "ljYf5hQMX_uy"
      }
    },
    {
      "cell_type": "markdown",
      "source": [
        "## Context Free Grammar (CFG)"
      ],
      "metadata": {
        "id": "7wZkGMagYFF-"
      }
    },
    {
      "cell_type": "code",
      "execution_count": null,
      "metadata": {
        "id": "036R3k2WI1Q7"
      },
      "outputs": [],
      "source": [
        "import nltk"
      ]
    },
    {
      "cell_type": "code",
      "source": [
        "import string"
      ],
      "metadata": {
        "id": "XOMZSplNI6Dt"
      },
      "execution_count": null,
      "outputs": []
    },
    {
      "cell_type": "code",
      "source": [
        "from nltk.parse.generate import generate"
      ],
      "metadata": {
        "id": "_rC73wi6I7x8"
      },
      "execution_count": null,
      "outputs": []
    },
    {
      "cell_type": "code",
      "source": [
        "grama_lib = [\n",
        "             'S -> SUJ PRED',\n",
        "             'SUJ -> NOME',\n",
        "             'SUJ -> PRON',\n",
        "             'SUJ -> ART PRON',\n",
        "             'PRED -> VERB',\n",
        "             'PRED -> VERB ADV',\n",
        "             \"NOME -> 'Fabio' | 'Otavio' | 'Aline' | 'Bianca'\",\n",
        "             \"PRON -> 'eu' | 'ele' | 'ela'\",\n",
        "             \"ART -> 'uma' | 'um' | 'a' | 'o'\",\n",
        "             \"VERB -> 'comeu'| 'descascou'| 'comprou'\",\n",
        "             \"ADV -> 'muito' | 'muitos' | 'muita' | 'muitas'\",\n",
        "]\n",
        "grama_lib"
      ],
      "metadata": {
        "colab": {
          "base_uri": "https://localhost:8080/"
        },
        "id": "Fx0wT_ZfJKQM",
        "outputId": "fcf8fbdd-c264-4daa-d900-176390cdefa9"
      },
      "execution_count": null,
      "outputs": [
        {
          "output_type": "execute_result",
          "data": {
            "text/plain": [
              "['S -> SUJ PRED',\n",
              " 'SUJ -> NOME',\n",
              " 'SUJ -> PRON',\n",
              " 'SUJ -> ART PRON',\n",
              " 'PRED -> VERB',\n",
              " 'PRED -> VERB ADV',\n",
              " \"NOME -> 'Fabio' | 'Otavio' | 'Aline' | 'Bianca'\",\n",
              " \"PRON -> 'eu' | 'ele' | 'ela'\",\n",
              " \"ART -> 'uma' | 'um' | 'a' | 'o'\",\n",
              " \"VERB -> 'comeu'| 'descascou'| 'comprou'\",\n",
              " \"ADV -> 'muito' | 'muitos' | 'muita' | 'muitas'\"]"
            ]
          },
          "metadata": {},
          "execution_count": 37
        }
      ]
    },
    {
      "cell_type": "code",
      "source": [
        "grama_str = \"\\n\".join(grama_lib)\n",
        "grama_str"
      ],
      "metadata": {
        "colab": {
          "base_uri": "https://localhost:8080/",
          "height": 53
        },
        "id": "zd8sHtKbKphw",
        "outputId": "4165740f-8ff1-4655-e493-263cc1934c52"
      },
      "execution_count": null,
      "outputs": [
        {
          "output_type": "execute_result",
          "data": {
            "text/plain": [
              "\"S -> SUJ PRED\\nSUJ -> NOME\\nSUJ -> PRON\\nSUJ -> ART PRON\\nPRED -> VERB\\nPRED -> VERB ADV\\nNOME -> 'Fabio' | 'Otavio' | 'Aline' | 'Bianca'\\nPRON -> 'eu' | 'ele' | 'ela'\\nART -> 'uma' | 'um' | 'a' | 'o'\\nVERB -> 'comeu'| 'descascou'| 'comprou'\\nADV -> 'muito' | 'muitos' | 'muita' | 'muitas'\""
            ],
            "application/vnd.google.colaboratory.intrinsic+json": {
              "type": "string"
            }
          },
          "metadata": {},
          "execution_count": 38
        }
      ]
    },
    {
      "cell_type": "code",
      "source": [
        "gramar = nltk.CFG.fromstring(grama_lib)\n",
        "print(gramar)"
      ],
      "metadata": {
        "colab": {
          "base_uri": "https://localhost:8080/"
        },
        "id": "wOhgbkqdK_1Y",
        "outputId": "0709056e-a119-463a-eca6-0567debc1758"
      },
      "execution_count": null,
      "outputs": [
        {
          "output_type": "stream",
          "name": "stdout",
          "text": [
            "Grammar with 24 productions (start state = S)\n",
            "    S -> SUJ PRED\n",
            "    SUJ -> NOME\n",
            "    SUJ -> PRON\n",
            "    SUJ -> ART PRON\n",
            "    PRED -> VERB\n",
            "    PRED -> VERB ADV\n",
            "    NOME -> 'Fabio'\n",
            "    NOME -> 'Otavio'\n",
            "    NOME -> 'Aline'\n",
            "    NOME -> 'Bianca'\n",
            "    PRON -> 'eu'\n",
            "    PRON -> 'ele'\n",
            "    PRON -> 'ela'\n",
            "    ART -> 'uma'\n",
            "    ART -> 'um'\n",
            "    ART -> 'a'\n",
            "    ART -> 'o'\n",
            "    VERB -> 'comeu'\n",
            "    VERB -> 'descascou'\n",
            "    VERB -> 'comprou'\n",
            "    ADV -> 'muito'\n",
            "    ADV -> 'muitos'\n",
            "    ADV -> 'muita'\n",
            "    ADV -> 'muitas'\n"
          ]
        }
      ]
    },
    {
      "cell_type": "code",
      "source": [
        "help(generate)"
      ],
      "metadata": {
        "colab": {
          "base_uri": "https://localhost:8080/"
        },
        "id": "f-de9nB6MZEn",
        "outputId": "a8221a22-0c6c-4604-89a1-e421321697bb"
      },
      "execution_count": null,
      "outputs": [
        {
          "output_type": "stream",
          "name": "stdout",
          "text": [
            "Help on function generate in module nltk.parse.generate:\n",
            "\n",
            "generate(grammar, start=None, depth=None, n=None)\n",
            "    Generates an iterator of all sentences from a CFG.\n",
            "    \n",
            "    :param grammar: The Grammar used to generate sentences.\n",
            "    :param start: The Nonterminal from which to start generate sentences.\n",
            "    :param depth: The maximal depth of the generated tree.\n",
            "    :param n: The maximum number of sentences to return.\n",
            "    :return: An iterator of lists of terminal tokens.\n",
            "\n"
          ]
        }
      ]
    },
    {
      "cell_type": "code",
      "source": [
        "from typing_extensions import Concatenate\n",
        "for sent in generate(gramar):\n",
        "  # frase = str()\n",
        "  # frase = frase.join(sent)\n",
        "  print(f'Linha da gramática gerada: {sent}, tamanho: {len(sent)}')"
      ],
      "metadata": {
        "colab": {
          "base_uri": "https://localhost:8080/"
        },
        "id": "MMgO-4NJLZ9f",
        "outputId": "92254fb2-686d-4b26-c667-ad15f3940263"
      },
      "execution_count": null,
      "outputs": [
        {
          "output_type": "stream",
          "name": "stdout",
          "text": [
            "Linha da gramática gerada: ['Fabio', 'comeu'], tamanho: 2\n",
            "Linha da gramática gerada: ['Fabio', 'descascou'], tamanho: 2\n",
            "Linha da gramática gerada: ['Fabio', 'comprou'], tamanho: 2\n",
            "Linha da gramática gerada: ['Fabio', 'comeu', 'muito'], tamanho: 3\n",
            "Linha da gramática gerada: ['Fabio', 'comeu', 'muitos'], tamanho: 3\n",
            "Linha da gramática gerada: ['Fabio', 'comeu', 'muita'], tamanho: 3\n",
            "Linha da gramática gerada: ['Fabio', 'comeu', 'muitas'], tamanho: 3\n",
            "Linha da gramática gerada: ['Fabio', 'descascou', 'muito'], tamanho: 3\n",
            "Linha da gramática gerada: ['Fabio', 'descascou', 'muitos'], tamanho: 3\n",
            "Linha da gramática gerada: ['Fabio', 'descascou', 'muita'], tamanho: 3\n",
            "Linha da gramática gerada: ['Fabio', 'descascou', 'muitas'], tamanho: 3\n",
            "Linha da gramática gerada: ['Fabio', 'comprou', 'muito'], tamanho: 3\n",
            "Linha da gramática gerada: ['Fabio', 'comprou', 'muitos'], tamanho: 3\n",
            "Linha da gramática gerada: ['Fabio', 'comprou', 'muita'], tamanho: 3\n",
            "Linha da gramática gerada: ['Fabio', 'comprou', 'muitas'], tamanho: 3\n",
            "Linha da gramática gerada: ['Otavio', 'comeu'], tamanho: 2\n",
            "Linha da gramática gerada: ['Otavio', 'descascou'], tamanho: 2\n",
            "Linha da gramática gerada: ['Otavio', 'comprou'], tamanho: 2\n",
            "Linha da gramática gerada: ['Otavio', 'comeu', 'muito'], tamanho: 3\n",
            "Linha da gramática gerada: ['Otavio', 'comeu', 'muitos'], tamanho: 3\n",
            "Linha da gramática gerada: ['Otavio', 'comeu', 'muita'], tamanho: 3\n",
            "Linha da gramática gerada: ['Otavio', 'comeu', 'muitas'], tamanho: 3\n",
            "Linha da gramática gerada: ['Otavio', 'descascou', 'muito'], tamanho: 3\n",
            "Linha da gramática gerada: ['Otavio', 'descascou', 'muitos'], tamanho: 3\n",
            "Linha da gramática gerada: ['Otavio', 'descascou', 'muita'], tamanho: 3\n",
            "Linha da gramática gerada: ['Otavio', 'descascou', 'muitas'], tamanho: 3\n",
            "Linha da gramática gerada: ['Otavio', 'comprou', 'muito'], tamanho: 3\n",
            "Linha da gramática gerada: ['Otavio', 'comprou', 'muitos'], tamanho: 3\n",
            "Linha da gramática gerada: ['Otavio', 'comprou', 'muita'], tamanho: 3\n",
            "Linha da gramática gerada: ['Otavio', 'comprou', 'muitas'], tamanho: 3\n",
            "Linha da gramática gerada: ['Aline', 'comeu'], tamanho: 2\n",
            "Linha da gramática gerada: ['Aline', 'descascou'], tamanho: 2\n",
            "Linha da gramática gerada: ['Aline', 'comprou'], tamanho: 2\n",
            "Linha da gramática gerada: ['Aline', 'comeu', 'muito'], tamanho: 3\n",
            "Linha da gramática gerada: ['Aline', 'comeu', 'muitos'], tamanho: 3\n",
            "Linha da gramática gerada: ['Aline', 'comeu', 'muita'], tamanho: 3\n",
            "Linha da gramática gerada: ['Aline', 'comeu', 'muitas'], tamanho: 3\n",
            "Linha da gramática gerada: ['Aline', 'descascou', 'muito'], tamanho: 3\n",
            "Linha da gramática gerada: ['Aline', 'descascou', 'muitos'], tamanho: 3\n",
            "Linha da gramática gerada: ['Aline', 'descascou', 'muita'], tamanho: 3\n",
            "Linha da gramática gerada: ['Aline', 'descascou', 'muitas'], tamanho: 3\n",
            "Linha da gramática gerada: ['Aline', 'comprou', 'muito'], tamanho: 3\n",
            "Linha da gramática gerada: ['Aline', 'comprou', 'muitos'], tamanho: 3\n",
            "Linha da gramática gerada: ['Aline', 'comprou', 'muita'], tamanho: 3\n",
            "Linha da gramática gerada: ['Aline', 'comprou', 'muitas'], tamanho: 3\n",
            "Linha da gramática gerada: ['Bianca', 'comeu'], tamanho: 2\n",
            "Linha da gramática gerada: ['Bianca', 'descascou'], tamanho: 2\n",
            "Linha da gramática gerada: ['Bianca', 'comprou'], tamanho: 2\n",
            "Linha da gramática gerada: ['Bianca', 'comeu', 'muito'], tamanho: 3\n",
            "Linha da gramática gerada: ['Bianca', 'comeu', 'muitos'], tamanho: 3\n",
            "Linha da gramática gerada: ['Bianca', 'comeu', 'muita'], tamanho: 3\n",
            "Linha da gramática gerada: ['Bianca', 'comeu', 'muitas'], tamanho: 3\n",
            "Linha da gramática gerada: ['Bianca', 'descascou', 'muito'], tamanho: 3\n",
            "Linha da gramática gerada: ['Bianca', 'descascou', 'muitos'], tamanho: 3\n",
            "Linha da gramática gerada: ['Bianca', 'descascou', 'muita'], tamanho: 3\n",
            "Linha da gramática gerada: ['Bianca', 'descascou', 'muitas'], tamanho: 3\n",
            "Linha da gramática gerada: ['Bianca', 'comprou', 'muito'], tamanho: 3\n",
            "Linha da gramática gerada: ['Bianca', 'comprou', 'muitos'], tamanho: 3\n",
            "Linha da gramática gerada: ['Bianca', 'comprou', 'muita'], tamanho: 3\n",
            "Linha da gramática gerada: ['Bianca', 'comprou', 'muitas'], tamanho: 3\n",
            "Linha da gramática gerada: ['eu', 'comeu'], tamanho: 2\n",
            "Linha da gramática gerada: ['eu', 'descascou'], tamanho: 2\n",
            "Linha da gramática gerada: ['eu', 'comprou'], tamanho: 2\n",
            "Linha da gramática gerada: ['eu', 'comeu', 'muito'], tamanho: 3\n",
            "Linha da gramática gerada: ['eu', 'comeu', 'muitos'], tamanho: 3\n",
            "Linha da gramática gerada: ['eu', 'comeu', 'muita'], tamanho: 3\n",
            "Linha da gramática gerada: ['eu', 'comeu', 'muitas'], tamanho: 3\n",
            "Linha da gramática gerada: ['eu', 'descascou', 'muito'], tamanho: 3\n",
            "Linha da gramática gerada: ['eu', 'descascou', 'muitos'], tamanho: 3\n",
            "Linha da gramática gerada: ['eu', 'descascou', 'muita'], tamanho: 3\n",
            "Linha da gramática gerada: ['eu', 'descascou', 'muitas'], tamanho: 3\n",
            "Linha da gramática gerada: ['eu', 'comprou', 'muito'], tamanho: 3\n",
            "Linha da gramática gerada: ['eu', 'comprou', 'muitos'], tamanho: 3\n",
            "Linha da gramática gerada: ['eu', 'comprou', 'muita'], tamanho: 3\n",
            "Linha da gramática gerada: ['eu', 'comprou', 'muitas'], tamanho: 3\n",
            "Linha da gramática gerada: ['ele', 'comeu'], tamanho: 2\n",
            "Linha da gramática gerada: ['ele', 'descascou'], tamanho: 2\n",
            "Linha da gramática gerada: ['ele', 'comprou'], tamanho: 2\n",
            "Linha da gramática gerada: ['ele', 'comeu', 'muito'], tamanho: 3\n",
            "Linha da gramática gerada: ['ele', 'comeu', 'muitos'], tamanho: 3\n",
            "Linha da gramática gerada: ['ele', 'comeu', 'muita'], tamanho: 3\n",
            "Linha da gramática gerada: ['ele', 'comeu', 'muitas'], tamanho: 3\n",
            "Linha da gramática gerada: ['ele', 'descascou', 'muito'], tamanho: 3\n",
            "Linha da gramática gerada: ['ele', 'descascou', 'muitos'], tamanho: 3\n",
            "Linha da gramática gerada: ['ele', 'descascou', 'muita'], tamanho: 3\n",
            "Linha da gramática gerada: ['ele', 'descascou', 'muitas'], tamanho: 3\n",
            "Linha da gramática gerada: ['ele', 'comprou', 'muito'], tamanho: 3\n",
            "Linha da gramática gerada: ['ele', 'comprou', 'muitos'], tamanho: 3\n",
            "Linha da gramática gerada: ['ele', 'comprou', 'muita'], tamanho: 3\n",
            "Linha da gramática gerada: ['ele', 'comprou', 'muitas'], tamanho: 3\n",
            "Linha da gramática gerada: ['ela', 'comeu'], tamanho: 2\n",
            "Linha da gramática gerada: ['ela', 'descascou'], tamanho: 2\n",
            "Linha da gramática gerada: ['ela', 'comprou'], tamanho: 2\n",
            "Linha da gramática gerada: ['ela', 'comeu', 'muito'], tamanho: 3\n",
            "Linha da gramática gerada: ['ela', 'comeu', 'muitos'], tamanho: 3\n",
            "Linha da gramática gerada: ['ela', 'comeu', 'muita'], tamanho: 3\n",
            "Linha da gramática gerada: ['ela', 'comeu', 'muitas'], tamanho: 3\n",
            "Linha da gramática gerada: ['ela', 'descascou', 'muito'], tamanho: 3\n",
            "Linha da gramática gerada: ['ela', 'descascou', 'muitos'], tamanho: 3\n",
            "Linha da gramática gerada: ['ela', 'descascou', 'muita'], tamanho: 3\n",
            "Linha da gramática gerada: ['ela', 'descascou', 'muitas'], tamanho: 3\n",
            "Linha da gramática gerada: ['ela', 'comprou', 'muito'], tamanho: 3\n",
            "Linha da gramática gerada: ['ela', 'comprou', 'muitos'], tamanho: 3\n",
            "Linha da gramática gerada: ['ela', 'comprou', 'muita'], tamanho: 3\n",
            "Linha da gramática gerada: ['ela', 'comprou', 'muitas'], tamanho: 3\n",
            "Linha da gramática gerada: ['uma', 'eu', 'comeu'], tamanho: 3\n",
            "Linha da gramática gerada: ['uma', 'eu', 'descascou'], tamanho: 3\n",
            "Linha da gramática gerada: ['uma', 'eu', 'comprou'], tamanho: 3\n",
            "Linha da gramática gerada: ['uma', 'eu', 'comeu', 'muito'], tamanho: 4\n",
            "Linha da gramática gerada: ['uma', 'eu', 'comeu', 'muitos'], tamanho: 4\n",
            "Linha da gramática gerada: ['uma', 'eu', 'comeu', 'muita'], tamanho: 4\n",
            "Linha da gramática gerada: ['uma', 'eu', 'comeu', 'muitas'], tamanho: 4\n",
            "Linha da gramática gerada: ['uma', 'eu', 'descascou', 'muito'], tamanho: 4\n",
            "Linha da gramática gerada: ['uma', 'eu', 'descascou', 'muitos'], tamanho: 4\n",
            "Linha da gramática gerada: ['uma', 'eu', 'descascou', 'muita'], tamanho: 4\n",
            "Linha da gramática gerada: ['uma', 'eu', 'descascou', 'muitas'], tamanho: 4\n",
            "Linha da gramática gerada: ['uma', 'eu', 'comprou', 'muito'], tamanho: 4\n",
            "Linha da gramática gerada: ['uma', 'eu', 'comprou', 'muitos'], tamanho: 4\n",
            "Linha da gramática gerada: ['uma', 'eu', 'comprou', 'muita'], tamanho: 4\n",
            "Linha da gramática gerada: ['uma', 'eu', 'comprou', 'muitas'], tamanho: 4\n",
            "Linha da gramática gerada: ['uma', 'ele', 'comeu'], tamanho: 3\n",
            "Linha da gramática gerada: ['uma', 'ele', 'descascou'], tamanho: 3\n",
            "Linha da gramática gerada: ['uma', 'ele', 'comprou'], tamanho: 3\n",
            "Linha da gramática gerada: ['uma', 'ele', 'comeu', 'muito'], tamanho: 4\n",
            "Linha da gramática gerada: ['uma', 'ele', 'comeu', 'muitos'], tamanho: 4\n",
            "Linha da gramática gerada: ['uma', 'ele', 'comeu', 'muita'], tamanho: 4\n",
            "Linha da gramática gerada: ['uma', 'ele', 'comeu', 'muitas'], tamanho: 4\n",
            "Linha da gramática gerada: ['uma', 'ele', 'descascou', 'muito'], tamanho: 4\n",
            "Linha da gramática gerada: ['uma', 'ele', 'descascou', 'muitos'], tamanho: 4\n",
            "Linha da gramática gerada: ['uma', 'ele', 'descascou', 'muita'], tamanho: 4\n",
            "Linha da gramática gerada: ['uma', 'ele', 'descascou', 'muitas'], tamanho: 4\n",
            "Linha da gramática gerada: ['uma', 'ele', 'comprou', 'muito'], tamanho: 4\n",
            "Linha da gramática gerada: ['uma', 'ele', 'comprou', 'muitos'], tamanho: 4\n",
            "Linha da gramática gerada: ['uma', 'ele', 'comprou', 'muita'], tamanho: 4\n",
            "Linha da gramática gerada: ['uma', 'ele', 'comprou', 'muitas'], tamanho: 4\n",
            "Linha da gramática gerada: ['uma', 'ela', 'comeu'], tamanho: 3\n",
            "Linha da gramática gerada: ['uma', 'ela', 'descascou'], tamanho: 3\n",
            "Linha da gramática gerada: ['uma', 'ela', 'comprou'], tamanho: 3\n",
            "Linha da gramática gerada: ['uma', 'ela', 'comeu', 'muito'], tamanho: 4\n",
            "Linha da gramática gerada: ['uma', 'ela', 'comeu', 'muitos'], tamanho: 4\n",
            "Linha da gramática gerada: ['uma', 'ela', 'comeu', 'muita'], tamanho: 4\n",
            "Linha da gramática gerada: ['uma', 'ela', 'comeu', 'muitas'], tamanho: 4\n",
            "Linha da gramática gerada: ['uma', 'ela', 'descascou', 'muito'], tamanho: 4\n",
            "Linha da gramática gerada: ['uma', 'ela', 'descascou', 'muitos'], tamanho: 4\n",
            "Linha da gramática gerada: ['uma', 'ela', 'descascou', 'muita'], tamanho: 4\n",
            "Linha da gramática gerada: ['uma', 'ela', 'descascou', 'muitas'], tamanho: 4\n",
            "Linha da gramática gerada: ['uma', 'ela', 'comprou', 'muito'], tamanho: 4\n",
            "Linha da gramática gerada: ['uma', 'ela', 'comprou', 'muitos'], tamanho: 4\n",
            "Linha da gramática gerada: ['uma', 'ela', 'comprou', 'muita'], tamanho: 4\n",
            "Linha da gramática gerada: ['uma', 'ela', 'comprou', 'muitas'], tamanho: 4\n",
            "Linha da gramática gerada: ['um', 'eu', 'comeu'], tamanho: 3\n",
            "Linha da gramática gerada: ['um', 'eu', 'descascou'], tamanho: 3\n",
            "Linha da gramática gerada: ['um', 'eu', 'comprou'], tamanho: 3\n",
            "Linha da gramática gerada: ['um', 'eu', 'comeu', 'muito'], tamanho: 4\n",
            "Linha da gramática gerada: ['um', 'eu', 'comeu', 'muitos'], tamanho: 4\n",
            "Linha da gramática gerada: ['um', 'eu', 'comeu', 'muita'], tamanho: 4\n",
            "Linha da gramática gerada: ['um', 'eu', 'comeu', 'muitas'], tamanho: 4\n",
            "Linha da gramática gerada: ['um', 'eu', 'descascou', 'muito'], tamanho: 4\n",
            "Linha da gramática gerada: ['um', 'eu', 'descascou', 'muitos'], tamanho: 4\n",
            "Linha da gramática gerada: ['um', 'eu', 'descascou', 'muita'], tamanho: 4\n",
            "Linha da gramática gerada: ['um', 'eu', 'descascou', 'muitas'], tamanho: 4\n",
            "Linha da gramática gerada: ['um', 'eu', 'comprou', 'muito'], tamanho: 4\n",
            "Linha da gramática gerada: ['um', 'eu', 'comprou', 'muitos'], tamanho: 4\n",
            "Linha da gramática gerada: ['um', 'eu', 'comprou', 'muita'], tamanho: 4\n",
            "Linha da gramática gerada: ['um', 'eu', 'comprou', 'muitas'], tamanho: 4\n",
            "Linha da gramática gerada: ['um', 'ele', 'comeu'], tamanho: 3\n",
            "Linha da gramática gerada: ['um', 'ele', 'descascou'], tamanho: 3\n",
            "Linha da gramática gerada: ['um', 'ele', 'comprou'], tamanho: 3\n",
            "Linha da gramática gerada: ['um', 'ele', 'comeu', 'muito'], tamanho: 4\n",
            "Linha da gramática gerada: ['um', 'ele', 'comeu', 'muitos'], tamanho: 4\n",
            "Linha da gramática gerada: ['um', 'ele', 'comeu', 'muita'], tamanho: 4\n",
            "Linha da gramática gerada: ['um', 'ele', 'comeu', 'muitas'], tamanho: 4\n",
            "Linha da gramática gerada: ['um', 'ele', 'descascou', 'muito'], tamanho: 4\n",
            "Linha da gramática gerada: ['um', 'ele', 'descascou', 'muitos'], tamanho: 4\n",
            "Linha da gramática gerada: ['um', 'ele', 'descascou', 'muita'], tamanho: 4\n",
            "Linha da gramática gerada: ['um', 'ele', 'descascou', 'muitas'], tamanho: 4\n",
            "Linha da gramática gerada: ['um', 'ele', 'comprou', 'muito'], tamanho: 4\n",
            "Linha da gramática gerada: ['um', 'ele', 'comprou', 'muitos'], tamanho: 4\n",
            "Linha da gramática gerada: ['um', 'ele', 'comprou', 'muita'], tamanho: 4\n",
            "Linha da gramática gerada: ['um', 'ele', 'comprou', 'muitas'], tamanho: 4\n",
            "Linha da gramática gerada: ['um', 'ela', 'comeu'], tamanho: 3\n",
            "Linha da gramática gerada: ['um', 'ela', 'descascou'], tamanho: 3\n",
            "Linha da gramática gerada: ['um', 'ela', 'comprou'], tamanho: 3\n",
            "Linha da gramática gerada: ['um', 'ela', 'comeu', 'muito'], tamanho: 4\n",
            "Linha da gramática gerada: ['um', 'ela', 'comeu', 'muitos'], tamanho: 4\n",
            "Linha da gramática gerada: ['um', 'ela', 'comeu', 'muita'], tamanho: 4\n",
            "Linha da gramática gerada: ['um', 'ela', 'comeu', 'muitas'], tamanho: 4\n",
            "Linha da gramática gerada: ['um', 'ela', 'descascou', 'muito'], tamanho: 4\n",
            "Linha da gramática gerada: ['um', 'ela', 'descascou', 'muitos'], tamanho: 4\n",
            "Linha da gramática gerada: ['um', 'ela', 'descascou', 'muita'], tamanho: 4\n",
            "Linha da gramática gerada: ['um', 'ela', 'descascou', 'muitas'], tamanho: 4\n",
            "Linha da gramática gerada: ['um', 'ela', 'comprou', 'muito'], tamanho: 4\n",
            "Linha da gramática gerada: ['um', 'ela', 'comprou', 'muitos'], tamanho: 4\n",
            "Linha da gramática gerada: ['um', 'ela', 'comprou', 'muita'], tamanho: 4\n",
            "Linha da gramática gerada: ['um', 'ela', 'comprou', 'muitas'], tamanho: 4\n",
            "Linha da gramática gerada: ['a', 'eu', 'comeu'], tamanho: 3\n",
            "Linha da gramática gerada: ['a', 'eu', 'descascou'], tamanho: 3\n",
            "Linha da gramática gerada: ['a', 'eu', 'comprou'], tamanho: 3\n",
            "Linha da gramática gerada: ['a', 'eu', 'comeu', 'muito'], tamanho: 4\n",
            "Linha da gramática gerada: ['a', 'eu', 'comeu', 'muitos'], tamanho: 4\n",
            "Linha da gramática gerada: ['a', 'eu', 'comeu', 'muita'], tamanho: 4\n",
            "Linha da gramática gerada: ['a', 'eu', 'comeu', 'muitas'], tamanho: 4\n",
            "Linha da gramática gerada: ['a', 'eu', 'descascou', 'muito'], tamanho: 4\n",
            "Linha da gramática gerada: ['a', 'eu', 'descascou', 'muitos'], tamanho: 4\n",
            "Linha da gramática gerada: ['a', 'eu', 'descascou', 'muita'], tamanho: 4\n",
            "Linha da gramática gerada: ['a', 'eu', 'descascou', 'muitas'], tamanho: 4\n",
            "Linha da gramática gerada: ['a', 'eu', 'comprou', 'muito'], tamanho: 4\n",
            "Linha da gramática gerada: ['a', 'eu', 'comprou', 'muitos'], tamanho: 4\n",
            "Linha da gramática gerada: ['a', 'eu', 'comprou', 'muita'], tamanho: 4\n",
            "Linha da gramática gerada: ['a', 'eu', 'comprou', 'muitas'], tamanho: 4\n",
            "Linha da gramática gerada: ['a', 'ele', 'comeu'], tamanho: 3\n",
            "Linha da gramática gerada: ['a', 'ele', 'descascou'], tamanho: 3\n",
            "Linha da gramática gerada: ['a', 'ele', 'comprou'], tamanho: 3\n",
            "Linha da gramática gerada: ['a', 'ele', 'comeu', 'muito'], tamanho: 4\n",
            "Linha da gramática gerada: ['a', 'ele', 'comeu', 'muitos'], tamanho: 4\n",
            "Linha da gramática gerada: ['a', 'ele', 'comeu', 'muita'], tamanho: 4\n",
            "Linha da gramática gerada: ['a', 'ele', 'comeu', 'muitas'], tamanho: 4\n",
            "Linha da gramática gerada: ['a', 'ele', 'descascou', 'muito'], tamanho: 4\n",
            "Linha da gramática gerada: ['a', 'ele', 'descascou', 'muitos'], tamanho: 4\n",
            "Linha da gramática gerada: ['a', 'ele', 'descascou', 'muita'], tamanho: 4\n",
            "Linha da gramática gerada: ['a', 'ele', 'descascou', 'muitas'], tamanho: 4\n",
            "Linha da gramática gerada: ['a', 'ele', 'comprou', 'muito'], tamanho: 4\n",
            "Linha da gramática gerada: ['a', 'ele', 'comprou', 'muitos'], tamanho: 4\n",
            "Linha da gramática gerada: ['a', 'ele', 'comprou', 'muita'], tamanho: 4\n",
            "Linha da gramática gerada: ['a', 'ele', 'comprou', 'muitas'], tamanho: 4\n",
            "Linha da gramática gerada: ['a', 'ela', 'comeu'], tamanho: 3\n",
            "Linha da gramática gerada: ['a', 'ela', 'descascou'], tamanho: 3\n",
            "Linha da gramática gerada: ['a', 'ela', 'comprou'], tamanho: 3\n",
            "Linha da gramática gerada: ['a', 'ela', 'comeu', 'muito'], tamanho: 4\n",
            "Linha da gramática gerada: ['a', 'ela', 'comeu', 'muitos'], tamanho: 4\n",
            "Linha da gramática gerada: ['a', 'ela', 'comeu', 'muita'], tamanho: 4\n",
            "Linha da gramática gerada: ['a', 'ela', 'comeu', 'muitas'], tamanho: 4\n",
            "Linha da gramática gerada: ['a', 'ela', 'descascou', 'muito'], tamanho: 4\n",
            "Linha da gramática gerada: ['a', 'ela', 'descascou', 'muitos'], tamanho: 4\n",
            "Linha da gramática gerada: ['a', 'ela', 'descascou', 'muita'], tamanho: 4\n",
            "Linha da gramática gerada: ['a', 'ela', 'descascou', 'muitas'], tamanho: 4\n",
            "Linha da gramática gerada: ['a', 'ela', 'comprou', 'muito'], tamanho: 4\n",
            "Linha da gramática gerada: ['a', 'ela', 'comprou', 'muitos'], tamanho: 4\n",
            "Linha da gramática gerada: ['a', 'ela', 'comprou', 'muita'], tamanho: 4\n",
            "Linha da gramática gerada: ['a', 'ela', 'comprou', 'muitas'], tamanho: 4\n",
            "Linha da gramática gerada: ['o', 'eu', 'comeu'], tamanho: 3\n",
            "Linha da gramática gerada: ['o', 'eu', 'descascou'], tamanho: 3\n",
            "Linha da gramática gerada: ['o', 'eu', 'comprou'], tamanho: 3\n",
            "Linha da gramática gerada: ['o', 'eu', 'comeu', 'muito'], tamanho: 4\n",
            "Linha da gramática gerada: ['o', 'eu', 'comeu', 'muitos'], tamanho: 4\n",
            "Linha da gramática gerada: ['o', 'eu', 'comeu', 'muita'], tamanho: 4\n",
            "Linha da gramática gerada: ['o', 'eu', 'comeu', 'muitas'], tamanho: 4\n",
            "Linha da gramática gerada: ['o', 'eu', 'descascou', 'muito'], tamanho: 4\n",
            "Linha da gramática gerada: ['o', 'eu', 'descascou', 'muitos'], tamanho: 4\n",
            "Linha da gramática gerada: ['o', 'eu', 'descascou', 'muita'], tamanho: 4\n",
            "Linha da gramática gerada: ['o', 'eu', 'descascou', 'muitas'], tamanho: 4\n",
            "Linha da gramática gerada: ['o', 'eu', 'comprou', 'muito'], tamanho: 4\n",
            "Linha da gramática gerada: ['o', 'eu', 'comprou', 'muitos'], tamanho: 4\n",
            "Linha da gramática gerada: ['o', 'eu', 'comprou', 'muita'], tamanho: 4\n",
            "Linha da gramática gerada: ['o', 'eu', 'comprou', 'muitas'], tamanho: 4\n",
            "Linha da gramática gerada: ['o', 'ele', 'comeu'], tamanho: 3\n",
            "Linha da gramática gerada: ['o', 'ele', 'descascou'], tamanho: 3\n",
            "Linha da gramática gerada: ['o', 'ele', 'comprou'], tamanho: 3\n",
            "Linha da gramática gerada: ['o', 'ele', 'comeu', 'muito'], tamanho: 4\n",
            "Linha da gramática gerada: ['o', 'ele', 'comeu', 'muitos'], tamanho: 4\n",
            "Linha da gramática gerada: ['o', 'ele', 'comeu', 'muita'], tamanho: 4\n",
            "Linha da gramática gerada: ['o', 'ele', 'comeu', 'muitas'], tamanho: 4\n",
            "Linha da gramática gerada: ['o', 'ele', 'descascou', 'muito'], tamanho: 4\n",
            "Linha da gramática gerada: ['o', 'ele', 'descascou', 'muitos'], tamanho: 4\n",
            "Linha da gramática gerada: ['o', 'ele', 'descascou', 'muita'], tamanho: 4\n",
            "Linha da gramática gerada: ['o', 'ele', 'descascou', 'muitas'], tamanho: 4\n",
            "Linha da gramática gerada: ['o', 'ele', 'comprou', 'muito'], tamanho: 4\n",
            "Linha da gramática gerada: ['o', 'ele', 'comprou', 'muitos'], tamanho: 4\n",
            "Linha da gramática gerada: ['o', 'ele', 'comprou', 'muita'], tamanho: 4\n",
            "Linha da gramática gerada: ['o', 'ele', 'comprou', 'muitas'], tamanho: 4\n",
            "Linha da gramática gerada: ['o', 'ela', 'comeu'], tamanho: 3\n",
            "Linha da gramática gerada: ['o', 'ela', 'descascou'], tamanho: 3\n",
            "Linha da gramática gerada: ['o', 'ela', 'comprou'], tamanho: 3\n",
            "Linha da gramática gerada: ['o', 'ela', 'comeu', 'muito'], tamanho: 4\n",
            "Linha da gramática gerada: ['o', 'ela', 'comeu', 'muitos'], tamanho: 4\n",
            "Linha da gramática gerada: ['o', 'ela', 'comeu', 'muita'], tamanho: 4\n",
            "Linha da gramática gerada: ['o', 'ela', 'comeu', 'muitas'], tamanho: 4\n",
            "Linha da gramática gerada: ['o', 'ela', 'descascou', 'muito'], tamanho: 4\n",
            "Linha da gramática gerada: ['o', 'ela', 'descascou', 'muitos'], tamanho: 4\n",
            "Linha da gramática gerada: ['o', 'ela', 'descascou', 'muita'], tamanho: 4\n",
            "Linha da gramática gerada: ['o', 'ela', 'descascou', 'muitas'], tamanho: 4\n",
            "Linha da gramática gerada: ['o', 'ela', 'comprou', 'muito'], tamanho: 4\n",
            "Linha da gramática gerada: ['o', 'ela', 'comprou', 'muitos'], tamanho: 4\n",
            "Linha da gramática gerada: ['o', 'ela', 'comprou', 'muita'], tamanho: 4\n",
            "Linha da gramática gerada: ['o', 'ela', 'comprou', 'muitas'], tamanho: 4\n"
          ]
        }
      ]
    },
    {
      "cell_type": "markdown",
      "source": [
        "## Probabilistic Context Free Grammar (PCFG)"
      ],
      "metadata": {
        "id": "PaxqWnBZYSL2"
      }
    },
    {
      "cell_type": "code",
      "source": [
        ""
      ],
      "metadata": {
        "id": "K8TNiG0sNauF"
      },
      "execution_count": null,
      "outputs": []
    }
  ]
}