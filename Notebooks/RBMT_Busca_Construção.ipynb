{
  "nbformat": 4,
  "nbformat_minor": 0,
  "metadata": {
    "colab": {
      "name": "RBMT_Busca_Construção.ipynb",
      "provenance": []
    },
    "kernelspec": {
      "name": "python3",
      "display_name": "Python 3"
    },
    "language_info": {
      "name": "python"
    }
  },
  "cells": [
    {
      "cell_type": "markdown",
      "source": [
        "# Dando inicio a construção do tradutor / organizador de sentenças."
      ],
      "metadata": {
        "id": "-YcbcVKH9C-d"
      }
    },
    {
      "cell_type": "markdown",
      "source": [
        "## Importando as bibliotecas"
      ],
      "metadata": {
        "id": "4fiej_CF9Lo6"
      }
    },
    {
      "cell_type": "code",
      "execution_count": null,
      "metadata": {
        "id": "U6MztILH6e4t"
      },
      "outputs": [],
      "source": [
        "import nltk\n"
      ]
    },
    {
      "cell_type": "code",
      "source": [
        "import nltk.tokenize as tkz"
      ],
      "metadata": {
        "id": "kPur7qPE7Nof"
      },
      "execution_count": null,
      "outputs": []
    },
    {
      "cell_type": "code",
      "source": [
        "nltk.download('punkt')"
      ],
      "metadata": {
        "colab": {
          "base_uri": "https://localhost:8080/"
        },
        "id": "DIOEcraU8ACh",
        "outputId": "a46d1eda-f38f-4423-e6b4-bcf611defc06"
      },
      "execution_count": null,
      "outputs": [
        {
          "output_type": "stream",
          "name": "stdout",
          "text": [
            "[nltk_data] Downloading package punkt to /root/nltk_data...\n",
            "[nltk_data]   Unzipping tokenizers/punkt.zip.\n"
          ]
        },
        {
          "output_type": "execute_result",
          "data": {
            "text/plain": [
              "True"
            ]
          },
          "metadata": {},
          "execution_count": 3
        }
      ]
    },
    {
      "cell_type": "markdown",
      "source": [
        "##Iniciando os testes"
      ],
      "metadata": {
        "id": "MjcLctjN9Q1A"
      }
    },
    {
      "cell_type": "code",
      "source": [
        "frase = 'Eu comer maçã ontem. Eu gostar maçã muito.'"
      ],
      "metadata": {
        "id": "077eKFJe7ckv"
      },
      "execution_count": null,
      "outputs": []
    },
    {
      "cell_type": "markdown",
      "source": [
        "###Com word e sentence tokenizer"
      ],
      "metadata": {
        "id": "E13_xPbt9aS-"
      }
    },
    {
      "cell_type": "code",
      "source": [
        "sentenc_tks = tkz.sent_tokenize(frase)\n",
        "sentenc_tks"
      ],
      "metadata": {
        "colab": {
          "base_uri": "https://localhost:8080/"
        },
        "id": "VqFT98r378cP",
        "outputId": "e836e445-efe7-4bcf-b0d3-52e4285efcfc"
      },
      "execution_count": null,
      "outputs": [
        {
          "output_type": "execute_result",
          "data": {
            "text/plain": [
              "['Eu comer maçã ontem.', 'Eu gostar maçã muito.']"
            ]
          },
          "metadata": {},
          "execution_count": 5
        }
      ]
    },
    {
      "cell_type": "code",
      "source": [
        "words_tkz = tkz.word_tokenize(frase)\n",
        "words_tkz"
      ],
      "metadata": {
        "colab": {
          "base_uri": "https://localhost:8080/"
        },
        "id": "e3dvr8IS8Du5",
        "outputId": "fa748b95-379d-4bef-feb8-21291dd060b4"
      },
      "execution_count": null,
      "outputs": [
        {
          "output_type": "execute_result",
          "data": {
            "text/plain": [
              "['Eu', 'comer', 'maçã', 'ontem', '.', 'Eu', 'gostar', 'maçã', 'muito', '.']"
            ]
          },
          "metadata": {},
          "execution_count": 6
        }
      ]
    },
    {
      "cell_type": "markdown",
      "source": [
        "###Com treebank word tokenizer"
      ],
      "metadata": {
        "id": "QQndgV999fXy"
      }
    },
    {
      "cell_type": "code",
      "source": [
        "tbw_tkz = tkz.TreebankWordTokenizer()"
      ],
      "metadata": {
        "id": "xDjmFsts8IB3"
      },
      "execution_count": null,
      "outputs": []
    },
    {
      "cell_type": "code",
      "source": [
        "tbw_tkz.tokenize(frase)"
      ],
      "metadata": {
        "colab": {
          "base_uri": "https://localhost:8080/"
        },
        "id": "REVQDk5Z8X2-",
        "outputId": "6f84b26e-118d-4b33-a9aa-a62db0bf7038"
      },
      "execution_count": null,
      "outputs": [
        {
          "output_type": "execute_result",
          "data": {
            "text/plain": [
              "['Eu', 'comer', 'maçã', 'ontem.', 'Eu', 'gostar', 'maçã', 'muito', '.']"
            ]
          },
          "metadata": {},
          "execution_count": 8
        }
      ]
    },
    {
      "cell_type": "markdown",
      "source": [
        "## WORD TOKENIZE faz o serviço necessário para nosso problema"
      ],
      "metadata": {
        "id": "dT_B_s8Y-B54"
      }
    },
    {
      "cell_type": "markdown",
      "source": [
        "## Procurando Stop Words"
      ],
      "metadata": {
        "id": "JF2UY2p5_W40"
      }
    },
    {
      "cell_type": "code",
      "source": [
        "from nltk.corpus import stopwords"
      ],
      "metadata": {
        "id": "nuQPUEs78-MO"
      },
      "execution_count": null,
      "outputs": []
    },
    {
      "cell_type": "code",
      "source": [
        "nltk.download('stopwords')"
      ],
      "metadata": {
        "colab": {
          "base_uri": "https://localhost:8080/"
        },
        "id": "akXpw4j1_tKT",
        "outputId": "efa8b383-3869-40bc-f63f-4a127c58cf1b"
      },
      "execution_count": null,
      "outputs": [
        {
          "output_type": "stream",
          "name": "stdout",
          "text": [
            "[nltk_data] Downloading package stopwords to /root/nltk_data...\n",
            "[nltk_data]   Unzipping corpora/stopwords.zip.\n"
          ]
        },
        {
          "output_type": "execute_result",
          "data": {
            "text/plain": [
              "True"
            ]
          },
          "metadata": {},
          "execution_count": 10
        }
      ]
    },
    {
      "cell_type": "code",
      "source": [
        "pt_br_SW = set(stopwords.words('portuguese'))"
      ],
      "metadata": {
        "id": "XJIRlo78_gOv"
      },
      "execution_count": null,
      "outputs": []
    },
    {
      "cell_type": "code",
      "source": [
        "words_tkz"
      ],
      "metadata": {
        "colab": {
          "base_uri": "https://localhost:8080/"
        },
        "id": "moUJyhLkAwmi",
        "outputId": "dc79d091-f323-4d22-b5c6-1a93680141d0"
      },
      "execution_count": null,
      "outputs": [
        {
          "output_type": "execute_result",
          "data": {
            "text/plain": [
              "['Eu', 'comer', 'maçã', 'ontem', '.', 'Eu', 'gostar', 'maçã', 'muito', '.']"
            ]
          },
          "metadata": {},
          "execution_count": 12
        }
      ]
    },
    {
      "cell_type": "code",
      "source": [
        "[word for word in words_tkz if word not in pt_br_SW]"
      ],
      "metadata": {
        "colab": {
          "base_uri": "https://localhost:8080/"
        },
        "id": "T6nZr-Kn_pJ2",
        "outputId": "9dd65dca-ec19-46b7-e014-ffe1aab28ae5"
      },
      "execution_count": null,
      "outputs": [
        {
          "output_type": "execute_result",
          "data": {
            "text/plain": [
              "['Eu', 'comer', 'maçã', 'ontem', '.', 'Eu', 'gostar', 'maçã', '.']"
            ]
          },
          "metadata": {},
          "execution_count": 13
        }
      ]
    },
    {
      "cell_type": "markdown",
      "source": [
        "## POS_Tagging"
      ],
      "metadata": {
        "id": "WLVAUTADBLpU"
      }
    },
    {
      "cell_type": "code",
      "source": [
        "import nltk.tag as tagger"
      ],
      "metadata": {
        "id": "GlHNLMgk_zd3"
      },
      "execution_count": null,
      "outputs": []
    },
    {
      "cell_type": "code",
      "source": [
        "nltk.download('averaged_perceptron_tagger')"
      ],
      "metadata": {
        "colab": {
          "base_uri": "https://localhost:8080/"
        },
        "id": "ljptgEOQBiFn",
        "outputId": "f1e64209-de5d-430f-9ded-ed4900f08af0"
      },
      "execution_count": null,
      "outputs": [
        {
          "output_type": "stream",
          "name": "stdout",
          "text": [
            "[nltk_data] Downloading package averaged_perceptron_tagger to\n",
            "[nltk_data]     /root/nltk_data...\n",
            "[nltk_data]   Unzipping taggers/averaged_perceptron_tagger.zip.\n"
          ]
        },
        {
          "output_type": "execute_result",
          "data": {
            "text/plain": [
              "True"
            ]
          },
          "metadata": {},
          "execution_count": 15
        }
      ]
    },
    {
      "cell_type": "code",
      "source": [
        "tags = tagger.pos_tag(words_tkz)\n",
        "tags"
      ],
      "metadata": {
        "colab": {
          "base_uri": "https://localhost:8080/"
        },
        "id": "nsW2Frp-BX-_",
        "outputId": "cbefe2ba-cde5-467d-dcaa-45af02185c1b"
      },
      "execution_count": null,
      "outputs": [
        {
          "output_type": "execute_result",
          "data": {
            "text/plain": [
              "[('Eu', 'NNP'),\n",
              " ('comer', 'NN'),\n",
              " ('maçã', 'NN'),\n",
              " ('ontem', 'NN'),\n",
              " ('.', '.'),\n",
              " ('Eu', 'NNP'),\n",
              " ('gostar', 'NN'),\n",
              " ('maçã', 'NN'),\n",
              " ('muito', 'NN'),\n",
              " ('.', '.')]"
            ]
          },
          "metadata": {},
          "execution_count": 16
        }
      ]
    },
    {
      "cell_type": "markdown",
      "source": [
        "Não funciona com o NLTK básico"
      ],
      "metadata": {
        "id": "4G5kx8KCCMDb"
      }
    },
    {
      "cell_type": "markdown",
      "source": [
        "##Usaremos um Home Brew - https://github.com/inoueMashuu/POS-tagger-portuguese-nltk/tree/master/trained_POS_taggers"
      ],
      "metadata": {
        "id": "4y5wLephCVtj"
      }
    },
    {
      "cell_type": "code",
      "source": [
        "import joblib\n"
      ],
      "metadata": {
        "id": "X98hNmIFBfs_"
      },
      "execution_count": null,
      "outputs": []
    },
    {
      "cell_type": "code",
      "source": [
        "teste_tagger = joblib.load('/content/POS_tagger_brill.pkl')"
      ],
      "metadata": {
        "id": "z-FnTSlSCb8v"
      },
      "execution_count": null,
      "outputs": []
    },
    {
      "cell_type": "code",
      "source": [
        "tagueados = teste_tagger.tag(words_tkz)\n",
        "tagueados"
      ],
      "metadata": {
        "colab": {
          "base_uri": "https://localhost:8080/"
        },
        "id": "dpcAlunkChWg",
        "outputId": "9998b492-2b8c-46c6-f642-e48ca7e5abd0"
      },
      "execution_count": null,
      "outputs": [
        {
          "output_type": "execute_result",
          "data": {
            "text/plain": [
              "[('Eu', 'PROPESS'),\n",
              " ('comer', 'V'),\n",
              " ('maçã', 'N'),\n",
              " ('ontem', 'ADV'),\n",
              " ('.', '.'),\n",
              " ('Eu', 'PROPESS'),\n",
              " ('gostar', 'V'),\n",
              " ('maçã', 'N'),\n",
              " ('muito', 'ADV'),\n",
              " ('.', '.')]"
            ]
          },
          "metadata": {},
          "execution_count": 19
        }
      ]
    },
    {
      "cell_type": "code",
      "source": [
        "teste_tagger.tag(tkz.word_tokenize('Eu estou de mau!'))"
      ],
      "metadata": {
        "colab": {
          "base_uri": "https://localhost:8080/"
        },
        "id": "ayW5u0t2CmQI",
        "outputId": "09a1c97b-52cc-4063-9da0-ff1cdb07a964"
      },
      "execution_count": null,
      "outputs": [
        {
          "output_type": "execute_result",
          "data": {
            "text/plain": [
              "[('Eu', 'PROPESS'),\n",
              " ('estou', 'VAUX'),\n",
              " ('de', 'PREP'),\n",
              " ('mau', 'ADJ'),\n",
              " ('!', '!')]"
            ]
          },
          "metadata": {},
          "execution_count": 20
        }
      ]
    },
    {
      "cell_type": "code",
      "source": [
        "teste_tagger.rules()"
      ],
      "metadata": {
        "colab": {
          "base_uri": "https://localhost:8080/"
        },
        "id": "VJCl6PCULdKn",
        "outputId": "1f65dd74-e7fd-485a-a146-234208365331"
      },
      "execution_count": null,
      "outputs": [
        {
          "output_type": "execute_result",
          "data": {
            "text/plain": [
              "(Rule('059', 'PREP|+', 'PREP', [(Pos([1]),'N')]),\n",
              " Rule('049', 'PREP', 'PREP|+', [(Word([0]),'de'), (Pos([1]),'ART')]),\n",
              " Rule('059', 'PREP|+', 'PREP', [(Pos([1]),'NPROP')]),\n",
              " Rule('064', 'PREP|+', 'PREP', [(Pos([1, 2]),'NUM')]),\n",
              " Rule('064', 'PREP|+', 'PREP', [(Pos([1, 2]),'V')]),\n",
              " Rule('059', 'ART', 'PREP|+', [(Pos([1]),'ART')]),\n",
              " Rule('043', 'PREP|+', 'PREP', [(Word([1, 2]),'um')]),\n",
              " Rule('054', 'ART', 'PROSUB', [(Word([1]),'de')]),\n",
              " Rule('049', 'PREP', 'PREP|+', [(Word([0]),'por'), (Pos([1]),'ART')]),\n",
              " Rule('049', 'PREP', 'ART', [(Word([0]),'a'), (Pos([1]),'N')]),\n",
              " Rule('040', 'ART', 'PREP|+', [(Word([0]),'a'), (Word([1]),'a')]),\n",
              " Rule('043', 'PREP|+', 'PREP', [(Word([1, 2]),'uma')]),\n",
              " Rule('049', 'PREP', 'PREP|+', [(Word([0]),'em'), (Pos([1]),'ART')]),\n",
              " Rule('059', 'PREP|+', 'PREP', [(Pos([1]),'PROADJ')]),\n",
              " Rule('059', 'PREP|+', 'PREP', [(Pos([1]),'ADJ')]),\n",
              " Rule('059', 'V', 'VAUX', [(Pos([1]),'PCP')]),\n",
              " Rule('054', 'ART', 'PROSUB', [(Word([1]),'que')]),\n",
              " Rule('054', 'ART', 'PREP|+', [(Word([1]),'as')]),\n",
              " Rule('050', 'PROPESS', 'ART', [(Word([0]),'as'), (Pos([-1]),'PREP|+')]),\n",
              " Rule('059', 'VAUX', 'V', [(Pos([1]),'ART')]),\n",
              " Rule('054', 'PREP|+', 'PREP', [(Word([1]),'\"')]),\n",
              " Rule('054', 'PREP|+', 'PREP', [(Word([1]),'que')]),\n",
              " Rule('064', 'PREP|+', 'PREP', [(Pos([1, 2]),'PREP')]),\n",
              " Rule('040', 'PREP', 'PREP|+', [(Word([0]),'a'), (Word([1]),'a')]),\n",
              " Rule('054', 'PREP', 'PREP|+', [(Word([1]),'este')]),\n",
              " Rule('049', 'ART', 'PREP', [(Word([0]),'a'), (Pos([1]),'V')]),\n",
              " Rule('059', 'VAUX', 'V', [(Pos([1]),'ADJ')]),\n",
              " Rule('073', 'PREP', 'PREP|+', [(Pos([1]),'PREP|+'), (Pos([2]),'ART'), (Word([1]),'de')]),\n",
              " Rule('048', 'NPROP', 'ART', [(Word([0]),'a'), (Pos([-2]),'NPROP')]),\n",
              " Rule('049', 'VAUX', 'V', [(Word([0]),'está'), (Pos([1]),'PCP')]),\n",
              " Rule('040', 'NPROP', 'PREP|+', [(Word([0]),'de'), (Word([1]),'a')]),\n",
              " Rule('048', 'NPROP', 'ART', [(Word([0]),'o'), (Pos([-2]),'NPROP')]),\n",
              " Rule('059', 'VAUX', 'V', [(Pos([1]),'N')]),\n",
              " Rule('057', 'PREP', 'PREP|+', [(Pos([1]),'ART'), (Pos([2]),'NUM')]),\n",
              " Rule('059', 'PREP|+', 'PREP', [(Pos([1]),'ADV')]),\n",
              " Rule('040', 'PREP', 'PREP|+', [(Word([0]),'a'), (Word([1]),'o')]),\n",
              " Rule('054', 'NUM', 'N', [(Word([1]),'de')]),\n",
              " Rule('054', 'PREP', 'PREP|+', [(Word([1]),'esse')]),\n",
              " Rule('040', 'NPROP', 'PREP|+', [(Word([0]),'de'), (Word([1]),'o')]),\n",
              " Rule('050', 'PREP', 'ART', [(Word([0]),'a'), (Pos([-1]),'PREP|+')]),\n",
              " Rule('054', 'PREP', 'PREP|+', [(Word([1]),'esta')]),\n",
              " Rule('059', 'PROADJ', 'PROSUB', [(Pos([1]),'V')]),\n",
              " Rule('040', 'PREP|+', 'PREP', [(Word([0]),'por'), (Word([1]),'um')]),\n",
              " Rule('049', 'V', 'VAUX', [(Word([0]),'está'), (Pos([1]),'V')]),\n",
              " Rule('039', 'KS', 'PRO-KS', [(Word([0]),'que'), (Word([-1]),'o')]),\n",
              " Rule('050', 'ART', 'PREP', [(Word([0]),'a'), (Pos([-1]),'N')]),\n",
              " Rule('067', 'ADV', 'PREP', [(Pos([1]),'PREP'), (Word([0]),'mais'), (Word([1]),'de')]),\n",
              " Rule('040', 'PREP', 'PDEN', [(Word([0]),'por'), (Word([1]),'exemplo')]),\n",
              " Rule('049', 'ADV', 'PROADJ', [(Word([0]),'mais'), (Pos([1]),'N')]),\n",
              " Rule('039', 'N', 'PDEN', [(Word([0]),'exemplo'), (Word([-1]),'por')]),\n",
              " Rule('059', 'PROSUB', 'PROADJ', [(Pos([1]),'N')]),\n",
              " Rule('059', 'VAUX', 'V', [(Pos([1]),'ADV')]),\n",
              " Rule('039', 'PRO-KS-REL', 'KS', [(Word([0]),'que'), (Word([-1]),'de')]),\n",
              " Rule('054', 'ART', 'PRO-KS-REL', [(Word([1]),'qual')]),\n",
              " Rule('049', 'PROSUB', 'PRO-KS', [(Word([0]),'o'), (Pos([1]),'PRO-KS')]),\n",
              " Rule('049', 'VAUX', 'V', [(Word([0]),'foi'), (Pos([1]),'PREP')]),\n",
              " Rule('050', 'PROSUB', 'PRO-KS-REL', [(Word([0]),'qual'), (Pos([-1]),'PRO-KS-REL')]),\n",
              " Rule('051', 'PREP|+', 'PREP', [(Word([0]),'com')]),\n",
              " Rule('064', 'PREP|+', 'PREP', [(Pos([1, 2]),'PREP')]),\n",
              " Rule('059', 'VAUX', 'V', [(Pos([1]),'PREP|+')]),\n",
              " Rule('049', 'VAUX', 'V', [(Word([0]),'estão'), (Pos([1]),'PCP')]),\n",
              " Rule('043', 'ART', 'PREP', [(Word([1, 2]),'partir')]),\n",
              " Rule('059', 'PREP', 'PREP|+', [(Pos([1]),'PREP|+')]),\n",
              " Rule('049', 'V', 'VAUX', [(Word([0]),'estão'), (Pos([1]),'V')]),\n",
              " Rule('059', 'PREP|+', 'PREP', [(Pos([1]),'N|EST')]),\n",
              " Rule('054', 'PREP', 'PREP|+', [(Word([1]),'essa')]),\n",
              " Rule('049', 'ART', 'PREP', [(Word([0]),'a'), (Pos([1]),'NUM')]),\n",
              " Rule('045', 'PREP|+', 'PREP', [(Word([1, 2, 3]),'ser')]),\n",
              " Rule('054', 'V', 'VAUX', [(Word([1]),'sendo')]),\n",
              " Rule('039', 'PRO-KS-REL', 'KS', [(Word([0]),'que'), (Word([-1]),'para')]),\n",
              " Rule('054', 'PROADJ', 'PROSUB', [(Word([1]),',')]),\n",
              " Rule('054', 'PROADJ', 'PROSUB', [(Word([1]),'de')]),\n",
              " Rule('056', 'V', 'V|+', [(Pos([-1]),'PREP'), (Pos([1]),'PROPESS')]),\n",
              " Rule('049', 'PREP', 'PREP|+', [(Word([0]),'Por'), (Pos([1]),'ART')]),\n",
              " Rule('040', 'ART', 'ADV', [(Word([0]),'um'), (Word([1]),'pouco')]),\n",
              " Rule('040', 'ART', 'NUM', [(Word([0]),'um'), (Word([1]),'ano')]),\n",
              " Rule('051', 'PREP|+', 'PREP', [(Word([0]),'para')]),\n",
              " Rule('038', 'PROSUB', 'PRO-KS', [(Word([-1]),','), (Word([0]),'o'), (Word([1]),'que')]),\n",
              " Rule('049', 'NPROP', 'PREP', [(Word([0]),'de'), (Pos([1]),'N')]),\n",
              " Rule('050', 'PRO-KS-REL', 'PRO-KS', [(Word([0]),'que'), (Pos([-1]),'PRO-KS')]),\n",
              " Rule('049', 'PREP', 'KS', [(Word([0]),'como'), (Pos([1]),'V')]),\n",
              " Rule('040', 'ART', 'PREP', [(Word([0]),'a'), (Word([1]),'ser')]),\n",
              " Rule('049', 'KS', 'PROPESS', [(Word([0]),'se'), (Pos([1]),'V')]),\n",
              " Rule('054', 'PREP', 'PREP|+', [(Word([1]),'esses')]),\n",
              " Rule('049', 'VAUX', 'V', [(Word([0]),'estava'), (Pos([1]),'PCP')]),\n",
              " Rule('053', 'V', 'VAUX', [(Word([2]),'ser')]),\n",
              " Rule('054', 'PREP', 'PREP|+', [(Word([1]),'essas')]),\n",
              " Rule('040', 'ART', 'PREP', [(Word([0]),'a'), (Word([1]),'uma')]),\n",
              " Rule('059', 'VAUX', 'V', [(Pos([1]),'PROSUB')]),\n",
              " Rule('049', 'PROADJ', 'ART', [(Word([0]),'uma'), (Pos([1]),'N')]),\n",
              " Rule('040', 'PREP', 'PREP|+', [(Word([0]),'de'), (Word([1]),'eles')]),\n",
              " Rule('049', 'ADV', 'PREP|+', [(Word([0]),'em'), (Pos([1]),'ART')]),\n",
              " Rule('047', 'NPROP', 'PREP', [(Word([0]),'de'), (Pos([2]),'N')]),\n",
              " Rule('049', 'PREP', 'ART', [(Word([0]),'a'), (Pos([1]),'ADJ')]),\n",
              " Rule('056', 'ADJ', 'N', [(Pos([-1]),'ART'), (Pos([1]),'PREP')]),\n",
              " Rule('054', 'N', 'NUM', [(Word([1]),'%')]),\n",
              " Rule('039', 'PROADJ', 'ADV', [(Word([0]),'pouco'), (Word([-1]),'um')]),\n",
              " Rule('048', 'NPROP', 'ART', [(Word([0]),'os'), (Pos([-2]),'NPROP')]),\n",
              " Rule('043', 'ART', 'PRO-KS-REL', [(Word([1, 2]),'quais')]),\n",
              " Rule('056', 'ART', 'PROPESS', [(Pos([-1]),'PRO-KS-REL'), (Pos([1]),'V')]),\n",
              " Rule('051', 'PREP|+', 'PREP', [(Word([0]),'entre')]),\n",
              " Rule('073', 'NUM', 'N', [(Pos([1]),'ART'), (Pos([2]),'N'), (Word([1]),'a')]),\n",
              " Rule('040', 'ADV', 'KS', [(Word([0]),'já'), (Word([1]),'que')]),\n",
              " Rule('039', 'N', 'VAUX', [(Word([0]),'ser'), (Word([-1]),'a')]),\n",
              " Rule('049', 'ART', 'PREP', [(Word([0]),'a'), (Pos([1]),'CUR')]),\n",
              " Rule('049', 'PREP', 'KS', [(Word([0]),'como'), (Pos([1]),'PROPESS')]),\n",
              " Rule('054', 'PREP', 'PREP|+', [(Word([1]),'aquele')]),\n",
              " Rule('057', 'VAUX', 'V', [(Pos([1]),'PREP'), (Pos([2]),'ART')]),\n",
              " Rule('059', 'PREP|+', 'PREP', [(Pos([1]),'PCP')]),\n",
              " Rule('049', 'KS', 'NPROP', [(Word([0]),'do'), (Pos([1]),'NPROP')]),\n",
              " Rule('056', 'NUM', 'N', [(Pos([-1]),'PREP'), (Pos([1]),',')]),\n",
              " Rule('059', 'VAUX', 'V', [(Pos([1]),'PROADJ')]),\n",
              " Rule('050', 'ART', 'PREP', [(Word([0]),'a'), (Pos([-1]),'N')]),\n",
              " Rule('059', 'VAUX', 'V', [(Pos([1]),'NUM')]),\n",
              " Rule('039', 'PRO-KS-REL', 'KS', [(Word([0]),'que'), (Word([-1]),'vez')]),\n",
              " Rule('054', 'PREP', 'ADV', [(Word([1]),'seguida')]),\n",
              " Rule('056', 'ADJ', 'N', [(Pos([-1]),'ART'), (Pos([1]),'V')]),\n",
              " Rule('056', 'ADJ', 'N', [(Pos([-1]),'ART'), (Pos([1]),'PREP|+')]),\n",
              " Rule('051', 'PREP|+', 'PREP', [(Word([0]),'como')]),\n",
              " Rule('058', 'ART', 'NPROP', [(Pos([-1]),'\"'), (Pos([-2]),'PREP')]),\n",
              " Rule('040', 'PREP', 'PREP|+', [(Word([0]),'de'), (Word([1]),'isso')]),\n",
              " Rule('040', 'ART', 'NUM', [(Word([0]),'um'), (Word([1]),'mês')]),\n",
              " Rule('054', 'PREP', 'PREP|+', [(Word([1]),'estes')]),\n",
              " Rule('049', 'ART', 'PREP', [(Word([0]),'a'), (Pos([1]),'PROPESS')]),\n",
              " Rule('056', 'ART', 'PREP|+', [(Pos([-1]),'NPROP'), (Pos([1]),'ART')]),\n",
              " Rule('055', 'PRO-KS-REL', 'PROSUB', [(Word([-1]),'O')]),\n",
              " Rule('050', 'KC', 'PDEN', [(Word([0]),'seja'), (Pos([-1]),'KC')]),\n",
              " Rule('057', 'VAUX', 'V', [(Pos([1]),'PREP'), (Pos([2]),'N')]),\n",
              " Rule('040', 'KC', 'PDEN', [(Word([0]),'ou'), (Word([1]),'seja')]),\n",
              " Rule('049', 'ADV', 'PROADJ', [(Word([0]),'mais'), (Pos([1]),'NUM')]),\n",
              " Rule('049', 'PROPESS', 'ART', [(Word([0]),'o'), (Pos([1]),'N')]),\n",
              " Rule('039', 'ART', 'PREP', [(Word([0]),'a'), (Word([-1]),'relação')]),\n",
              " Rule('064', 'PREP|+', 'PREP', [(Pos([1, 2]),'PREP')]),\n",
              " Rule('040', 'PREP', 'PREP|+', [(Word([0]),'de'), (Word([1]),'elas')]),\n",
              " Rule('049', 'ADV', 'PREP', [(Word([0]),'Depois'), (Pos([1]),'PREP')]),\n",
              " Rule('049', 'PREP|+', 'PREP', [(Word([0]),'a'), (Pos([1]),'PROADJ')]),\n",
              " Rule('049', 'VAUX', 'V', [(Word([0]),'era'), (Pos([1]),'PCP')]),\n",
              " Rule('040', 'NPROP', 'PREP|+', [(Word([0]),'de'), (Word([1]),'os')]),\n",
              " Rule('049', 'V', 'VAUX', [(Word([0]),'tem'), (Pos([1]),'KS')]),\n",
              " Rule('054', 'PROADJ', 'PROSUB', [(Word([1]),'que')]),\n",
              " Rule('050', 'KS', 'PRO-KS-REL', [(Word([0]),'que'), (Pos([-1]),'PROSUB')]),\n",
              " Rule('040', 'ADV', 'PROADJ', [(Word([0]),'mais'), (Word([1]),'uma')]),\n",
              " Rule('040', 'PREP', 'PREP|+', [(Word([0]),'a'), (Word([1]),'os')]),\n",
              " Rule('049', 'N', 'ADJ', [(Word([0]),'alta'), (Pos([1]),'N')]),\n",
              " Rule('049', 'PREP', 'PREP|+', [(Word([0]),'Em'), (Pos([1]),'ART')]),\n",
              " Rule('059', 'VAUX', 'V', [(Pos([1]),'NPROP')]),\n",
              " Rule('040', 'PREP', 'KS', [(Word([0]),'desde'), (Word([1]),'que')]),\n",
              " Rule('040', 'PREP', 'PREP|+', [(Word([0]),'de'), (Word([1]),'ele')]),\n",
              " Rule('049', 'V', 'VAUX', [(Word([0]),'estava'), (Pos([1]),'V')]),\n",
              " Rule('051', 'PREP|+', 'PREP', [(Word([0]),'até')]),\n",
              " Rule('056', 'NUM', 'N', [(Pos([-1]),'ART'), (Pos([1]),'V')]),\n",
              " Rule('059', 'PREP|+', 'PREP', [(Pos([1]),'VAUX')]),\n",
              " Rule('050', 'PREP', 'NPROP', [(Word([0]),'De'), (Pos([-1]),'NPROP')]),\n",
              " Rule('054', 'ART', 'PREP', [(Word([1]),'cada')]),\n",
              " Rule('057', 'ART', 'PROPESS', [(Pos([1]),'V'), (Pos([2]),'PREP')]),\n",
              " Rule('069', 'PROPESS', 'KS', [(Pos([-1]),'KS'), (Word([-1]),'como'), (Word([0]),'se')]),\n",
              " Rule('040', 'PREP', 'PREP|+', [(Word([0]),'a'), (Word([1]),'as')]),\n",
              " Rule('039', 'ADJ', 'ADV', [(Word([0]),'novo'), (Word([-1]),'de')]),\n",
              " Rule('045', 'PREP', 'PREP|+', [(Word([1, 2, 3]),'aí')]),\n",
              " Rule('050', 'PREP', 'N', [(Word([0]),'tempo'), (Pos([-1]),'PREP')]),\n",
              " Rule('040', 'PREP', 'PREP|+', [(Word([0]),'de'), (Word([1]),'ela')]),\n",
              " Rule('054', 'V', 'V|+', [(Word([1]),'lo')]),\n",
              " Rule('057', 'PREP', 'PREP|+', [(Pos([1]),'PREP|+'), (Pos([2]),'PREP|+')]),\n",
              " Rule('049', 'VAUX', 'V', [(Word([0]),'eram'), (Pos([1]),'PCP')]),\n",
              " Rule('040', 'ART', 'NUM', [(Word([0]),'uma'), (Word([1]),'semana')]),\n",
              " Rule('049', 'PREP', 'ADV', [(Word([0]),'ao'), (Pos([1]),'ADV')]),\n",
              " Rule('049', 'V', 'VAUX', [(Word([0]),'vem'), (Pos([1]),'V')]),\n",
              " Rule('050', 'PRO-KS', 'KS', [(Word([0]),'que'), (Pos([-1]),'PREP')]),\n",
              " Rule('057', 'PREP', 'PREP|+', [(Pos([1]),'ART'), (Pos([2]),'PREP')]),\n",
              " Rule('067', 'ADV', 'PREP', [(Pos([1]),'PREP'), (Word([0]),'menos'), (Word([1]),'de')]),\n",
              " Rule('067', 'ADV', 'PROADJ', [(Pos([1]),'ART'), (Word([0]),'mais'), (Word([1]),'um')]),\n",
              " Rule('039', 'PROSUB', 'ADV', [(Word([0]),'pouco'), (Word([-1]),'um')]),\n",
              " Rule('040', 'PREP', 'ADV', [(Word([0]),'de'), (Word([1]),'novo')]),\n",
              " Rule('049', 'PREP|+', 'PREP', [(Word([0]),'de'), (Pos([1]),'PREP|+')]),\n",
              " Rule('050', 'ADJ', 'ADV', [(Word([0]),'geral'), (Pos([-1]),'PREP')]),\n",
              " Rule('049', 'PREP', 'ADV', [(Word([0]),'em'), (Pos([1]),'ADV')]),\n",
              " Rule('051', 'PREP|+', 'PREP', [(Word([0]),'para')]),\n",
              " Rule('039', 'PRO-KS-REL', 'KS', [(Word([0]),'que'), (Word([-1]),'desde')]),\n",
              " Rule('049', 'PREP|+', 'PREP', [(Word([0]),'por'), (Pos([1]),'PROADJ')]),\n",
              " Rule('049', 'PREP|+', 'PREP', [(Word([0]),'por'), (Pos([1]),'PROPESS')]),\n",
              " Rule('067', 'ADV', 'PREP|+', [(Pos([1]),'PREP|+'), (Word([0]),'antes'), (Word([1]),'de')]),\n",
              " Rule('067', 'PREP', 'PROADJ', [(Pos([1]),'ADV'), (Word([0]),'a'), (Word([1]),'mais')]),\n",
              " Rule('049', 'N', 'NPROP', [(Word([0]),'da'), (Pos([1]),'NPROP')]),\n",
              " Rule('049', 'PROPESS', 'KS', [(Word([0]),'se'), (Pos([1]),'PROPESS')]),\n",
              " Rule('049', 'V', 'VAUX', [(Word([0]),'ter'), (Pos([1]),'KS')]),\n",
              " Rule('051', 'PREP|+', 'PREP', [(Word([0]),'sobre')]),\n",
              " Rule('057', 'VAUX', 'V', [(Pos([1]),'PREP'), (Pos([2]),'NUM')]),\n",
              " Rule('067', 'ADV', 'PREP', [(Pos([1]),'PREP'), (Word([0]),'depois'), (Word([1]),'de')]),\n",
              " Rule('073', 'N', 'NPROP', [(Pos([1]),'NPROP'), (Pos([2]),'NPROP'), (Word([1]),'da')]),\n",
              " Rule('049', 'KS', 'PREP', [(Word([0]),'Como'), (Pos([1]),'N')]),\n",
              " Rule('049', 'VAUX', 'V', [(Word([0]),'estavam'), (Pos([1]),'PCP')]),\n",
              " Rule('073', 'N', 'NPROP', [(Pos([1]),'NPROP'), (Pos([2]),'NPROP'), (Word([1]),'do')]),\n",
              " Rule('039', 'ART', 'NUM', [(Word([0]),'um'), (Word([-1]),'mais')]),\n",
              " Rule('039', 'PRO-KS-REL', 'KS', [(Word([0]),'que'), (Word([-1]),'sem')]),\n",
              " Rule('040', 'ADV', 'KS', [(Word([0]),'ainda'), (Word([1]),'que')]),\n",
              " Rule('047', 'V', 'VAUX', [(Word([0]),'começa'), (Pos([2]),'V')]),\n",
              " Rule('047', 'V', 'VAUX', [(Word([0]),'foi'), (Pos([2]),'PCP')]),\n",
              " Rule('049', 'NPROP', 'ART', [(Word([0]),'as'), (Pos([1]),'N')]),\n",
              " Rule('049', 'NPROP', 'PREP', [(Word([0]),'de'), (Pos([1]),'V')]),\n",
              " Rule('049', 'PDEN', 'PREP|+', [(Word([0]),'por'), (Pos([1]),'ART')]))"
            ]
          },
          "metadata": {},
          "execution_count": 21
        }
      ]
    },
    {
      "cell_type": "markdown",
      "source": [
        "## Stemming"
      ],
      "metadata": {
        "id": "7G9ShAnoLDVy"
      }
    },
    {
      "cell_type": "code",
      "source": [
        "frase"
      ],
      "metadata": {
        "colab": {
          "base_uri": "https://localhost:8080/",
          "height": 36
        },
        "id": "AXopVYWbK1N0",
        "outputId": "98f384d4-c2e0-4bee-934b-1402d27b7274"
      },
      "execution_count": null,
      "outputs": [
        {
          "output_type": "execute_result",
          "data": {
            "text/plain": [
              "'Eu comer maçã ontem. Eu gostar maçã muito.'"
            ],
            "application/vnd.google.colaboratory.intrinsic+json": {
              "type": "string"
            }
          },
          "metadata": {},
          "execution_count": 22
        }
      ]
    },
    {
      "cell_type": "code",
      "source": [
        "words_tkz"
      ],
      "metadata": {
        "colab": {
          "base_uri": "https://localhost:8080/"
        },
        "id": "tzdhKC7mMwGg",
        "outputId": "596a9904-b4da-4f66-a593-84af1a1c7479"
      },
      "execution_count": null,
      "outputs": [
        {
          "output_type": "execute_result",
          "data": {
            "text/plain": [
              "['Eu', 'comer', 'maçã', 'ontem', '.', 'Eu', 'gostar', 'maçã', 'muito', '.']"
            ]
          },
          "metadata": {},
          "execution_count": 23
        }
      ]
    },
    {
      "cell_type": "code",
      "source": [
        "tagueados"
      ],
      "metadata": {
        "colab": {
          "base_uri": "https://localhost:8080/"
        },
        "id": "Dg0-4OgTMz9Q",
        "outputId": "cad9ebca-3753-4a03-de07-83063dd94588"
      },
      "execution_count": null,
      "outputs": [
        {
          "output_type": "execute_result",
          "data": {
            "text/plain": [
              "[('Eu', 'PROPESS'),\n",
              " ('comer', 'V'),\n",
              " ('maçã', 'N'),\n",
              " ('ontem', 'ADV'),\n",
              " ('.', '.'),\n",
              " ('Eu', 'PROPESS'),\n",
              " ('gostar', 'V'),\n",
              " ('maçã', 'N'),\n",
              " ('muito', 'ADV'),\n",
              " ('.', '.')]"
            ]
          },
          "metadata": {},
          "execution_count": 24
        }
      ]
    },
    {
      "cell_type": "markdown",
      "source": [
        "Podemos colocar uma regra para dividir as frases a partir de sujeitos ou de pronomes"
      ],
      "metadata": {
        "id": "YfVoPpjDNVFZ"
      }
    },
    {
      "cell_type": "code",
      "source": [
        "teste_tagger.tag(tkz.word_tokenize('Fabio comeu uma maçã ontem!'))"
      ],
      "metadata": {
        "colab": {
          "base_uri": "https://localhost:8080/"
        },
        "id": "qqJafENkNi4-",
        "outputId": "4784472d-fafb-4117-bfcf-6c009cb3553d"
      },
      "execution_count": null,
      "outputs": [
        {
          "output_type": "execute_result",
          "data": {
            "text/plain": [
              "[('Fabio', 'NPROP'),\n",
              " ('comeu', 'V'),\n",
              " ('uma', 'ART'),\n",
              " ('maçã', 'N'),\n",
              " ('ontem', 'ADV'),\n",
              " ('!', '!')]"
            ]
          },
          "metadata": {},
          "execution_count": 25
        }
      ]
    },
    {
      "cell_type": "code",
      "source": [
        "[v[0] for v in tagueados if v[1] is 'V']"
      ],
      "metadata": {
        "colab": {
          "base_uri": "https://localhost:8080/"
        },
        "id": "RN319gTKM6dD",
        "outputId": "2624c3e6-aed0-4e8c-fd18-18a242e9a6d0"
      },
      "execution_count": null,
      "outputs": [
        {
          "output_type": "execute_result",
          "data": {
            "text/plain": [
              "['comer', 'gostar']"
            ]
          },
          "metadata": {},
          "execution_count": 26
        }
      ]
    },
    {
      "cell_type": "code",
      "source": [
        "from nltk.stem import RegexpStemmer"
      ],
      "metadata": {
        "id": "ovlBH0QpO85K"
      },
      "execution_count": null,
      "outputs": []
    },
    {
      "cell_type": "code",
      "source": [
        "stemmerRGX = RegexpStemmer('er$|ar$|ir$')"
      ],
      "metadata": {
        "id": "kZ-nk_FPTAGi"
      },
      "execution_count": null,
      "outputs": []
    },
    {
      "cell_type": "code",
      "source": [
        "stemmerRGX.stem('comer')\n"
      ],
      "metadata": {
        "colab": {
          "base_uri": "https://localhost:8080/",
          "height": 36
        },
        "id": "IUPvtnpeTsue",
        "outputId": "479f29dd-31ac-4078-9017-22aca5dd3499"
      },
      "execution_count": null,
      "outputs": [
        {
          "output_type": "execute_result",
          "data": {
            "text/plain": [
              "'com'"
            ],
            "application/vnd.google.colaboratory.intrinsic+json": {
              "type": "string"
            }
          },
          "metadata": {},
          "execution_count": 29
        }
      ]
    },
    {
      "cell_type": "code",
      "source": [
        "stemmerRGX.stem('gostar')"
      ],
      "metadata": {
        "colab": {
          "base_uri": "https://localhost:8080/",
          "height": 36
        },
        "id": "SxbfSp6KT1Hz",
        "outputId": "3080a92b-ad62-4932-8067-0bffd7e56ca2"
      },
      "execution_count": null,
      "outputs": [
        {
          "output_type": "execute_result",
          "data": {
            "text/plain": [
              "'gost'"
            ],
            "application/vnd.google.colaboratory.intrinsic+json": {
              "type": "string"
            }
          },
          "metadata": {},
          "execution_count": 30
        }
      ]
    },
    {
      "cell_type": "markdown",
      "source": [
        "##Lemmatização??"
      ],
      "metadata": {
        "id": "Nynl5cioV9Ov"
      }
    },
    {
      "cell_type": "code",
      "source": [
        "from nltk.stem import WordNetLemmatizer"
      ],
      "metadata": {
        "id": "s_cmaEwjT4PH"
      },
      "execution_count": null,
      "outputs": []
    },
    {
      "cell_type": "code",
      "source": [
        "nltk.download('wordnet')"
      ],
      "metadata": {
        "colab": {
          "base_uri": "https://localhost:8080/"
        },
        "id": "sEEXpo_FWRr-",
        "outputId": "09a6f361-7c36-4c2b-d11d-ebee8cca9643"
      },
      "execution_count": null,
      "outputs": [
        {
          "output_type": "stream",
          "name": "stdout",
          "text": [
            "[nltk_data] Downloading package wordnet to /root/nltk_data...\n",
            "[nltk_data]   Unzipping corpora/wordnet.zip.\n"
          ]
        },
        {
          "output_type": "execute_result",
          "data": {
            "text/plain": [
              "True"
            ]
          },
          "metadata": {},
          "execution_count": 32
        }
      ]
    },
    {
      "cell_type": "code",
      "source": [
        "WN_Lemm = WordNetLemmatizer()"
      ],
      "metadata": {
        "id": "kRa5CMgmWFu5"
      },
      "execution_count": null,
      "outputs": []
    },
    {
      "cell_type": "code",
      "source": [
        "WN_Lemm.lemmatize('comi', pos='v')"
      ],
      "metadata": {
        "colab": {
          "base_uri": "https://localhost:8080/",
          "height": 36
        },
        "id": "GDozRmviWKHI",
        "outputId": "a46aa089-bfd3-46cd-ab47-437cdeeb50d8"
      },
      "execution_count": null,
      "outputs": [
        {
          "output_type": "execute_result",
          "data": {
            "text/plain": [
              "'comi'"
            ],
            "application/vnd.google.colaboratory.intrinsic+json": {
              "type": "string"
            }
          },
          "metadata": {},
          "execution_count": 34
        }
      ]
    },
    {
      "cell_type": "markdown",
      "source": [
        "Criar um func para lemmatizar verbos com o objetivo de coloca-los no infinitivo para facilitar a sugestão de sinais para o usuário"
      ],
      "metadata": {
        "id": "hj_kFDwxWgN2"
      }
    },
    {
      "cell_type": "code",
      "source": [
        "from nltk.corpus import mac_morpho"
      ],
      "metadata": {
        "id": "7qRBxKMeWOZ1"
      },
      "execution_count": null,
      "outputs": []
    },
    {
      "cell_type": "code",
      "source": [
        "nltk.download('mac_morpho')"
      ],
      "metadata": {
        "colab": {
          "base_uri": "https://localhost:8080/"
        },
        "id": "gbekD8K3NHBj",
        "outputId": "4499e16f-71c6-486b-b759-bbe4b6d11d8e"
      },
      "execution_count": null,
      "outputs": [
        {
          "output_type": "stream",
          "name": "stdout",
          "text": [
            "[nltk_data] Downloading package mac_morpho to /root/nltk_data...\n",
            "[nltk_data]   Unzipping corpora/mac_morpho.zip.\n"
          ]
        },
        {
          "output_type": "execute_result",
          "data": {
            "text/plain": [
              "True"
            ]
          },
          "metadata": {},
          "execution_count": 36
        }
      ]
    },
    {
      "cell_type": "code",
      "source": [
        "tagged_sents = mac_morpho.tagged_sents()\n",
        "tagged_sents"
      ],
      "metadata": {
        "colab": {
          "base_uri": "https://localhost:8080/"
        },
        "id": "oo5OrEusM6km",
        "outputId": "425d4e33-67a1-43a4-cb6d-9efbad51c0ae"
      },
      "execution_count": null,
      "outputs": [
        {
          "output_type": "execute_result",
          "data": {
            "text/plain": [
              "[[('Jersei', 'N'), ('atinge', 'V'), ('média', 'N'), ('de', 'PREP'), ('Cr$', 'CUR'), ('1,4', 'NUM'), ('milhão', 'N'), ('em', 'PREP|+'), ('a', 'ART'), ('venda', 'N'), ('de', 'PREP|+'), ('a', 'ART'), ('Pinhal', 'NPROP'), ('em', 'PREP'), ('São', 'NPROP'), ('Paulo', 'NPROP')], [('Programe', 'V'), ('sua', 'PROADJ'), ('viagem', 'N'), ('a', 'PREP|+'), ('a', 'ART'), ('Exposição', 'NPROP'), ('Nacional', 'NPROP'), ('do', 'NPROP'), ('Zebu', 'NPROP'), (',', ','), ('que', 'PRO-KS-REL'), ('começa', 'V'), ('dia', 'N'), ('25', 'N|AP')], ...]"
            ]
          },
          "metadata": {},
          "execution_count": 42
        }
      ]
    },
    {
      "cell_type": "code",
      "source": [
        "tags = [tuple[0] for tuple in mac_morpho.tagged_sents()]\n",
        "tags"
      ],
      "metadata": {
        "colab": {
          "base_uri": "https://localhost:8080/"
        },
        "id": "0lbmYwFpNElk",
        "outputId": "8f6a30ed-f34e-4b6e-dcb6-cbbe574f7e97"
      },
      "execution_count": null,
      "outputs": [
        {
          "output_type": "execute_result",
          "data": {
            "text/plain": [
              "[('Jersei', 'N'),\n",
              " ('Programe', 'V'),\n",
              " ('Safra', 'N'),\n",
              " ('A', 'ART'),\n",
              " ('A', 'ART'),\n",
              " ('Em', 'PREP|+'),\n",
              " ('A', 'ART'),\n",
              " ('A', 'ART'),\n",
              " ('\"', '\"'),\n",
              " ('O', 'ART'),\n",
              " ('A', 'ART'),\n",
              " ('agricultores', 'N'),\n",
              " ('A', 'ART'),\n",
              " ('O', 'ART'),\n",
              " ('Antonio', 'NPROP'),\n",
              " ('Ele', 'PROPESS'),\n",
              " ('As', 'ART'),\n",
              " ('O', 'ART'),\n",
              " ('Em', 'PREP|+'),\n",
              " ('Por', 'PREP|+'),\n",
              " ('Exemplo', 'N'),\n",
              " ('Essa', 'PROADJ'),\n",
              " ('Ainda', 'ADV'),\n",
              " ('Mantinha', 'V'),\n",
              " ('A', 'ART'),\n",
              " ('O', 'ART'),\n",
              " ('Ela', 'PROPESS'),\n",
              " ('Em', 'PREP|+'),\n",
              " ('Os', 'ART'),\n",
              " ('Segundo', 'PREP'),\n",
              " ('Isso', 'PROSUB'),\n",
              " ('Assim', 'ADV'),\n",
              " ('Mas', 'KC'),\n",
              " ('Segundo', 'PREP'),\n",
              " ('Mas', 'KC'),\n",
              " ('Sobre', 'PREP'),\n",
              " ('Por', 'PREP|+'),\n",
              " ('Ele', 'PROPESS'),\n",
              " ('O', 'ART'),\n",
              " ('Agora', 'ADV'),\n",
              " ('O', 'ART'),\n",
              " ('Augusto', 'NPROP'),\n",
              " ('Embora', 'KS'),\n",
              " ('As', 'ART'),\n",
              " ('A', 'ART'),\n",
              " ('Porém', 'KC'),\n",
              " ('Os', 'ART'),\n",
              " ('A', 'ART'),\n",
              " ('Em', 'PREP|+'),\n",
              " ('Há', 'V'),\n",
              " ('O', 'ART'),\n",
              " ('As', 'ART'),\n",
              " ('Venda', 'N'),\n",
              " ('Venda', 'N'),\n",
              " ('As', 'ART'),\n",
              " ('De', 'PREP'),\n",
              " ('Em', 'PREP|+'),\n",
              " ('Os', 'ART'),\n",
              " ('Pérsio', 'NPROP'),\n",
              " ('Pastre', 'NPROP'),\n",
              " ('\"', '\"'),\n",
              " ('Atualmente', 'ADV'),\n",
              " ('O', 'ART'),\n",
              " ('\"', '\"'),\n",
              " ('A', 'ART'),\n",
              " ('Com', 'PREP'),\n",
              " ('Em', 'PREP|+'),\n",
              " ('Com', 'PREP'),\n",
              " ('\"', '\"'),\n",
              " ('Em', 'PREP|+'),\n",
              " ('A', 'ART'),\n",
              " ('As', 'ART'),\n",
              " ('Mas', 'KC'),\n",
              " ('\"', '\"'),\n",
              " ('As', 'ART'),\n",
              " ('A', 'ART'),\n",
              " ('A', 'ART'),\n",
              " ('Suas', 'PROADJ'),\n",
              " ('\"', '\"'),\n",
              " ('A', 'ART'),\n",
              " ('\"', '\"'),\n",
              " ('De', 'PREP'),\n",
              " ('O', 'ART'),\n",
              " ('O', 'ART'),\n",
              " ('É', 'VAUX'),\n",
              " ('Segundo', 'PREP'),\n",
              " ('Para', 'PREP'),\n",
              " ('Flores', 'NPROP'),\n",
              " ('Para', 'PREP'),\n",
              " ('Segundo', 'PREP'),\n",
              " ('A', 'ART'),\n",
              " ('O', 'ART'),\n",
              " ('O', 'ART'),\n",
              " ('A', 'ART'),\n",
              " ('O', 'ART'),\n",
              " ('A', 'ART'),\n",
              " ('Segundo', 'PREP'),\n",
              " ('O', 'ART'),\n",
              " ('de', 'PREP'),\n",
              " ('Ele', 'PROPESS'),\n",
              " ('Bezerra', 'NPROP'),\n",
              " ('Técnicos', 'N'),\n",
              " ('Eles', 'PROPESS'),\n",
              " ('Segundo', 'PREP'),\n",
              " ('Os', 'ART'),\n",
              " ('cem', 'NUM'),\n",
              " ('Este', 'PROADJ'),\n",
              " ('É', 'V'),\n",
              " ('E', 'KC'),\n",
              " ('Forrageira', 'N'),\n",
              " ('Em', 'PREP'),\n",
              " ('Em', 'PREP|+'),\n",
              " ('Assim', 'KS'),\n",
              " ('Em', 'PREP|+'),\n",
              " ('Empresas', 'N'),\n",
              " ('Para', 'PREP'),\n",
              " ('Assim', 'KS'),\n",
              " ('de', 'PREP'),\n",
              " ('Em', 'PREP|+'),\n",
              " ('E', 'KC'),\n",
              " ('A', 'ART'),\n",
              " ('O', 'ART'),\n",
              " ('Esses', 'PROADJ'),\n",
              " ('A', 'ART'),\n",
              " ('Em', 'PREP|+'),\n",
              " ('Em', 'PREP|+'),\n",
              " ('Esse', 'PROADJ'),\n",
              " ('É', 'V'),\n",
              " ('Só', 'PDEN'),\n",
              " ('Assim', 'KS'),\n",
              " ('Não', 'ADV'),\n",
              " ('Estudo', 'N'),\n",
              " ('1,3', 'NUM'),\n",
              " ('A', 'ART'),\n",
              " ('Isto', 'PROSUB'),\n",
              " ('O', 'ART'),\n",
              " ('\"', '\"'),\n",
              " ('Rodrigues', 'NPROP'),\n",
              " ('Para', 'PREP'),\n",
              " ('Analisou', 'V'),\n",
              " ('Através', 'PREP|+'),\n",
              " ('O', 'ART'),\n",
              " ('A', 'ART'),\n",
              " ('É', 'V'),\n",
              " ('A', 'ART'),\n",
              " ('Joga', 'V|+'),\n",
              " ('A', 'ART'),\n",
              " ('Seriam', 'V'),\n",
              " ('Mas', 'KC'),\n",
              " ('Os', 'ART'),\n",
              " ('O', 'ART'),\n",
              " ('Fernando', 'NPROP'),\n",
              " ('\"', '\"'),\n",
              " ('Ele', 'PROPESS'),\n",
              " ('O', 'ART'),\n",
              " ('Pode', 'VAUX'),\n",
              " ('\"', '\"'),\n",
              " ('\"', '\"'),\n",
              " ('As', 'ART'),\n",
              " ('É', 'V'),\n",
              " ('Os', 'ART'),\n",
              " ('70', 'NUM'),\n",
              " ('O', 'ART'),\n",
              " ('Durante', 'PREP'),\n",
              " ('Um', 'PROSUB'),\n",
              " ('Os', 'ART'),\n",
              " ('Os', 'ART'),\n",
              " ('Seca', 'N'),\n",
              " ('A', 'ART'),\n",
              " ('Uma', 'ART'),\n",
              " ('Ela', 'PROPESS'),\n",
              " ('O', 'ART'),\n",
              " ('Desertificação', 'N'),\n",
              " ('Uma', 'ART'),\n",
              " ('A', 'ART'),\n",
              " ('A', 'ART'),\n",
              " ('Divide', 'V|+'),\n",
              " ('Se', 'KS'),\n",
              " ('Somente', 'PDEN'),\n",
              " ('A', 'ART'),\n",
              " ('Em', 'PREP|+'),\n",
              " ('Desertização', 'N'),\n",
              " ('É', 'V'),\n",
              " ('secas', 'ADJ'),\n",
              " ('É', 'V'),\n",
              " ('A', 'ART'),\n",
              " ('O', 'ART'),\n",
              " ('A', 'ART'),\n",
              " ('O', 'ART'),\n",
              " ('Evita', 'V'),\n",
              " ('São', 'NPROP'),\n",
              " ('\"', '\"'),\n",
              " ('O', 'ART'),\n",
              " ('\"', '\"'),\n",
              " ('Atualmente', 'ADV'),\n",
              " ('A', 'ART'),\n",
              " ('O', 'ART'),\n",
              " ('O', 'ART'),\n",
              " ('Segundo', 'PREP'),\n",
              " ('Devem', 'VAUX'),\n",
              " ('\"', '\"'),\n",
              " ('Quando', 'KS'),\n",
              " ('O', 'ART'),\n",
              " ('Um', 'ART'),\n",
              " ('O', 'ART'),\n",
              " ('O', 'ART'),\n",
              " ('O', 'ART'),\n",
              " ('O', 'ART'),\n",
              " ('Para', 'PREP'),\n",
              " ('Após', 'PREP'),\n",
              " ('O', 'ART'),\n",
              " ('Essa', 'PROADJ'),\n",
              " ('\"', '\"'),\n",
              " ('Há', 'V'),\n",
              " ('Um', 'ART'),\n",
              " ('Grande', 'ADJ'),\n",
              " ('De', 'PREP|+'),\n",
              " ('\"', '\"'),\n",
              " ('Sem', 'PREP'),\n",
              " ('A', 'ART'),\n",
              " ('Outro', 'PROADJ'),\n",
              " ('\"', '\"'),\n",
              " ('E', 'KC'),\n",
              " ('A', 'ART'),\n",
              " ('É', 'V'),\n",
              " ('O', 'ART'),\n",
              " ('Sem', 'PREP'),\n",
              " ('São', 'V'),\n",
              " ('Os', 'ART'),\n",
              " ('Se', 'KS'),\n",
              " ('Em', 'PREP|+'),\n",
              " ('A', 'ART'),\n",
              " ('\"', '\"'),\n",
              " ('Técnicas', 'N'),\n",
              " ('Consiste', 'V'),\n",
              " ('Assim', 'KS'),\n",
              " ('Um', 'PROSUB'),\n",
              " ('Como', 'KS'),\n",
              " ('A', 'ART'),\n",
              " ('É', 'V'),\n",
              " ('Os', 'ART'),\n",
              " ('O', 'ART'),\n",
              " ('O', 'ART'),\n",
              " ('A', 'ART'),\n",
              " ('Os', 'ART'),\n",
              " ('Também', 'PDEN'),\n",
              " ('Quarta-feira', 'N'),\n",
              " ('Tem', 'V'),\n",
              " ('É', 'V'),\n",
              " ('a', 'PREP'),\n",
              " ('mais', 'PREP'),\n",
              " ('Em', 'PREP'),\n",
              " ('\"', '\"'),\n",
              " ('Em', 'PREP|+'),\n",
              " ('Apesar', 'PREP|+'),\n",
              " ('Dia', 'N'),\n",
              " ('O', 'ART'),\n",
              " ('É', 'V'),\n",
              " ('originário', 'ADJ'),\n",
              " ('O', 'ART'),\n",
              " ('Segundo', 'PREP'),\n",
              " ('O', 'ART'),\n",
              " ('Já', 'KC'),\n",
              " ('A', 'ART'),\n",
              " ('Somente', 'PDEN'),\n",
              " ('O', 'ART'),\n",
              " ('foi', 'V'),\n",
              " ('Em', 'PREP|+'),\n",
              " ('Monte', 'NPROP'),\n",
              " ('A', 'ART'),\n",
              " ('Hoje', 'ADV'),\n",
              " ('Enio', 'NPROP'),\n",
              " ('Ele', 'PROPESS'),\n",
              " ('\"', '\"'),\n",
              " ('Monte', 'NPROP'),\n",
              " ('O', 'ART'),\n",
              " ('Foi', 'V'),\n",
              " ('Em', 'PREP|+'),\n",
              " ('Lá', 'ADV'),\n",
              " ('Para', 'PREP'),\n",
              " ('Começou', 'V'),\n",
              " ('Até', 'PREP'),\n",
              " ('A', 'ART'),\n",
              " ('Perde', 'V'),\n",
              " ('Os', 'ART'),\n",
              " ('12', 'NUM'),\n",
              " ('Em', 'PREP'),\n",
              " ('Estão', 'V'),\n",
              " ('O', 'ART'),\n",
              " ('Este', 'PROADJ'),\n",
              " ('A', 'ART'),\n",
              " ('Mas', 'KC'),\n",
              " ('\"', '\"'),\n",
              " ('\"', '\"'),\n",
              " ('em', 'PREP'),\n",
              " ('Suas', 'PROADJ'),\n",
              " ('Os', 'ART'),\n",
              " ('Somente', 'PDEN'),\n",
              " ('Em', 'PREP|+'),\n",
              " ('Em', 'PREP|+'),\n",
              " ('Para', 'PREP'),\n",
              " ('34ª', 'ADJ'),\n",
              " ('Ingressos', 'N'),\n",
              " ('Estacionamento', 'N'),\n",
              " ('Leilão', 'N'),\n",
              " ('O', 'ART'),\n",
              " ('média', 'N'),\n",
              " ('A', 'ART'),\n",
              " ('De', 'PREP'),\n",
              " ('Os', 'ART'),\n",
              " ('Em', 'PREP'),\n",
              " ('As', 'ART'),\n",
              " ('\"', '\"'),\n",
              " ('Uma', 'ART'),\n",
              " ('Registrada', 'PCP'),\n",
              " ('Balbino', 'NPROP'),\n",
              " ('S.', 'NPROP'),\n",
              " ('A', 'ART'),\n",
              " ('Será', 'V'),\n",
              " ('As', 'ART'),\n",
              " ('Os', 'ART'),\n",
              " ('Em', 'PREP|+'),\n",
              " ('Ainda', 'ADV'),\n",
              " ('Não', 'ADV'),\n",
              " ('A', 'ART'),\n",
              " ('Peões', 'N'),\n",
              " ('A', 'ART'),\n",
              " ('O', 'ART'),\n",
              " ('As', 'ART'),\n",
              " ('Ontem', 'ADV'),\n",
              " ('\"', '\"'),\n",
              " ('Os', 'ART'),\n",
              " ('Antonio', 'NPROP'),\n",
              " ('\"', '\"'),\n",
              " ('Este', 'PROADJ'),\n",
              " ('Para', 'PREP'),\n",
              " ('\"', '\"'),\n",
              " ('\"', '\"'),\n",
              " ('Se', 'KS'),\n",
              " ('além', 'PREP|+'),\n",
              " ('A', 'ART'),\n",
              " ('\"', '\"'),\n",
              " ('Toledo', 'NPROP'),\n",
              " ('Um', 'ART'),\n",
              " ('Para', 'PREP'),\n",
              " ('Enquanto', 'KS'),\n",
              " ('Estes', 'PROADJ'),\n",
              " ('O', 'ART'),\n",
              " ('As', 'ART'),\n",
              " ('\"', '\"'),\n",
              " ('Louis', 'NPROP'),\n",
              " ('Ele', 'PROPESS'),\n",
              " ('O', 'ART'),\n",
              " ('Em', 'PREP|+'),\n",
              " ('Geer', 'NPROP'),\n",
              " ('Segundo', 'PREP'),\n",
              " ('o', 'ART'),\n",
              " ('De', 'PREP|+'),\n",
              " ('\"', '\"'),\n",
              " ('A', 'ART'),\n",
              " ('Houve', 'V'),\n",
              " ('As', 'ART'),\n",
              " ('Somente', 'PDEN'),\n",
              " ('Os', 'ART'),\n",
              " ('Em', 'PREP'),\n",
              " ('\"', '\"'),\n",
              " ('Para', 'PREP'),\n",
              " ('\"', '\"'),\n",
              " ('A', 'ART'),\n",
              " ('Atualmente', 'ADV'),\n",
              " ('Em', 'PREP|+'),\n",
              " ('A', 'ART'),\n",
              " ('Logo', 'ADV'),\n",
              " ('\"', '\"'),\n",
              " ('Segundo', 'PREP'),\n",
              " ('Depois', 'ADV'),\n",
              " ('\"', '\"'),\n",
              " ('Agora', 'ADV'),\n",
              " ('\"', '\"'),\n",
              " ('Para', 'PREP'),\n",
              " ('\"', '\"'),\n",
              " ('Sastre', 'NPROP'),\n",
              " ('Em', 'PREP|+'),\n",
              " ('Mas', 'KC'),\n",
              " ('\"', '\"'),\n",
              " ('Ele', 'PROPESS'),\n",
              " ('Ao', 'PREP'),\n",
              " ('Mas', 'KC'),\n",
              " ('Clóvis', 'NPROP'),\n",
              " ('\"', '\"'),\n",
              " ('Movimento', 'N'),\n",
              " ('Movimento', 'N'),\n",
              " ('As', 'ART'),\n",
              " ('São', 'V'),\n",
              " ('\"', '\"'),\n",
              " ('Aqui', 'ADV'),\n",
              " ('Em', 'PREP|+'),\n",
              " ('Agora', 'ADV'),\n",
              " ('Mas', 'KC'),\n",
              " ('\"', '\"'),\n",
              " ('Segundo', 'PREP'),\n",
              " ('\"', '\"'),\n",
              " ('O', 'ART'),\n",
              " ('Uma', 'ART'),\n",
              " ('\"', '\"'),\n",
              " ('fatores', 'N'),\n",
              " ('A', 'ART'),\n",
              " ('Outra', 'PROADJ'),\n",
              " ('Há', 'V'),\n",
              " ('\"', '\"'),\n",
              " ('Manoel', 'NPROP'),\n",
              " ('\"', '\"'),\n",
              " ('Segundo', 'PREP'),\n",
              " ('\"', '\"'),\n",
              " ('Em', 'PREP|+'),\n",
              " ('Os', 'ART'),\n",
              " ('\"', '\"'),\n",
              " ('Hoje', 'ADV'),\n",
              " ('É', 'V'),\n",
              " ('O', 'ART'),\n",
              " ('Um', 'PROSUB'),\n",
              " ('Baseados', 'PCP'),\n",
              " ('\"', '\"'),\n",
              " ('A', 'ART'),\n",
              " ('92', 'N'),\n",
              " ('De', 'PREP|+'),\n",
              " ('\"', '\"'),\n",
              " ('A', 'ART'),\n",
              " ('A', 'ART'),\n",
              " ('\"', '\"'),\n",
              " ('Com', 'PREP'),\n",
              " ('O', 'ART'),\n",
              " ('Em', 'PREP|+'),\n",
              " ('Este', 'PROADJ'),\n",
              " ('A', 'ART'),\n",
              " ('Trata', 'V|+'),\n",
              " ('A', 'ART'),\n",
              " ('O', 'ART'),\n",
              " ('Segundo', 'PREP'),\n",
              " ('A', 'ART'),\n",
              " ('O', 'ART'),\n",
              " ('A', 'ART'),\n",
              " ('A', 'ART'),\n",
              " ('A', 'ART'),\n",
              " ('O', 'ART'),\n",
              " ('As', 'ART'),\n",
              " ('Em', 'PREP|+'),\n",
              " ('A', 'ART'),\n",
              " ('A', 'PREP'),\n",
              " ('O', 'ART'),\n",
              " ('Isto', 'PROSUB'),\n",
              " ('\"', '\"'),\n",
              " ('Esta', 'PROADJ'),\n",
              " ('\"', '\"'),\n",
              " ('O', 'ART'),\n",
              " ('Mas', 'KC'),\n",
              " ('Os', 'ART'),\n",
              " (',', ','),\n",
              " ('Em', 'PREP|+'),\n",
              " ('Em', 'PREP|+'),\n",
              " ('Com', 'PREP'),\n",
              " ('Hoje', 'ADV'),\n",
              " (',', ','),\n",
              " ('Agora', 'KC'),\n",
              " ('\"', '\"'),\n",
              " ('Ele', 'PROPESS'),\n",
              " ('Este', 'PROADJ'),\n",
              " ('Um', 'ART'),\n",
              " ('Em', 'PREP|+'),\n",
              " ('\"', '\"'),\n",
              " ('Outro', 'PROADJ'),\n",
              " ('Foram', 'VAUX'),\n",
              " ('Todos', 'PROSUB'),\n",
              " ('Os', 'ART'),\n",
              " ('O', 'ART'),\n",
              " ('A', 'ART'),\n",
              " ('Machline', 'NPROP'),\n",
              " ('Quebrando', 'V'),\n",
              " ('além', 'PREP'),\n",
              " ('Vale', 'NPROP'),\n",
              " ('Os', 'ART'),\n",
              " ('A', 'ART'),\n",
              " ('Ele', 'PROPESS'),\n",
              " ('A', 'ART'),\n",
              " ('Já', 'KC'),\n",
              " ('Para', 'PREP'),\n",
              " ('Segundo', 'PREP'),\n",
              " ('O', 'ART'),\n",
              " ('Segundo', 'PREP'),\n",
              " ('Confiante', 'ADJ'),\n",
              " ('Segundo', 'PREP'),\n",
              " ('De', 'PREP|+'),\n",
              " ('Machline', 'NPROP'),\n",
              " ('Eles', 'PROPESS'),\n",
              " ('em', 'PREP'),\n",
              " ('Fechando', 'V'),\n",
              " ('Foram', 'VAUX'),\n",
              " ('A', 'ART'),\n",
              " ('A', 'ART'),\n",
              " ('O', 'ART'),\n",
              " ('Tinha', 'VAUX'),\n",
              " ('Foram', 'V'),\n",
              " ('A', 'ART'),\n",
              " ('300', 'NUM'),\n",
              " ('De', 'PREP|+'),\n",
              " ('Segundo', 'PREP'),\n",
              " ('O', 'ART'),\n",
              " ('Vários', 'PROADJ'),\n",
              " ('Mas', 'KC'),\n",
              " ('Em', 'PREP|+'),\n",
              " ('A', 'ART'),\n",
              " ('Para', 'PREP'),\n",
              " ('Junto', 'PREP|+'),\n",
              " ('Os', 'ART'),\n",
              " ('Em', 'PREP|+'),\n",
              " ('Os', 'ART'),\n",
              " ('Em', 'PREP|+'),\n",
              " ('A', 'ART'),\n",
              " ('Dividem', 'V'),\n",
              " ('O', 'PROPESS'),\n",
              " ('Como', 'PREP'),\n",
              " ('Em', 'PREP|+'),\n",
              " ('por', 'PREP'),\n",
              " ('Alguns', 'PROADJ'),\n",
              " ('A', 'ART'),\n",
              " ('Foi', 'VAUX'),\n",
              " ('A', 'ART'),\n",
              " ('Em', 'PREP|+'),\n",
              " ('Serva', 'NPROP'),\n",
              " ('Já', 'KC'),\n",
              " ('E', 'KC'),\n",
              " ('Os', 'ART'),\n",
              " ('Sem', 'PREP'),\n",
              " ('Promovido', 'PCP'),\n",
              " ('Próximos', 'ADJ'),\n",
              " ('Tel', 'N'),\n",
              " ('(', '('),\n",
              " ('Dia', 'N'),\n",
              " ('Tel', 'N'),\n",
              " ('(', '('),\n",
              " ('Raça', 'N'),\n",
              " ('Sábado', 'N'),\n",
              " ('Em', 'PREP|+'),\n",
              " ('Encerrando', 'V'),\n",
              " ('Foram', 'V'),\n",
              " ('A', 'ART'),\n",
              " ('Até', 'PREP'),\n",
              " ('Ela', 'PROPESS'),\n",
              " ('Segundo', 'PREP'),\n",
              " ('Em', 'PREP'),\n",
              " ('Já', 'KC'),\n",
              " ('Eles', 'PROPESS'),\n",
              " ('5º', 'ADJ'),\n",
              " ('promoção', 'N'),\n",
              " ('(', '('),\n",
              " ('Leilão', 'NPROP'),\n",
              " ('promoção', 'N'),\n",
              " ('(', '('),\n",
              " ('O', 'ART'),\n",
              " ('170', 'NUM'),\n",
              " ('A', 'ART'),\n",
              " ('A', 'ART'),\n",
              " ('Mas', 'KC'),\n",
              " ('Ela', 'PROPESS'),\n",
              " ('depois', 'PREP'),\n",
              " ('7ª', 'ADJ'),\n",
              " ('Informações', 'N'),\n",
              " ('(', '('),\n",
              " ('\"', '\"'),\n",
              " ('As', 'ART'),\n",
              " ('Para', 'PREP'),\n",
              " ('Formado', 'PCP'),\n",
              " ('A', 'ART'),\n",
              " ('6ª', 'ADJ'),\n",
              " ('Tel', 'N'),\n",
              " ('(', '('),\n",
              " ('Agricultores', 'N'),\n",
              " ('Cerca', 'PREP'),\n",
              " ('É', 'V'),\n",
              " ('O', 'ART'),\n",
              " ('A', 'ART'),\n",
              " ('Em', 'PREP'),\n",
              " ('Os', 'ART'),\n",
              " ('\"', '\"'),\n",
              " ('gaviões-carcarás', 'N'),\n",
              " ('As', 'ART'),\n",
              " ('Em', 'PREP|+'),\n",
              " ('Em', 'PREP|+'),\n",
              " ('Novidade', 'N'),\n",
              " ('Em', 'PREP'),\n",
              " ('Além', 'PREP'),\n",
              " ('Os', 'ART'),\n",
              " ('A', 'ART'),\n",
              " ('Em', 'PREP|+'),\n",
              " ('\"', '\"'),\n",
              " ('Mas', 'KC'),\n",
              " ('por', 'PREP'),\n",
              " ('As', 'ART'),\n",
              " ('A', 'ART'),\n",
              " ('A', 'ART'),\n",
              " ('Somente', 'PDEN'),\n",
              " ('Há', 'V'),\n",
              " ('As', 'ART'),\n",
              " ('Carlos', 'NPROP'),\n",
              " ('Ele', 'PROPESS'),\n",
              " ('A', 'ART'),\n",
              " ('Além', 'PREP'),\n",
              " ('Todos', 'PROADJ'),\n",
              " ('Para', 'PREP'),\n",
              " ('Depois', 'PREP'),\n",
              " ('Este', 'PROADJ'),\n",
              " ('\"', '\"'),\n",
              " ('Com', 'PREP'),\n",
              " ('Os', 'ART'),\n",
              " ('Boa', 'ADJ'),\n",
              " ('\"', '\"'),\n",
              " ('Os', 'ART'),\n",
              " ('A', 'ART'),\n",
              " ('vai', 'VAUX'),\n",
              " ('Segundo', 'PREP'),\n",
              " ('Brando', 'NPROP'),\n",
              " ('A', 'ART'),\n",
              " ('Além', 'PREP'),\n",
              " ('Alguns', 'PROSUB'),\n",
              " ('As', 'ART'),\n",
              " ('Entre', 'PREP'),\n",
              " ('O', 'ART'),\n",
              " ('\"', '\"'),\n",
              " ('Souza', 'NPROP'),\n",
              " ('O', 'ART'),\n",
              " ('Para', 'PREP'),\n",
              " ('Em', 'PREP|+'),\n",
              " ('A', 'ART'),\n",
              " ('A', 'ART'),\n",
              " ('Giani', 'NPROP'),\n",
              " ('Com', 'PREP'),\n",
              " ('A', 'ART'),\n",
              " ('Ainda', 'ADV'),\n",
              " ('Em', 'PREP|+'),\n",
              " ('A', 'ART'),\n",
              " ('O', 'ART'),\n",
              " ('Segundo', 'ADJ'),\n",
              " ('Como', 'KS'),\n",
              " ('Ele', 'PROPESS'),\n",
              " ('\"', '\"'),\n",
              " ('A', 'ART'),\n",
              " ('Por', 'PREP|+'),\n",
              " ('É', 'V'),\n",
              " ('A', 'ART'),\n",
              " ('Por', 'PREP'),\n",
              " ('Índice', 'N'),\n",
              " ('Em', 'PREP|+'),\n",
              " ('Produtores', 'N'),\n",
              " ('Segundo', 'PREP'),\n",
              " ('Distante', 'ADJ'),\n",
              " ('é', 'V'),\n",
              " ('Sobretudo', 'ADV'),\n",
              " ('Em', 'PREP|+'),\n",
              " ('Inicialmente', 'ADV'),\n",
              " ('Tal', 'KS'),\n",
              " ('Kennedy', 'NPROP'),\n",
              " ('A', 'ART'),\n",
              " ('em', 'PREP'),\n",
              " ('A', 'ART'),\n",
              " ('Depois', 'PREP|+'),\n",
              " ('As', 'ART'),\n",
              " ('Tal', 'KS'),\n",
              " ('A', 'ART'),\n",
              " ('Paradoxalmente', 'ADV'),\n",
              " ('O', 'ART'),\n",
              " ('por', 'PREP'),\n",
              " (',', ','),\n",
              " ('de', 'PREP'),\n",
              " ('José', 'NPROP'),\n",
              " ('O', 'PROSUB'),\n",
              " ('Becker', 'NPROP'),\n",
              " ('Cada', 'PROADJ'),\n",
              " ('\"', '\"'),\n",
              " ('Mas', 'KC'),\n",
              " ('Como', 'KS'),\n",
              " ('Outro', 'PROADJ'),\n",
              " ('A', 'ART'),\n",
              " ('Em', 'PREP|+'),\n",
              " ('O', 'ART'),\n",
              " ('Fernando', 'NPROP'),\n",
              " ('Assumiu', 'V'),\n",
              " ('Ele', 'PROPESS'),\n",
              " ('\"', '\"'),\n",
              " ('Segundo', 'PREP'),\n",
              " ('Em', 'PREP|+'),\n",
              " ('Mas', 'KC'),\n",
              " ('Helmut', 'NPROP'),\n",
              " ('A', 'ART'),\n",
              " ('Funcionário', 'N'),\n",
              " ('Zellmer', 'NPROP'),\n",
              " ('Para', 'PREP'),\n",
              " ('Enquanto', 'KS'),\n",
              " ('Paulistas', 'N'),\n",
              " ('O', 'ART'),\n",
              " ('Em', 'PREP|+'),\n",
              " ('Os', 'ART'),\n",
              " ('Maior', 'ADJ'),\n",
              " ('\"', '\"'),\n",
              " ('Sobrinho', 'N'),\n",
              " ('A', 'ART'),\n",
              " ('Segundo', 'PREP'),\n",
              " ('\"', '\"'),\n",
              " ('\"', '\"'),\n",
              " ('Para', 'PREP'),\n",
              " ('Agricultores', 'N'),\n",
              " ('Em', 'PREP|+'),\n",
              " ('Para', 'PREP'),\n",
              " ('A', 'ART'),\n",
              " ('Clóvis', 'NPROP'),\n",
              " ('É', 'V'),\n",
              " ('Em', 'PREP|+'),\n",
              " ('A', 'ART'),\n",
              " ('A', 'PREP'),\n",
              " ('A', 'ART'),\n",
              " ('\"', '\"'),\n",
              " ('Bogue', 'NPROP'),\n",
              " ('O', 'ART'),\n",
              " ('Em', 'PREP|+'),\n",
              " ('As', 'ART'),\n",
              " ('\"', '\"'),\n",
              " ('Não', 'ADV'),\n",
              " ('A', 'ART'),\n",
              " ('Mas', 'KC'),\n",
              " ('Solos', 'N'),\n",
              " ('Mas', 'KC'),\n",
              " ('Protegido', 'PCP'),\n",
              " ('Ganha', 'V'),\n",
              " ('Segurança', 'N'),\n",
              " ('É', 'V'),\n",
              " ('Este', 'PROSUB'),\n",
              " ('\"', '\"'),\n",
              " ('A', 'ART'),\n",
              " ('O', 'ART'),\n",
              " ('Convencer', 'V'),\n",
              " ('O', 'ART'),\n",
              " ('Prova', 'N'),\n",
              " ('Hoje', 'ADV'),\n",
              " ('O', 'ART'),\n",
              " (',', ','),\n",
              " ('Os', 'ART'),\n",
              " ('Ele', 'PROPESS'),\n",
              " ('Parte', 'N'),\n",
              " ('Ocorreu', 'V'),\n",
              " ('Em', 'PREP|+'),\n",
              " ('Caberia', 'V'),\n",
              " ('Para', 'PREP'),\n",
              " ('Ela', 'PROPESS'),\n",
              " ('Uma', 'ART'),\n",
              " (',', ','),\n",
              " ('A', 'PREP'),\n",
              " ('Em', 'PREP|+'),\n",
              " ('Os', 'ART'),\n",
              " ('Para', 'PREP'),\n",
              " ('O', 'ART'),\n",
              " ('A', 'ART'),\n",
              " ('Nascida', 'PCP'),\n",
              " ('A', 'ART'),\n",
              " ('Enquanto', 'KS'),\n",
              " ('Tradicional', 'ADJ'),\n",
              " ('Outro', 'PROADJ'),\n",
              " ('É', 'V'),\n",
              " ('\"', '\"'),\n",
              " ('Estarão', 'V'),\n",
              " ('Entre', 'PREP'),\n",
              " ('Fagundes', 'NPROP'),\n",
              " ('Embora', 'KS'),\n",
              " ('Organizados', 'PCP'),\n",
              " ('Esta', 'PROADJ'),\n",
              " ('A', 'ART'),\n",
              " ('\"', '\"'),\n",
              " ('Este', 'PROADJ'),\n",
              " ('Foram', 'VAUX'),\n",
              " ('Próximos', 'ADJ'),\n",
              " ('(', '('),\n",
              " ('3º', 'ADJ'),\n",
              " ('Tel', 'N'),\n",
              " ('(', '('),\n",
              " ('O', 'ART'),\n",
              " ('Realizado', 'PCP'),\n",
              " ('A', 'ART'),\n",
              " ('Tradicionalmente', 'ADV'),\n",
              " ('\"', '\"'),\n",
              " ('Os', 'ART'),\n",
              " ('O', 'ART'),\n",
              " ('O', 'ART'),\n",
              " ('\"', '\"'),\n",
              " ('O', 'ART'),\n",
              " ('de', 'PREP'),\n",
              " ('\"', '\"'),\n",
              " ('Privatizado', 'PCP'),\n",
              " ('além', 'PREP|+'),\n",
              " ('As', 'ART'),\n",
              " ('Merecem', 'V'),\n",
              " ('Também', 'PDEN'),\n",
              " ('Isto', 'PROSUB'),\n",
              " ('O', 'ART'),\n",
              " ('O', 'ART'),\n",
              " ('Começou', 'V'),\n",
              " ('Uma', 'PROSUB'),\n",
              " ('Os', 'ART'),\n",
              " ('Hoje', 'ADV'),\n",
              " ('30ª', 'ADJ'),\n",
              " ('Informações', 'N'),\n",
              " ('(', '('),\n",
              " ('Leilão', 'N'),\n",
              " ('Morumbi', 'NPROP'),\n",
              " ('Tel', 'N'),\n",
              " ('(', '('),\n",
              " ('A', 'ART'),\n",
              " ('O', 'ART'),\n",
              " ('\"', '\"'),\n",
              " ('Como', 'KS'),\n",
              " ('As', 'ART'),\n",
              " ('Os', 'ART'),\n",
              " ('Fagundes', 'NPROP'),\n",
              " ('\"', '\"'),\n",
              " ('Segundo', 'PREP'),\n",
              " ('\"', '\"'),\n",
              " ('O', 'ART'),\n",
              " ('Outra', 'PROADJ'),\n",
              " ('Dificilmente', 'ADV'),\n",
              " ('Uma', 'ART'),\n",
              " ('Mas', 'KC'),\n",
              " ('Foi', 'VAUX'),\n",
              " ('A', 'ART'),\n",
              " ('\"', '\"'),\n",
              " ('Devido', 'PREP'),\n",
              " ('O', 'ART'),\n",
              " ('\"', '\"'),\n",
              " ('Outro', 'PROADJ'),\n",
              " ('O', 'ART'),\n",
              " ('Segundo', 'PREP'),\n",
              " ('\"', '\"'),\n",
              " ('As', 'ART'),\n",
              " ('Enquanto', 'KS'),\n",
              " ('Todas', 'PROSUB'),\n",
              " ('Centro', 'NPROP'),\n",
              " ('Segundo', 'PREP'),\n",
              " ('\"', '\"'),\n",
              " ('O', 'ART'),\n",
              " ('O', 'ART'),\n",
              " ('O', 'ART'),\n",
              " (',', ','),\n",
              " ('Se', 'KS'),\n",
              " ('O', 'ART'),\n",
              " ('Com', 'PREP'),\n",
              " ('O', 'ART'),\n",
              " ('Com', 'PREP'),\n",
              " ('Velocidade', 'N'),\n",
              " ('Duas', 'NUM'),\n",
              " ('Em', 'PREP|+'),\n",
              " ('Costa', 'NPROP'),\n",
              " ('\"', '\"'),\n",
              " ('Outro', 'PROADJ'),\n",
              " ('\"', '\"'),\n",
              " ('A', 'ART'),\n",
              " ('\"', '\"'),\n",
              " ('Em', 'PREP|+'),\n",
              " ('Em', 'PREP'),\n",
              " ('Em', 'PREP|+'),\n",
              " ('Cálculos', 'N'),\n",
              " ('Segundo', 'PREP'),\n",
              " ('O', 'ART'),\n",
              " ('Apenas', 'PDEN'),\n",
              " ('Este', 'PROADJ'),\n",
              " ('O', 'ART'),\n",
              " ('através', 'PREP'),\n",
              " ('Em', 'ADV'),\n",
              " ('O', 'ART'),\n",
              " ('O', 'ART'),\n",
              " ('Não', 'ADV'),\n",
              " ('que', 'KS'),\n",
              " ('Quem', 'PROSUB'),\n",
              " ('Até', 'PDEN'),\n",
              " ('Porém', 'KC'),\n",
              " ('É', 'V'),\n",
              " ('Os', 'ART'),\n",
              " ('Já', 'ADV'),\n",
              " ('Mas', 'KC'),\n",
              " ('em', 'PREP'),\n",
              " ('A', 'ART'),\n",
              " ('Acreditamos', 'V'),\n",
              " ('A', 'ART'),\n",
              " ('essa', 'PROADJ'),\n",
              " ('Estamos', 'V'),\n",
              " ('Parece', 'V|+'),\n",
              " ('O', 'ART'),\n",
              " ('o', 'ART'),\n",
              " ('Tão', 'KS'),\n",
              " ('Rádio', 'N'),\n",
              " ('Em', 'PREP|+'),\n",
              " ('Tão', 'KS'),\n",
              " ('(', '('),\n",
              " ('As', 'ART'),\n",
              " ('As', 'ART'),\n",
              " ('Em', 'PREP|+'),\n",
              " ('Foram', 'VAUX'),\n",
              " ('Em', 'PREP|+'),\n",
              " ('De', 'PREP'),\n",
              " ('São', 'V'),\n",
              " ('A', 'ART'),\n",
              " ('As', 'ART'),\n",
              " ('Irrigação', 'N'),\n",
              " ('O', 'ART'),\n",
              " ('Troque', 'V'),\n",
              " ('Ajuste', 'V'),\n",
              " ('A', 'ART'),\n",
              " ('A', 'ART'),\n",
              " ('Mantenha', 'V'),\n",
              " ('A', 'ART'),\n",
              " ('Velocidades', 'N'),\n",
              " ('Para', 'PREP'),\n",
              " ('Multiplique', 'V'),\n",
              " ('Use', 'V'),\n",
              " ('Para', 'PREP'),\n",
              " ('Em', 'PREP|+'),\n",
              " ('Outra', 'PROADJ'),\n",
              " ('Caminhe', 'V'),\n",
              " ('A', 'ART'),\n",
              " ('A', 'ART'),\n",
              " ('De', 'PREP|+'),\n",
              " ('Mantenha', 'V'),\n",
              " ('Ajuste', 'V'),\n",
              " ('A', 'ART'),\n",
              " ('A', 'ART'),\n",
              " ('A', 'ART'),\n",
              " ('Ajuste', 'V'),\n",
              " ('Deve', 'VAUX'),\n",
              " ('Está', 'VAUX'),\n",
              " ('É', 'V'),\n",
              " ('\"', '\"'),\n",
              " ('A', 'ART'),\n",
              " ('Segundo', 'PREP'),\n",
              " ('Há', 'V'),\n",
              " ('É', 'V'),\n",
              " ('Opções', 'N'),\n",
              " ('Devido', 'PREP|+'),\n",
              " ('apesar', 'PREP|+'),\n",
              " ('Isto', 'PROSUB'),\n",
              " ('A', 'ART'),\n",
              " ('Foram', 'VAUX'),\n",
              " ('Existe', 'V'),\n",
              " ('Este', 'PROADJ'),\n",
              " ('Para', 'PREP'),\n",
              " ('Cada', 'PROADJ'),\n",
              " ('A', 'ART'),\n",
              " ('\"', '\"'),\n",
              " ('Trabalhando', 'V'),\n",
              " ('São', 'V'),\n",
              " ('\"', '\"'),\n",
              " ('O', 'ART'),\n",
              " ('abaixo', 'PREP|+'),\n",
              " ('Com', 'PREP'),\n",
              " ('Este', 'PROSUB'),\n",
              " ('Hoje', 'ADV'),\n",
              " ('\"', '\"'),\n",
              " ('Apesar', 'PREP|+'),\n",
              " ('\"', '\"'),\n",
              " ('Para', 'PREP'),\n",
              " ('Segundo', 'PREP'),\n",
              " ('por', 'KC'),\n",
              " ('\"', '\"'),\n",
              " ('Ele', 'PROPESS'),\n",
              " ('Até', 'PREP'),\n",
              " ('Produtores', 'N'),\n",
              " ('A', 'ART'),\n",
              " ('Sem', 'PREP'),\n",
              " ('Em', 'PREP|+'),\n",
              " ('A', 'ART'),\n",
              " ('O', 'ART'),\n",
              " ('Quem', 'PROSUB'),\n",
              " ('Em', 'PREP'),\n",
              " ('Resultado', 'N'),\n",
              " ('Se', 'KS'),\n",
              " ('Restarão', 'V'),\n",
              " ('A', 'ART'),\n",
              " ('Em', 'PREP|+'),\n",
              " ('O', 'ART'),\n",
              " ('\"', '\"'),\n",
              " ('Em', 'PREP'),\n",
              " ('O', 'PROPESS'),\n",
              " ('\"', '\"'),\n",
              " ('Se', 'KS'),\n",
              " ('Outro', 'PROADJ'),\n",
              " ('\"', '\"'),\n",
              " ('Se', 'KS'),\n",
              " ('É', 'V'),\n",
              " ('Algodoeiras', 'N'),\n",
              " ('A', 'ART'),\n",
              " ('Cerca', 'PREP'),\n",
              " ('A', 'ART'),\n",
              " ('Eles', 'PROPESS'),\n",
              " ('O', 'ART'),\n",
              " ('Ele', 'PROPESS'),\n",
              " ('Preço', 'N'),\n",
              " ...]"
            ]
          },
          "metadata": {},
          "execution_count": 43
        }
      ]
    },
    {
      "cell_type": "code",
      "source": [
        "nltk.FreqDist(tags)\n"
      ],
      "metadata": {
        "colab": {
          "base_uri": "https://localhost:8080/"
        },
        "id": "c-wjCyg4h2Ru",
        "outputId": "ce759c5b-d9d6-4c34-baaf-72fdf99ade59"
      },
      "execution_count": null,
      "outputs": [
        {
          "output_type": "execute_result",
          "data": {
            "text/plain": [
              "FreqDist({('Jersei', 'N'): 1,\n",
              "          ('Programe', 'V'): 1,\n",
              "          ('Safra', 'N'): 1,\n",
              "          ('A', 'ART'): 4705,\n",
              "          ('Em', 'PREP|+'): 2192,\n",
              "          ('\"', '\"'): 2672,\n",
              "          ('O', 'ART'): 5537,\n",
              "          ('agricultores', 'N'): 1,\n",
              "          ('Antonio', 'NPROP'): 13,\n",
              "          ('Ele', 'PROPESS'): 692,\n",
              "          ('As', 'ART'): 769,\n",
              "          ('Por', 'PREP|+'): 132,\n",
              "          ('Exemplo', 'N'): 12,\n",
              "          ('Essa', 'PROADJ'): 115,\n",
              "          ('Ainda', 'ADV'): 58,\n",
              "          ('Mantinha', 'V'): 1,\n",
              "          ('Ela', 'PROPESS'): 188,\n",
              "          ('Os', 'ART'): 1530,\n",
              "          ('Segundo', 'PREP'): 934,\n",
              "          ('Isso', 'PROSUB'): 184,\n",
              "          ('Assim', 'ADV'): 75,\n",
              "          ('Mas', 'KC'): 945,\n",
              "          ('Sobre', 'PREP'): 32,\n",
              "          ('Agora', 'ADV'): 86,\n",
              "          ('Augusto', 'NPROP'): 11,\n",
              "          ('Embora', 'KS'): 57,\n",
              "          ('Porém', 'KC'): 26,\n",
              "          ('Há', 'V'): 229,\n",
              "          ('Venda', 'N'): 3,\n",
              "          ('De', 'PREP'): 261,\n",
              "          ('Pérsio', 'NPROP'): 1,\n",
              "          ('Pastre', 'NPROP'): 1,\n",
              "          ('Atualmente', 'ADV'): 32,\n",
              "          ('Com', 'PREP'): 507,\n",
              "          ('Suas', 'PROADJ'): 26,\n",
              "          ('É', 'VAUX'): 26,\n",
              "          ('Para', 'PREP'): 796,\n",
              "          ('Flores', 'NPROP'): 1,\n",
              "          ('de', 'PREP'): 49,\n",
              "          ('Bezerra', 'NPROP'): 1,\n",
              "          ('Técnicos', 'N'): 7,\n",
              "          ('Eles', 'PROPESS'): 200,\n",
              "          ('cem', 'NUM'): 1,\n",
              "          ('Este', 'PROADJ'): 90,\n",
              "          ('É', 'V'): 709,\n",
              "          ('E', 'KC'): 589,\n",
              "          ('Forrageira', 'N'): 1,\n",
              "          ('Em', 'PREP'): 969,\n",
              "          ('Assim', 'KS'): 17,\n",
              "          ('Empresas', 'N'): 6,\n",
              "          ('Esses', 'PROADJ'): 39,\n",
              "          ('Esse', 'PROADJ'): 109,\n",
              "          ('Só', 'PDEN'): 105,\n",
              "          ('Não', 'ADV'): 586,\n",
              "          ('Estudo', 'N'): 8,\n",
              "          ('1,3', 'NUM'): 1,\n",
              "          ('Isto', 'PROSUB'): 53,\n",
              "          ('Rodrigues', 'NPROP'): 2,\n",
              "          ('Analisou', 'V'): 1,\n",
              "          ('Através', 'PREP|+'): 6,\n",
              "          ('Joga', 'V|+'): 2,\n",
              "          ('Seriam', 'V'): 2,\n",
              "          ('Fernando', 'NPROP'): 23,\n",
              "          ('Pode', 'VAUX'): 47,\n",
              "          ('70', 'NUM'): 2,\n",
              "          ('Durante', 'PREP'): 86,\n",
              "          ('Um', 'PROSUB'): 108,\n",
              "          ('Seca', 'N'): 3,\n",
              "          ('Uma', 'ART'): 201,\n",
              "          ('Desertificação', 'N'): 1,\n",
              "          ('Divide', 'V|+'): 1,\n",
              "          ('Se', 'KS'): 412,\n",
              "          ('Somente', 'PDEN'): 17,\n",
              "          ('Desertização', 'N'): 1,\n",
              "          ('secas', 'ADJ'): 1,\n",
              "          ('Evita', 'V'): 2,\n",
              "          ('São', 'NPROP'): 19,\n",
              "          ('Devem', 'VAUX'): 6,\n",
              "          ('Quando', 'KS'): 211,\n",
              "          ('Um', 'ART'): 260,\n",
              "          ('Após', 'PREP'): 62,\n",
              "          ('Grande', 'ADJ'): 9,\n",
              "          ('De', 'PREP|+'): 312,\n",
              "          ('Sem', 'PREP'): 93,\n",
              "          ('Outro', 'PROADJ'): 82,\n",
              "          ('São', 'V'): 149,\n",
              "          ('Técnicas', 'N'): 1,\n",
              "          ('Consiste', 'V'): 3,\n",
              "          ('Como', 'KS'): 157,\n",
              "          ('Também', 'PDEN'): 97,\n",
              "          ('Quarta-feira', 'N'): 3,\n",
              "          ('Tem', 'V'): 79,\n",
              "          ('a', 'PREP'): 8,\n",
              "          ('mais', 'PREP'): 21,\n",
              "          ('Apesar', 'PREP|+'): 63,\n",
              "          ('Dia', 'N'): 21,\n",
              "          ('originário', 'ADJ'): 1,\n",
              "          ('Já', 'KC'): 56,\n",
              "          ('foi', 'V'): 8,\n",
              "          ('Monte', 'NPROP'): 2,\n",
              "          ('Hoje', 'ADV'): 162,\n",
              "          ('Enio', 'NPROP'): 1,\n",
              "          ('Foi', 'V'): 171,\n",
              "          ('Lá', 'ADV'): 15,\n",
              "          ('Começou', 'V'): 6,\n",
              "          ('Até', 'PREP'): 173,\n",
              "          ('Perde', 'V'): 2,\n",
              "          ('12', 'NUM'): 3,\n",
              "          ('Estão', 'V'): 18,\n",
              "          ('em', 'PREP'): 14,\n",
              "          ('34ª', 'ADJ'): 1,\n",
              "          ('Ingressos', 'N'): 8,\n",
              "          ('Estacionamento', 'N'): 3,\n",
              "          ('Leilão', 'N'): 4,\n",
              "          ('média', 'N'): 2,\n",
              "          ('Registrada', 'PCP'): 1,\n",
              "          ('Balbino', 'NPROP'): 1,\n",
              "          ('S.', 'NPROP'): 1,\n",
              "          ('Será', 'V'): 30,\n",
              "          ('Peões', 'N'): 1,\n",
              "          ('Ontem', 'ADV'): 125,\n",
              "          ('além', 'PREP|+'): 7,\n",
              "          ('Toledo', 'NPROP'): 2,\n",
              "          ('Enquanto', 'KS'): 52,\n",
              "          ('Estes', 'PROADJ'): 24,\n",
              "          ('Louis', 'NPROP'): 1,\n",
              "          ('Geer', 'NPROP'): 1,\n",
              "          ('o', 'ART'): 39,\n",
              "          ('Houve', 'V'): 38,\n",
              "          ('Logo', 'ADV'): 26,\n",
              "          ('Depois', 'ADV'): 103,\n",
              "          ('Sastre', 'NPROP'): 1,\n",
              "          ('Ao', 'PREP'): 117,\n",
              "          ('Clóvis', 'NPROP'): 2,\n",
              "          ('Movimento', 'N'): 2,\n",
              "          ('Aqui', 'ADV'): 29,\n",
              "          ('fatores', 'N'): 1,\n",
              "          ('Outra', 'PROADJ'): 81,\n",
              "          ('Manoel', 'NPROP'): 1,\n",
              "          ('Baseados', 'PCP'): 2,\n",
              "          ('92', 'N'): 1,\n",
              "          ('Trata', 'V|+'): 58,\n",
              "          ('A', 'PREP'): 147,\n",
              "          ('Esta', 'PROADJ'): 61,\n",
              "          (',', ','): 145,\n",
              "          ('Agora', 'KC'): 14,\n",
              "          ('Foram', 'VAUX'): 58,\n",
              "          ('Todos', 'PROSUB'): 29,\n",
              "          ('Machline', 'NPROP'): 3,\n",
              "          ('Quebrando', 'V'): 1,\n",
              "          ('além', 'PREP'): 3,\n",
              "          ('Vale', 'NPROP'): 1,\n",
              "          ('Confiante', 'ADJ'): 1,\n",
              "          ('Fechando', 'V'): 1,\n",
              "          ('Tinha', 'VAUX'): 7,\n",
              "          ('Foram', 'V'): 19,\n",
              "          ('300', 'NUM'): 3,\n",
              "          ('Vários', 'PROADJ'): 9,\n",
              "          ('Junto', 'PREP|+'): 2,\n",
              "          ('Dividem', 'V'): 1,\n",
              "          ('O', 'PROPESS'): 16,\n",
              "          ('Como', 'PREP'): 82,\n",
              "          ('por', 'PREP'): 9,\n",
              "          ('Alguns', 'PROADJ'): 28,\n",
              "          ('Foi', 'VAUX'): 64,\n",
              "          ('Serva', 'NPROP'): 1,\n",
              "          ('Promovido', 'PCP'): 4,\n",
              "          ('Próximos', 'ADJ'): 3,\n",
              "          ('Tel', 'N'): 102,\n",
              "          ('(', '('): 528,\n",
              "          ('Raça', 'N'): 1,\n",
              "          ('Sábado', 'N'): 3,\n",
              "          ('Encerrando', 'V'): 1,\n",
              "          ('5º', 'ADJ'): 1,\n",
              "          ('promoção', 'N'): 2,\n",
              "          ('Leilão', 'NPROP'): 1,\n",
              "          ('170', 'NUM'): 1,\n",
              "          ('depois', 'PREP'): 19,\n",
              "          ('7ª', 'ADJ'): 1,\n",
              "          ('Informações', 'N'): 27,\n",
              "          ('Formado', 'PCP'): 6,\n",
              "          ('6ª', 'ADJ'): 1,\n",
              "          ('Agricultores', 'N'): 2,\n",
              "          ('Cerca', 'PREP'): 64,\n",
              "          ('gaviões-carcarás', 'N'): 1,\n",
              "          ('Novidade', 'N'): 6,\n",
              "          ('Além', 'PREP'): 86,\n",
              "          ('Carlos', 'NPROP'): 19,\n",
              "          ('Todos', 'PROADJ'): 37,\n",
              "          ('Depois', 'PREP'): 68,\n",
              "          ('Boa', 'ADJ'): 9,\n",
              "          ('vai', 'VAUX'): 3,\n",
              "          ('Brando', 'NPROP'): 2,\n",
              "          ('Alguns', 'PROSUB'): 25,\n",
              "          ('Entre', 'PREP'): 179,\n",
              "          ('Souza', 'NPROP'): 6,\n",
              "          ('Giani', 'NPROP'): 1,\n",
              "          ('Segundo', 'ADJ'): 2,\n",
              "          ('Por', 'PREP'): 244,\n",
              "          ('Índice', 'N'): 3,\n",
              "          ('Produtores', 'N'): 3,\n",
              "          ('Distante', 'ADJ'): 1,\n",
              "          ('é', 'V'): 21,\n",
              "          ('Sobretudo', 'ADV'): 7,\n",
              "          ('Inicialmente', 'ADV'): 10,\n",
              "          ('Tal', 'KS'): 2,\n",
              "          ('Kennedy', 'NPROP'): 1,\n",
              "          ('Depois', 'PREP|+'): 33,\n",
              "          ('Paradoxalmente', 'ADV'): 4,\n",
              "          ('José', 'NPROP'): 20,\n",
              "          ('O', 'PROSUB'): 132,\n",
              "          ('Becker', 'NPROP'): 1,\n",
              "          ('Cada', 'PROADJ'): 65,\n",
              "          ('Assumiu', 'V'): 5,\n",
              "          ('Helmut', 'NPROP'): 1,\n",
              "          ('Funcionário', 'N'): 1,\n",
              "          ('Zellmer', 'NPROP'): 1,\n",
              "          ('Paulistas', 'N'): 2,\n",
              "          ('Maior', 'ADJ'): 2,\n",
              "          ('Sobrinho', 'N'): 1,\n",
              "          ('Bogue', 'NPROP'): 1,\n",
              "          ('Solos', 'N'): 1,\n",
              "          ('Protegido', 'PCP'): 1,\n",
              "          ('Ganha', 'V'): 2,\n",
              "          ('Segurança', 'N'): 1,\n",
              "          ('Este', 'PROSUB'): 39,\n",
              "          ('Convencer', 'V'): 1,\n",
              "          ('Prova', 'N'): 4,\n",
              "          ('Parte', 'N'): 17,\n",
              "          ('Ocorreu', 'V'): 1,\n",
              "          ('Caberia', 'V'): 3,\n",
              "          ('Nascida', 'PCP'): 1,\n",
              "          ('Tradicional', 'ADJ'): 1,\n",
              "          ('Estarão', 'V'): 4,\n",
              "          ('Fagundes', 'NPROP'): 2,\n",
              "          ('Organizados', 'PCP'): 1,\n",
              "          ('3º', 'ADJ'): 1,\n",
              "          ('Realizado', 'PCP'): 4,\n",
              "          ('Tradicionalmente', 'ADV'): 4,\n",
              "          ('Privatizado', 'PCP'): 1,\n",
              "          ('Merecem', 'V'): 1,\n",
              "          ('Uma', 'PROSUB'): 60,\n",
              "          ('30ª', 'ADJ'): 1,\n",
              "          ('Morumbi', 'NPROP'): 2,\n",
              "          ('Dificilmente', 'ADV'): 1,\n",
              "          ('Devido', 'PREP'): 2,\n",
              "          ('Todas', 'PROSUB'): 4,\n",
              "          ('Centro', 'NPROP'): 4,\n",
              "          ('Velocidade', 'N'): 1,\n",
              "          ('Duas', 'NUM'): 26,\n",
              "          ('Costa', 'NPROP'): 8,\n",
              "          ('Cálculos', 'N'): 4,\n",
              "          ('Apenas', 'PDEN'): 31,\n",
              "          ('através', 'PREP'): 1,\n",
              "          ('Em', 'ADV'): 59,\n",
              "          ('que', 'KS'): 4,\n",
              "          ('Quem', 'PROSUB'): 56,\n",
              "          ('Até', 'PDEN'): 35,\n",
              "          ('Já', 'ADV'): 136,\n",
              "          ('Acreditamos', 'V'): 4,\n",
              "          ('essa', 'PROADJ'): 2,\n",
              "          ('Estamos', 'V'): 16,\n",
              "          ('Parece', 'V|+'): 7,\n",
              "          ('Tão', 'KS'): 2,\n",
              "          ('Rádio', 'N'): 1,\n",
              "          ('Irrigação', 'N'): 1,\n",
              "          ('Troque', 'V'): 1,\n",
              "          ('Ajuste', 'V'): 3,\n",
              "          ('Mantenha', 'V'): 2,\n",
              "          ('Velocidades', 'N'): 1,\n",
              "          ('Multiplique', 'V'): 1,\n",
              "          ('Use', 'V'): 3,\n",
              "          ('Caminhe', 'V'): 1,\n",
              "          ('Deve', 'VAUX'): 20,\n",
              "          ('Está', 'VAUX'): 22,\n",
              "          ('Opções', 'N'): 2,\n",
              "          ('Devido', 'PREP|+'): 6,\n",
              "          ('apesar', 'PREP|+'): 2,\n",
              "          ('Existe', 'V'): 20,\n",
              "          ('Trabalhando', 'V'): 3,\n",
              "          ('abaixo', 'PREP|+'): 1,\n",
              "          ('por', 'KC'): 1,\n",
              "          ('Resultado', 'N'): 8,\n",
              "          ('Restarão', 'V'): 1,\n",
              "          ('Algodoeiras', 'N'): 1,\n",
              "          ('Preço', 'N'): 59,\n",
              "          ('Muito', 'ADV'): 13,\n",
              "          ('diante', 'PREP|+'): 3,\n",
              "          ('Considerando', 'V'): 3,\n",
              "          ('Confiabilidade', 'N'): 1,\n",
              "          ('Entre', 'V'): 2,\n",
              "          ('Lançada', 'PCP'): 3,\n",
              "          ('Estas', 'PROSUB'): 9,\n",
              "          ('Mesmo', 'PDEN'): 62,\n",
              "          ('Três', 'NUM'): 36,\n",
              "          ('Paulo', 'NPROP'): 22,\n",
              "          ('Representando', 'V'): 1,\n",
              "          ('ex-trabalhador', 'N'): 1,\n",
              "          ('Edson', 'NPROP'): 2,\n",
              "          ('Agenciador', 'N'): 1,\n",
              "          ('Proprietário', 'N'): 2,\n",
              "          ('Comparada', 'PCP'): 2,\n",
              "          ('Acostumados', 'PCP'): 1,\n",
              "          ('Luis', 'NPROP'): 3,\n",
              "          ('Frígola', 'NPROP'): 1,\n",
              "          ('Instalada', 'PCP'): 3,\n",
              "          ('Alejandro', 'NPROP'): 1,\n",
              "          ('Acosta', 'NPROP'): 1,\n",
              "          ('Kemper', 'NPROP'): 1,\n",
              "          ('Eram', 'V'): 8,\n",
              "          ('Outros', 'PROADJ'): 45,\n",
              "          ('Caso', 'KS'): 40,\n",
              "          ('Página', 'N'): 14,\n",
              "          ('Ferreira', 'NPROP'): 4,\n",
              "          ('Acampamento', 'N'): 1,\n",
              "          ('Perda', 'N'): 2,\n",
              "          ('Má', 'ADJ'): 2,\n",
              "          ('Envolvido', 'PCP'): 1,\n",
              "          ('Verificar', 'V'): 1,\n",
              "          ('Colher', 'V'): 1,\n",
              "          ('depois', 'PREP|+'): 9,\n",
              "          ('Desenvolvido', 'PCP'): 4,\n",
              "          ('Mais', 'PROADJ'): 20,\n",
              "          ('Horas', 'N'): 5,\n",
              "          ('Sua', 'PROADJ'): 120,\n",
              "          ('Barbosa', 'NPROP'): 6,\n",
              "          ('Munhoz', 'NPROP'): 1,\n",
              "          ('Indicado', 'PCP'): 1,\n",
              "          ('Levantamento', 'N'): 6,\n",
              "          ('Acordo', 'N'): 2,\n",
              "          ('isralensis', 'N'): 1,\n",
              "          ('Diflubenzuron', 'NPROP'): 1,\n",
              "          ('Trichograma', 'NPROP'): 1,\n",
              "          ('Gert', 'NPROP'): 1,\n",
              "          ('Exposição', 'N'): 5,\n",
              "          ('Restaurante', 'N'): 1,\n",
              "          ('Doze', 'NUM'): 5,\n",
              "          ('Derli', 'NPROP'): 3,\n",
              "          ('que', 'PRO-KS-REL'): 4,\n",
              "          ('Indústrias', 'N'): 4,\n",
              "          ('Algumas', 'PROADJ'): 22,\n",
              "          ('Promovida', 'PCP'): 2,\n",
              "          ('Ademerval', 'NPROP'): 1,\n",
              "          ('Garcia', 'NPROP'): 3,\n",
              "          ('Vendas', 'N'): 4,\n",
              "          ('Relatório', 'N'): 4,\n",
              "          ('Carvalho', 'NPROP'): 4,\n",
              "          ('Maiores', 'ADJ'): 3,\n",
              "          ('Conhecido', 'PCP'): 2,\n",
              "          ('Estas', 'PROADJ'): 14,\n",
              "          ('Minas', 'NPROP'): 3,\n",
              "          ('Avançando', 'V'): 1,\n",
              "          ('Finalmente', 'ADV'): 12,\n",
              "          ('Sebastião', 'NPROP'): 2,\n",
              "          ('Seus', 'PROADJ'): 44,\n",
              "          ('Machos', 'N'): 2,\n",
              "          ('Haverá', 'V'): 11,\n",
              "          ('13ª', 'ADJ'): 1,\n",
              "          ('Chega', 'V|+'): 2,\n",
              "          ('Representantes', 'N'): 9,\n",
              "          ('Aloysio', 'NPROP'): 1,\n",
              "          ('Antecipada', 'PCP'): 1,\n",
              "          ('Pesquisadores', 'N'): 7,\n",
              "          ('Líder', 'N'): 7,\n",
              "          ('Comparado', 'PCP'): 4,\n",
              "          ('Iniciou', 'V|+'): 1,\n",
              "          ('Androcioli', 'NPROP'): 1,\n",
              "          ('Barizon', 'NPROP'): 1,\n",
              "          ('Lavouras', 'N'): 1,\n",
              "          ('mesmo', 'KS'): 2,\n",
              "          ('RUBAYAT', 'NPROP'): 1,\n",
              "          ('Santos', 'NPROP'): 17,\n",
              "          ('Brigadeiro', 'NPROP'): 3,\n",
              "          ('Vieira', 'NPROP'): 1,\n",
              "          ('Coluna', 'N'): 1,\n",
              "          ('Sensoriamento', 'N'): 1,\n",
              "          ('Estimativas', 'N'): 2,\n",
              "          ('Guimarães', 'NPROP'): 2,\n",
              "          ('.', '.'): 82,\n",
              "          ('Vender', 'V'): 1,\n",
              "          ('Tal', 'PROADJ'): 10,\n",
              "          ('Eduardo', 'NPROP'): 6,\n",
              "          ('Basta', 'V'): 27,\n",
              "          ('como', 'KS'): 10,\n",
              "          ('Serão', 'VAUX'): 13,\n",
              "          ('Além', 'PREP|+'): 167,\n",
              "          ('Luiz', 'NPROP'): 13,\n",
              "          ('Ou', 'PDEN'): 36,\n",
              "          ('Prever', 'V'): 1,\n",
              "          ('Assim', 'KC'): 40,\n",
              "          ('Formaggio', 'NPROP'): 1,\n",
              "          ('Tais', 'PROADJ'): 8,\n",
              "          ('Entretando', 'KC'): 1,\n",
              "          ('Milanello', 'NPROP'): 1,\n",
              "          ('Orsi', 'NPROP'): 2,\n",
              "          ('todos', 'PROADJ'): 7,\n",
              "          ('Dados', 'N'): 5,\n",
              "          ('Estão', 'VAUX'): 5,\n",
              "          ('Primeiro', 'ADV'): 15,\n",
              "          ('Haras', 'N'): 1,\n",
              "          ('gril', 'N'): 1,\n",
              "          ('Média', 'N'): 3,\n",
              "          ('Dirceu', 'NPROP'): 5,\n",
              "          ('Pedro', 'NPROP'): 7,\n",
              "          ('Joaquim', 'NPROP'): 4,\n",
              "          ('Encerrou', 'V'): 1,\n",
              "          ('Ney', 'NPROP'): 1,\n",
              "          ('Walter', 'NPROP'): 4,\n",
              "          ('Começou', 'VAUX'): 9,\n",
              "          ('Observa', 'V|+'): 2,\n",
              "          ('Fábio', 'NPROP'): 3,\n",
              "          ('Nossos', 'PROADJ'): 2,\n",
              "          ('Teoricamente', 'ADV'): 2,\n",
              "          ('Oxalá', 'IN'): 2,\n",
              "          ('Permite', 'V'): 15,\n",
              "          ('Traz', 'V'): 17,\n",
              "          ('Equipamentos', 'N'): 3,\n",
              "          ('Mede', 'V'): 1,\n",
              "          ('Custa', 'V'): 47,\n",
              "          ('Desde', 'PREP'): 74,\n",
              "          ('sistema', 'N'): 2,\n",
              "          ('uso', 'N'): 1,\n",
              "          ('Instituto', 'NPROP'): 4,\n",
              "          ('paga', 'V'): 1,\n",
              "          ('Vacas', 'N'): 1,\n",
              "          ('Cotações', 'N'): 2,\n",
              "          ('Colina', 'NPROP'): 1,\n",
              "          ('Gastou', 'V'): 1,\n",
              "          ('Terminou', 'V'): 3,\n",
              "          ('a', 'ART'): 36,\n",
              "          ('Rômulo', 'NPROP'): 1,\n",
              "          ('A', 'PREP|+'): 275,\n",
              "          ('Levy', 'NPROP'): 1,\n",
              "          ('Lyphard', 'NPROP'): 1,\n",
              "          ('Lady', 'NPROP'): 1,\n",
              "          ('Criador', 'N'): 2,\n",
              "          ('Deixando', 'V'): 4,\n",
              "          ('Yamin', 'NPROP'): 1,\n",
              "          ('Feilão', 'NPROP'): 1,\n",
              "          ('Remate', 'NPROP'): 1,\n",
              "          ('Maringá', 'NPROP'): 1,\n",
              "          ('Produção', 'N'): 4,\n",
              "          ('Guidi', 'NPROP'): 1,\n",
              "          ('Cana', 'N'): 2,\n",
              "          ('Bebedouro', 'NPROP'): 1,\n",
              "          ('Responsável', 'ADJ'): 1,\n",
              "          ('Quanto', 'KS'): 7,\n",
              "          ('Dispomos', 'V'): 1,\n",
              "          ('Produtos', 'N'): 4,\n",
              "          ('Ao', 'ADV'): 10,\n",
              "          ('Mais', 'ADV'): 40,\n",
              "          ('155', 'N|AP'): 2,\n",
              "          ('2º', 'N|AP'): 4,\n",
              "          ('Sabe', 'V|+'): 9,\n",
              "          ('Contudo', 'KC'): 7,\n",
              "          ('Amilcar', 'NPROP'): 1,\n",
              "          ('Dando', 'V'): 3,\n",
              "          ('Antes', 'PREP|['): 2,\n",
              "          ('Detalhes', 'N'): 1,\n",
              "          ('Santa', 'NPROP'): 2,\n",
              "          ('Temos', 'V'): 21,\n",
              "          ('Agricultura', 'NPROP'): 1,\n",
              "          ('Festa', 'NPROP'): 1,\n",
              "          ('Essas', 'PROADJ'): 51,\n",
              "          ('Ainda', 'KS'): 14,\n",
              "          ('Normalmente', 'ADV'): 8,\n",
              "          ('Antonângelo', 'NPROP'): 1,\n",
              "          ('Vamos', 'VAUX'): 23,\n",
              "          ('Friedberg', 'NPROP'): 1,\n",
              "          ('Quatro', 'NUM'): 17,\n",
              "          ('No', 'PREP'): 9,\n",
              "          ('Acredito', 'V'): 10,\n",
              "          ('Afinal', 'ADV'): 26,\n",
              "          ('Abolidas', 'PCP'): 1,\n",
              "          ('Domingo', 'N'): 6,\n",
              "          ('Sozinha', 'ADJ'): 1,\n",
              "          ('624', 'NUM'): 1,\n",
              "          ('Individualmente', 'ADV'): 1,\n",
              "          ('Jóquei', 'NPROP'): 1,\n",
              "          ('Lineo', 'NPROP'): 1,\n",
              "          ('Exposição', 'NPROP'): 2,\n",
              "          ('Gás', 'N'): 3,\n",
              "          ('Família', 'N'): 3,\n",
              "          ('8', 'NUM'): 3,\n",
              "          ('Oscar', 'NPROP'): 3,\n",
              "          ('Mudanças', 'N'): 3,\n",
              "          ('Estimado', 'PCP'): 1,\n",
              "          ('Apresenta', 'V'): 2,\n",
              "          ('Antes', 'PREP'): 26,\n",
              "          ('Kato', 'NPROP'): 1,\n",
              "          ('Planeja', 'V'): 1,\n",
              "          ('Profissionais', 'N'): 3,\n",
              "          ('Esta', 'PROSUB'): 39,\n",
              "          ('Preços', 'N'): 8,\n",
              "          ('Diante', 'PREP|+'): 8,\n",
              "          ('Tecnologia', 'N'): 3,\n",
              "          ('Estudos', 'N'): 5,\n",
              "          ('Evidentemente', 'ADV'): 3,\n",
              "          ('Antes', 'ADV'): 30,\n",
              "          ('Entretanto', 'KC'): 27,\n",
              "          ('Quanto', 'ART'): 1,\n",
              "          ('São', 'VAUX'): 10,\n",
              "          ('Entrando', 'V'): 1,\n",
              "          ('Favoretto', 'NPROP'): 1,\n",
              "          ('Tradicionais', 'ADJ'): 1,\n",
              "          ('Vendem', 'V'): 2,\n",
              "          ('Originária', 'ADJ'): 1,\n",
              "          ('Rendeu', 'V'): 1,\n",
              "          ('Venda', 'V'): 1,\n",
              "          ('Promoção', 'N'): 1,\n",
              "          ('Cindy', 'NPROP'): 1,\n",
              "          ('Tudo', 'PROSUB'): 55,\n",
              "          ('Churrascada', 'N'): 1,\n",
              "          ('Regada', 'PCP'): 1,\n",
              "          ('Quatorze', 'NUM'): 1,\n",
              "          ('Considerada', 'PCP'): 2,\n",
              "          ('Criadores', 'N'): 4,\n",
              "          ('Sistema', 'N'): 2,\n",
              "          ('Indústria', 'N'): 2,\n",
              "          ('Camargos', 'NPROP'): 1,\n",
              "          ('Vela', 'NPROP'): 1,\n",
              "          ('Excepcionalmente', 'ADV'): 2,\n",
              "          ('Francisco', 'NPROP'): 5,\n",
              "          ('Gilson', 'NPROP'): 2,\n",
              "          ('Rondinelli', 'NPROP'): 1,\n",
              "          ('Criada', 'PCP'): 7,\n",
              "          ('Apostando', 'V'): 2,\n",
              "          ('Tinsky', 'NPROP'): 1,\n",
              "          ('Avaliação', 'N'): 2,\n",
              "          ('Color', 'NPROP'): 1,\n",
              "          ('Próximo', 'ADJ'): 3,\n",
              "          ('Raríssimas', 'ADJ'): 1,\n",
              "          ('550', 'NUM'): 1,\n",
              "          ('Estamos', 'VAUX'): 7,\n",
              "          ('Apesar', 'PREP'): 43,\n",
              "          ('de', 'PREP|+'): 43,\n",
              "          ('Amanhã', 'ADV'): 12,\n",
              "          ('Pégaso', 'NPROP'): 1,\n",
              "          ('Louza', 'NPROP'): 2,\n",
              "          ('Participam', 'V'): 10,\n",
              "          ('6.000', 'NUM'): 1,\n",
              "          ('Bovinos', 'N'): 1,\n",
              "          ('3ª', 'ADJ'): 1,\n",
              "          ('Um', 'NUM'): 24,\n",
              "          ('Presidente', 'NPROP'): 2,\n",
              "          ('Alessandro', 'NPROP'): 1,\n",
              "          ('Agosto', 'N'): 2,\n",
              "          ('Franklin', 'NPROP'): 1,\n",
              "          ('Thame', 'NPROP'): 1,\n",
              "          ('André', 'NPROP'): 8,\n",
              "          ('Gramacho', 'NPROP'): 1,\n",
              "          ('Toni', 'NPROP'): 2,\n",
              "          ('Compradores', 'N'): 1,\n",
              "          ('Sena', 'NPROP'): 1,\n",
              "          ('Programou', 'V'): 1,\n",
              "          ('seu', 'PROADJ'): 2,\n",
              "          ('Special', 'NPROP'): 1,\n",
              "          ('Cinco', 'NUM'): 9,\n",
              "          ('Sete', 'NUM'): 8,\n",
              "          ('Consoni', 'NPROP'): 1,\n",
              "          ('Dois', 'NUM'): 46,\n",
              "          ('Oliveira', 'NPROP'): 6,\n",
              "          ('5ª', 'ADJ'): 1,\n",
              "          ('Pelo', 'ADV'): 3,\n",
              "          ('Garibaldi', 'NPROP'): 2,\n",
              "          ('Sarney', 'NPROP'): 8,\n",
              "          ('Prefeitos', 'N'): 2,\n",
              "          ('Sobra', 'V'): 2,\n",
              "          ('Mesmo', 'KS'): 8,\n",
              "          ('Caberá', 'V'): 3,\n",
              "          ('Barbalho', 'NPROP'): 2,\n",
              "          ('Candidato', 'N'): 11,\n",
              "          ('Quércia', 'NPROP'): 7,\n",
              "          ('Chega', 'VAUX'): 3,\n",
              "          ('Seu', 'PROADJ'): 100,\n",
              "          ('Marco', 'NPROP'): 14,\n",
              "          ('-', '-'): 50,\n",
              "          ('Seja', 'V'): 6,\n",
              "          ('Tentando', 'V'): 2,\n",
              "          ('Afirma', 'V'): 3,\n",
              "          ('Publicará', 'V'): 1,\n",
              "          ('Monta', 'V|+'): 1,\n",
              "          ('Maluf', 'NPROP'): 10,\n",
              "          ('Caciques', 'N'): 1,\n",
              "          ('Amarrada', 'PCP'): 1,\n",
              "          ('Amigos', 'N'): 3,\n",
              "          ('Hélio', 'NPROP'): 3,\n",
              "          ('Ricupero', 'NPROP'): 21,\n",
              "          ('Piada', 'N'): 1,\n",
              "          ('Prefeito', 'N'): 2,\n",
              "          ('Com', 'PREP|+'): 5,\n",
              "          ('Tenho', 'V'): 14,\n",
              "          ('Folha', 'NPROP'): 2,\n",
              "          ('Nosso', 'PROADJ'): 13,\n",
              "          ('Então', 'ADV'): 23,\n",
              "          ('Amin', 'NPROP'): 3,\n",
              "          ('Ex-Arena', 'ADJ'): 1,\n",
              "          ('Nós', 'PROPESS'): 34,\n",
              "          ('Wilma', 'NPROP'): 1,\n",
              "          ('Lula', 'NPROP'): 50,\n",
              "          ('Compromisso', 'N'): 1,\n",
              "          ('Cesar', 'NPROP'): 1,\n",
              "          ('Reafirmou', 'V'): 1,\n",
              "          ('Vou', 'VAUX'): 10,\n",
              "          ('Quando', 'ADV'): 10,\n",
              "          ('Conversa', 'N'): 1,\n",
              "          ('Todo', 'PROSUB'): 2,\n",
              "          ('Você', 'PROPESS'): 124,\n",
              "          ('Pega', 'V'): 2,\n",
              "          ('De', 'ADV'): 36,\n",
              "          ('Qual', 'PROSUB'): 20,\n",
              "          ('Eu', 'PROPESS'): 167,\n",
              "          ('Ninguém', 'PROSUB'): 39,\n",
              "          ('Desde', 'KS'): 13,\n",
              "          ('Descendente', 'ADJ'): 1,\n",
              "          ('Ingressou', 'V'): 1,\n",
              "          ('Defendia', 'V'): 2,\n",
              "          ('Eleito', 'PCP'): 1,\n",
              "          ('Monarquista', 'N'): 1,\n",
              "          ('Tornou', 'V|+'): 2,\n",
              "          ('Morreu', 'V'): 7,\n",
              "          ('Nabuco', 'NPROP'): 1,\n",
              "          ('Negou', 'V'): 2,\n",
              "          ('Hartmann', 'NPROP'): 1,\n",
              "          ('Mais', 'KS'): 1,\n",
              "          ('Foi', 'PDEN'): 5,\n",
              "          ('Começaram', 'VAUX'): 1,\n",
              "          ('Casaram', 'V|+'): 1,\n",
              "          ('Participa', 'V'): 5,\n",
              "          ('FHC', 'NPROP'): 39,\n",
              "          ('Acho', 'V'): 51,\n",
              "          ('Acompanhado', 'PCP'): 3,\n",
              "          ('Leia', 'V'): 29,\n",
              "          ('Casoy', 'NPROP'): 2,\n",
              "          ('Devo', 'VAUX'): 5,\n",
              "          ('Respeito', 'V'): 2,\n",
              "          ('Angélico', 'NPROP'): 1,\n",
              "          ('Chorávamos', 'V'): 1,\n",
              "          ('Marisa', 'NPROP'): 4,\n",
              "          ('Pensava', 'V'): 1,\n",
              "          ('Nasceram', 'V'): 2,\n",
              "          ('Cristina', 'NPROP'): 2,\n",
              "          ('por', 'PREP|+'): 15,\n",
              "          ('Cidinha', 'NPROP'): 3,\n",
              "          ('Teria', 'VAUX'): 7,\n",
              "          ('Seria', 'V'): 25,\n",
              "          ('Mauro', 'NPROP'): 2,\n",
              "          ('Andrade', 'NPROP'): 2,\n",
              "          ('Queremos', 'V'): 8,\n",
              "          ('Moradores', 'N'): 3,\n",
              "          ('Esses', 'PROSUB'): 5,\n",
              "          ('cinco', 'NUM'): 1,\n",
              "          ('Empresários', 'N'): 4,\n",
              "          ('Osiris', 'NPROP'): 5,\n",
              "          ('Aprovada', 'PCP'): 1,\n",
              "          ('Braun', 'NPROP'): 1,\n",
              "          ('Cabedelo', 'NPROP'): 1,\n",
              "          ('Sairão', 'V'): 1,\n",
              "          ('Todo', 'PROADJ'): 21,\n",
              "          ('Vemos', 'V'): 4,\n",
              "          ('Trabalham', 'V'): 4,\n",
              "          ('Itajaí', 'NPROP'): 1,\n",
              "          ('Benjamin', 'NPROP'): 2,\n",
              "          ('há', 'V'): 5,\n",
              "          ('Ataca', 'V'): 1,\n",
              "          ('Verificou', 'V|+'): 2,\n",
              "          ('Conseguiu', 'V|+'): 2,\n",
              "          ('Chamava', 'V'): 1,\n",
              "          ('Ficou', 'V'): 17,\n",
              "          ('Queria', 'V'): 8,\n",
              "          ('Confirmada', 'PCP'): 2,\n",
              "          ('Outro', 'PROSUB'): 2,\n",
              "          ('está', 'V'): 1,\n",
              "          ('Disse', 'V'): 28,\n",
              "          ('Chuvas', 'N'): 1,\n",
              "          ('Dirigentes', 'N'): 1,\n",
              "          ('Adotará', 'V'): 1,\n",
              "          ('Quer', 'V'): 20,\n",
              "          ('Álvaro', 'NPROP'): 6,\n",
              "          ('Anos', 'N'): 3,\n",
              "          ('Deu', 'V'): 7,\n",
              "          ('Palmério', 'NPROP'): 2,\n",
              "          ('Pediu', 'V'): 5,\n",
              "          ('Políticos', 'N'): 2,\n",
              "          ('Anteontem', 'ADV'): 30,\n",
              "          ('Fica', 'V'): 6,\n",
              "          ('Grava', 'V'): 3,\n",
              "          ('Permanece', 'V'): 1,\n",
              "          ('Visita', 'V'): 1,\n",
              "          ('Obs', 'N'): 3,\n",
              "          ('Descansou', 'V'): 1,\n",
              "          ('Voltou', 'V'): 7,\n",
              "          ('Fez', 'V'): 19,\n",
              "          ('Visitou', 'V'): 1,\n",
              "          ('Voltou', 'VAUX'): 3,\n",
              "          ('Retornou', 'V'): 2,\n",
              "          ('Participou', 'V'): 4,\n",
              "          ('Sollberger', 'NPROP'): 5,\n",
              "          (\"'\", \"'\"): 16,\n",
              "          ('Malheiros', 'NPROP'): 1,\n",
              "          ('Sexta-feira', 'N'): 1,\n",
              "          ('Pouco', 'ADV'): 18,\n",
              "          ('Quanto', 'PREP|+'): 27,\n",
              "          ('Palmeira', 'NPROP'): 4,\n",
              "          ('Descartou', 'V'): 1,\n",
              "          ('Querem', 'V'): 4,\n",
              "          ('causa', 'V'): 1,\n",
              "          ('Roberto', 'NPROP'): 13,\n",
              "          ('Requião', 'NPROP'): 1,\n",
              "          ('Márcia', 'NPROP'): 1,\n",
              "          ('Ambos', 'PROSUB'): 21,\n",
              "          ('Atrás', 'PREP|+'): 2,\n",
              "          ('Rachid', 'NPROP'): 1,\n",
              "          ('Francelino', 'NPROP'): 1,\n",
              "          ('três', 'NUM'): 1,\n",
              "          ('Erundina', 'NPROP'): 1,\n",
              "          ('Quase', 'ADV'): 22,\n",
              "          ('Tuma', 'NPROP'): 2,\n",
              "          ('Serra', 'NPROP'): 3,\n",
              "          ('Aproveitando', 'V'): 2,\n",
              "          ('Xerife', 'N'): 1,\n",
              "          ('Através', 'PREP'): 5,\n",
              "          ('Alves', 'NPROP'): 3,\n",
              "          ('Que', 'PRO-KS'): 2,\n",
              "          ('Como', 'ADV'): 92,\n",
              "          ('Quanto', 'PREP'): 5,\n",
              "          ('Esperamos', 'V'): 3,\n",
              "          ('Poderíamos', 'VAUX'): 2,\n",
              "          ('Teríamos', 'V'): 1,\n",
              "          ('Tivemos', 'VAUX'): 1,\n",
              "          ('Tucanos', 'N'): 1,\n",
              "          ('Robôs', 'N'): 1,\n",
              "          ('Brasileiros', 'N'): 3,\n",
              "          ('Bezerros', 'N'): 1,\n",
              "          ('Covas', 'NPROP'): 14,\n",
              "          ('Priorizou', 'V'): 1,\n",
              "          ('Autorizado', 'PCP'): 1,\n",
              "          ('Declinou', 'V'): 1,\n",
              "          ('Prefere', 'V'): 5,\n",
              "          ('Talvez', 'PDEN'): 4,\n",
              "          ('Inclusive', 'ADV'): 1,\n",
              "          ('Acha', 'V'): 2,\n",
              "          ('Documento', 'N'): 2,\n",
              "          ('Surpreendentemente', 'ADV'): 2,\n",
              "          ('Tempos', 'N'): 2,\n",
              "          ('Que', 'IN'): 3,\n",
              "          ('definição', 'N'): 1,\n",
              "          ('Raul', 'NPROP'): 2,\n",
              "          ('Elas', 'PROPESS'): 35,\n",
              "          ('Será', 'VAUX'): 15,\n",
              "          ('Nem', 'KC'): 7,\n",
              "          ('Algum', 'PROSUB'): 1,\n",
              "          ('Fracassada', 'PCP'): 1,\n",
              "          ('Sabiam', 'V'): 1,\n",
              "          ('Vários', 'PROSUB'): 4,\n",
              "          ('Vão', 'VAUX'): 3,\n",
              "          ('Acontece', 'V'): 17,\n",
              "          ('Voltar', 'V'): 3,\n",
              "          ('Nossa', 'PROADJ'): 9,\n",
              "          (':', ':'): 26,\n",
              "          ('Resposta', 'N'): 11,\n",
              "          ('Empreiteiros', 'N'): 1,\n",
              "          ('Luís', 'NPROP'): 6,\n",
              "          ('Quatro', 'N'): 7,\n",
              "          ('Neves', 'NPROP'): 1,\n",
              "          ('Jorge', 'NPROP'): 11,\n",
              "          ('Conseguiu', 'V'): 4,\n",
              "          ('Peres', 'NPROP'): 1,\n",
              "          ('Obteve', 'V'): 1,\n",
              "          ('Outros', 'PROSUB'): 13,\n",
              "          ('Raphael', 'NPROP'): 2,\n",
              "          ('Caliente', 'NPROP'): 1,\n",
              "          ('Bonilha', 'NPROP'): 2,\n",
              "          ('os', 'ART'): 17,\n",
              "          ('Defendeu', 'V'): 4,\n",
              "          ('Verbas', 'N'): 2,\n",
              "          ('Alegaram', 'V'): 1,\n",
              "          ('Braga', 'NPROP'): 3,\n",
              "          ('disse', 'V'): 6,\n",
              "          ('Malan', 'NPROP'): 1,\n",
              "          ('Magalhães', 'NPROP'): 4,\n",
              "          ('Jobim', 'NPROP'): 2,\n",
              "          ('Colaboraram', 'V'): 3,\n",
              "          ('Eivany', 'NPROP'): 2,\n",
              "          ('No', 'KC'): 38,\n",
              "          ('Nenhuma', 'PROADJ'): 7,\n",
              "          ('Sob', 'PREP'): 25,\n",
              "          ('Coordenado', 'PCP'): 2,\n",
              "          ('Frenkel', 'NPROP'): 1,\n",
              "          ('Estarão', 'VAUX'): 1,\n",
              "          ('Lucena', 'NPROP'): 11,\n",
              "          ('Segundo', 'N'): 9,\n",
              "          ('Contra', 'PREP'): 13,\n",
              "          ('Dezembro', 'N'): 1,\n",
              "          ('13', 'N'): 1,\n",
              "          ('23', 'N'): 2,\n",
              "          ('Lisle', 'NPROP'): 2,\n",
              "          ('Confirmou', 'V|+'): 1,\n",
              "          ('Aí', 'ADV'): 15,\n",
              "          ('Surgem', 'V'): 2,\n",
              "          ('Bateram', 'V'): 2,\n",
              "          ('Mandaram', 'V'): 1,\n",
              "          ('Começa', 'V'): 9,\n",
              "          ('Havendo', 'V'): 2,\n",
              "          ('Essa', 'PROSUB'): 23,\n",
              "          ('Intérpretes', 'N'): 1,\n",
              "          ('Dizem', 'V'): 4,\n",
              "          ('informação', 'N'): 2,\n",
              "          ('Lima', 'NPROP'): 8,\n",
              "          ('Alencar', 'NPROP'): 3,\n",
              "          ('Barata', 'NPROP'): 1,\n",
              "          ('Alexander', 'NPROP'): 1,\n",
              "          ('Alberto', 'NPROP'): 4,\n",
              "          ('Quarenta', 'NUM'): 2,\n",
              "          ('Três', 'N'): 2,\n",
              "          ('Barão', 'NPROP'): 17,\n",
              "          ('Cientistas', 'N'): 7,\n",
              "          ('Mamíferos', 'N'): 1,\n",
              "          ('Células', 'N'): 1,\n",
              "          ('Esse', 'PROSUB'): 18,\n",
              "          ('múmia', 'N'): 1,\n",
              "          ('Outras', 'PROADJ'): 22,\n",
              "          ('Seis', 'N'): 2,\n",
              "          ('e', 'KC'): 25,\n",
              "          ('Ligado', 'PCP'): 1,\n",
              "          ('Tasso', 'NPROP'): 4,\n",
              "          ('Serviu', 'V'): 2,\n",
              "          ('Humberto', 'NPROP'): 1,\n",
              "          ('Aúreo', 'NPROP'): 1,\n",
              "          ('Jarbas', 'NPROP'): 5,\n",
              "          ('Lira', 'NPROP'): 1,\n",
              "          ('Perdeu', 'V'): 11,\n",
              "          ('Miro', 'NPROP'): 1,\n",
              "          ('Doado', 'PCP'): 1,\n",
              "          ('Simon', 'NPROP'): 3,\n",
              "          ('Ouviram', 'V|+'): 1,\n",
              "          ('Olhem', 'V'): 1,\n",
              "          ('Passados', 'PCP'): 3,\n",
              "          ('Dez', 'NUM'): 10,\n",
              "          ('Tanto', 'KC|['): 10,\n",
              "          ('Perguntado', 'PCP'): 8,\n",
              "          ('foi', 'VAUX'): 3,\n",
              "          ('No', 'PREP|+'): 4,\n",
              "          ('Benevides', 'NPROP'): 1,\n",
              "          ('contra', 'PREP'): 2,\n",
              "          ('Bianca', 'NPROP'): 2,\n",
              "          ('Militante', 'N'): 3,\n",
              "          (')', ')'): 64,\n",
              "          ('Odacir', 'NPROP'): 1,\n",
              "          ('Psicanálise', 'N'): 4,\n",
              "          ('Logo', 'KC'): 9,\n",
              "          ('só', 'PDEN'): 3,\n",
              "          ('Volta', 'V|+'): 2,\n",
              "          ('Ou', 'KC'): 42,\n",
              "          ('Independentemente', 'ADV'): 2,\n",
              "          ('Vai', 'VAUX'): 40,\n",
              "          ('Regras', 'N'): 1,\n",
              "          ('Mesmo', 'KC'): 7,\n",
              "          ('Nem', 'ADV'): 39,\n",
              "          ('Amapá', 'NPROP'): 1,\n",
              "          ('Nelson', 'NPROP'): 6,\n",
              "          ('Barelli', 'NPROP'): 1,\n",
              "          ('Sobrou', 'V'): 2,\n",
              "          ('Oposição', 'N'): 1,\n",
              "          ('Que', 'KS'): 20,\n",
              "          ('Poderemos', 'VAUX'): 2,\n",
              "          ('Fleury', 'NPROP'): 10,\n",
              "          ('Auxiliares', 'N'): 1,\n",
              "          ('Maciel', 'NPROP'): 1,\n",
              "          ('Teremos', 'V'): 1,\n",
              "          ('Friso', 'NPROP'): 1,\n",
              "          ('Clodovil', 'NPROP'): 1,\n",
              "          ('Todas', 'PROADJ'): 27,\n",
              "          ('Permitia', 'V'): 1,\n",
              "          ('Exigências', 'N'): 1,\n",
              "          ('Utilizando', 'V'): 2,\n",
              "          ('Geraldine', 'NPROP'): 1,\n",
              "          ('Bauval', 'NPROP'): 1,\n",
              "          ('Examinando', 'V'): 1,\n",
              "          ('Heinemann', 'NPROP'): 1,\n",
              "          ('cerca', 'PREP'): 2,\n",
              "          ('Itamar', 'NPROP'): 18,\n",
              "          ('Fevereiro', 'N'): 3,\n",
              "          ('Estava', 'V'): 16,\n",
              "          ('Moreira', 'NPROP'): 7,\n",
              "          ('Reitor', 'N'): 1,\n",
              "          ('Tinha', 'V'): 13,\n",
              "          ('Sempre', 'ADV'): 17,\n",
              "          ('Certo', 'PROADJ'): 2,\n",
              "          ('Dizer', 'V'): 2,\n",
              "          ('Rápido', 'ADV'): 1,\n",
              "          ('Entidade', 'N'): 2,\n",
              "          ('Bandeira', 'NPROP'): 1,\n",
              "          ('Afirmou', 'V'): 6,\n",
              "          ('Feita', 'PCP'): 3,\n",
              "          ('Está', 'V'): 35,\n",
              "          ('Votaram', 'V'): 1,\n",
              "          ('Saulo', 'NPROP'): 1,\n",
              "          ('Antes', 'PREP|+'): 18,\n",
              "          ('Claudio', 'NPROP'): 5,\n",
              "          ('Patrimônio', 'N'): 2,\n",
              "          ('Bancos', 'N'): 4,\n",
              "          ('Os', 'PROSUB'): 22,\n",
              "          ('Roberval', 'NPROP'): 1,\n",
              "          ('Uma', 'NUM'): 7,\n",
              "          ('Daqui', 'PREP'): 1,\n",
              "          ('Iglesias', 'NPROP'): 2,\n",
              "          ('Isabelita', 'NPROP'): 2,\n",
              "          ('Fiquei', 'V'): 7,\n",
              "          ('Vi', 'V'): 2,\n",
              "          ('Dentro', 'PREP'): 6,\n",
              "          ('Fora', 'V'): 2,\n",
              "          ('maior', 'ADJ'): 2,\n",
              "          ('pacote', 'N'): 2,\n",
              "          ('Stephanes', 'NPROP'): 1,\n",
              "          ('Prevista', 'PCP'): 2,\n",
              "          ('Objetivo', 'N'): 1,\n",
              "          ('Criado', 'PCP'): 10,\n",
              "          ('em', 'PREP|+'): 21,\n",
              "          ('Mota', 'NPROP'): 1,\n",
              "          ('Arranjou', 'V'): 1,\n",
              "          ('576.400,00', 'NUM'): 1,\n",
              "          ('a', 'PREP|+'): 11,\n",
              "          ('Flávio', 'NPROP'): 6,\n",
              "          ('As', 'PREP'): 1,\n",
              "          ('Pessoas', 'N'): 8,\n",
              "          ('Por', 'ADV'): 46,\n",
              "          ('Moraes', 'NPROP'): 2,\n",
              "          ('Pesquisa', 'N'): 13,\n",
              "          ('Planos', 'N'): 3,\n",
              "          ('Líderes', 'N'): 2,\n",
              "          ('Assustados', 'PCP'): 2,\n",
              "          ('Henrique', 'NPROP'): 2,\n",
              "          ('cumprimentou', 'V'): 1,\n",
              "          ('Retrucou', 'V'): 1,\n",
              "          ('Vai', 'V'): 7,\n",
              "          ('Almoça', 'V'): 1,\n",
              "          ('Chega', 'V'): 19,\n",
              "          ('Retorna', 'V'): 1,\n",
              "          ('Nada', 'PROSUB'): 38,\n",
              "          ('Alega', 'V'): 1,\n",
              "          ('Diferença', 'N'): 1,\n",
              "          ('Bisol', 'NPROP'): 4,\n",
              "          ('Jutahy', 'NPROP'): 1,\n",
              "          ('Dias', 'N'): 3,\n",
              "          ('ACM', 'NPROP'): 2,\n",
              "          ('Informado', 'PCP'): 1,\n",
              "          ('Ouvido', 'PCP'): 1,\n",
              "          ('Pesquisas', 'N'): 6,\n",
              "          ('Fala', 'V'): 9,\n",
              "          ('Lembra', 'V'): 2,\n",
              "          ('Aos', 'ADV'): 6,\n",
              "          ('Porque', 'KS'): 15,\n",
              "          ('Chamar', 'V'): 1,\n",
              "          ('Logo', 'PDEN'): 1,\n",
              "          ('Brizola', 'NPROP'): 13,\n",
              "          ('Venturi', 'NPROP'): 2,\n",
              "          ('Beni', 'NPROP'): 2,\n",
              "          ('Couto', 'NPROP'): 1,\n",
              "          ('Cardoso', 'NPROP'): 3,\n",
              "          ('Romano', 'NPROP'): 1,\n",
              "          ('PT', 'NPROP'): 4,\n",
              "          ('Michael', 'NPROP'): 8,\n",
              "          ('Especialistas', 'N'): 5,\n",
              "          ('Pascine', 'NPROP'): 2,\n",
              "          ('Bebês', 'N'): 1,\n",
              "          ('Lequien', 'NPROP'): 1,\n",
              "          ('Abdelmassih', 'NPROP'): 1,\n",
              "          ('Químicos', 'N'): 2,\n",
              "          ('Coordenadores', 'N'): 1,\n",
              "          ('Andou', 'V'): 1,\n",
              "          ('Contratará', 'V'): 1,\n",
              "          ('Achei', 'V'): 5,\n",
              "          ('Nélson', 'NPROP'): 2,\n",
              "          ('Temer', 'NPROP'): 4,\n",
              "          ('por', 'ADV'): 1,\n",
              "          ('Faziam', 'V'): 3,\n",
              "          ('Microfone', 'N'): 1,\n",
              "          ('até', 'KS'): 1,\n",
              "          ('Sonder', 'NPROP'): 2,\n",
              "          ('Clinton', 'NPROP'): 9,\n",
              "          ('Pedraça', 'NPROP'): 2,\n",
              "          ('Decidia', 'V'): 1,\n",
              "          ('Ronaldo', 'NPROP'): 4,\n",
              "          ('Cândido', 'NPROP'): 2,\n",
              "          ('faz', 'V'): 1,\n",
              "          ('Ao', 'KS'): 1,\n",
              "          ('Idéias', 'N'): 3,\n",
              "          ('Poderia', 'VAUX'): 7,\n",
              "          ('Fala', 'V|+'): 1,\n",
              "          ('Emendou', 'V'): 1,\n",
              "          ('Diz', 'V'): 23,\n",
              "          ('Exemplos', 'N'): 6,\n",
              "          ('Colaborou', 'V'): 12,\n",
              "          ('Nunca', 'ADV'): 23,\n",
              "          ('Muitos', 'PROSUB'): 14,\n",
              "          ('Achei', 'V|+'): 1,\n",
              "          ('Passamos', 'VAUX'): 1,\n",
              "          ('Contradições', 'N'): 1,\n",
              "          ('Minha', 'PROADJ'): 27,\n",
              "          ...})"
            ]
          },
          "metadata": {},
          "execution_count": 45
        }
      ]
    },
    {
      "cell_type": "code",
      "source": [
        "nltk.FreqDist(tags).max()"
      ],
      "metadata": {
        "colab": {
          "base_uri": "https://localhost:8080/"
        },
        "id": "Ibu29uzsNhGl",
        "outputId": "e756d939-a6b9-4d63-f58e-7930e8bf8829"
      },
      "execution_count": null,
      "outputs": [
        {
          "output_type": "execute_result",
          "data": {
            "text/plain": [
              "('O', 'ART')"
            ]
          },
          "metadata": {},
          "execution_count": 44
        }
      ]
    },
    {
      "cell_type": "code",
      "source": [
        "frase"
      ],
      "metadata": {
        "colab": {
          "base_uri": "https://localhost:8080/",
          "height": 36
        },
        "id": "8tHTXk4LOnAr",
        "outputId": "50b12731-91fc-4736-fef1-fd52f9866ab8"
      },
      "execution_count": null,
      "outputs": [
        {
          "output_type": "execute_result",
          "data": {
            "text/plain": [
              "'Eu comer maçã ontem. Eu gostar maçã muito.'"
            ],
            "application/vnd.google.colaboratory.intrinsic+json": {
              "type": "string"
            }
          },
          "metadata": {},
          "execution_count": 46
        }
      ]
    },
    {
      "cell_type": "code",
      "source": [
        "from nltk.tag.sequential import UnigramTagger\n",
        "unitagg = nltk.tag.UnigramTagger(tagged_sents)"
      ],
      "metadata": {
        "id": "8MoW25-ZOJ0C"
      },
      "execution_count": null,
      "outputs": []
    },
    {
      "cell_type": "code",
      "source": [
        "unitagg.tag(words_tkz)"
      ],
      "metadata": {
        "colab": {
          "base_uri": "https://localhost:8080/"
        },
        "id": "NSxHiX69O9cG",
        "outputId": "659bf9fb-d334-4ed4-ab1b-c2c8c689d922"
      },
      "execution_count": null,
      "outputs": [
        {
          "output_type": "execute_result",
          "data": {
            "text/plain": [
              "[('Eu', 'PROPESS'),\n",
              " ('comer', 'V'),\n",
              " ('maçã', 'N'),\n",
              " ('ontem', 'ADV'),\n",
              " ('.', '.'),\n",
              " ('Eu', 'PROPESS'),\n",
              " ('gostar', 'V'),\n",
              " ('maçã', 'N'),\n",
              " ('muito', 'ADV'),\n",
              " ('.', '.')]"
            ]
          },
          "metadata": {},
          "execution_count": 48
        }
      ]
    },
    {
      "cell_type": "markdown",
      "source": [
        "### Ótimo taggeador NLTK Unigram"
      ],
      "metadata": {
        "id": "bq4KRxTWP1t3"
      }
    },
    {
      "cell_type": "code",
      "source": [
        "bitagg = nltk.tag.BigramTagger(tagged_sents)"
      ],
      "metadata": {
        "id": "DDmgd7WZPLYU"
      },
      "execution_count": null,
      "outputs": []
    },
    {
      "cell_type": "code",
      "source": [
        "bitagg.tag(words_tkz)"
      ],
      "metadata": {
        "colab": {
          "base_uri": "https://localhost:8080/"
        },
        "id": "F47Lbuh9PVMc",
        "outputId": "1cead444-3004-44d4-fb69-c153eecc6136"
      },
      "execution_count": null,
      "outputs": [
        {
          "output_type": "execute_result",
          "data": {
            "text/plain": [
              "[('Eu', 'PROPESS'),\n",
              " ('comer', None),\n",
              " ('maçã', None),\n",
              " ('ontem', None),\n",
              " ('.', None),\n",
              " ('Eu', None),\n",
              " ('gostar', None),\n",
              " ('maçã', None),\n",
              " ('muito', None),\n",
              " ('.', None)]"
            ]
          },
          "metadata": {},
          "execution_count": 50
        }
      ]
    },
    {
      "cell_type": "markdown",
      "source": [
        "### Bigram não funcionou"
      ],
      "metadata": {
        "id": "FT7jJ3b1P8Tn"
      }
    },
    {
      "cell_type": "code",
      "source": [
        "#bitagg = nltk.tag.BigramTagger(tagged_sents)"
      ],
      "metadata": {
        "id": "6RbWUJZtP7aD"
      },
      "execution_count": null,
      "outputs": []
    },
    {
      "cell_type": "code",
      "source": [
        "tritagg = nltk.tag.TrigramTagger(tagged_sents)"
      ],
      "metadata": {
        "id": "G2GWGXMqQDLO"
      },
      "execution_count": null,
      "outputs": []
    },
    {
      "cell_type": "code",
      "source": [
        "tritagg.tag(words_tkz)"
      ],
      "metadata": {
        "colab": {
          "base_uri": "https://localhost:8080/"
        },
        "id": "mmCyLBMzQKom",
        "outputId": "41e72bb9-cad0-468c-9d57-8fdf4df693b2"
      },
      "execution_count": null,
      "outputs": [
        {
          "output_type": "execute_result",
          "data": {
            "text/plain": [
              "[('Eu', 'PROPESS'),\n",
              " ('comer', None),\n",
              " ('maçã', None),\n",
              " ('ontem', None),\n",
              " ('.', None),\n",
              " ('Eu', None),\n",
              " ('gostar', None),\n",
              " ('maçã', None),\n",
              " ('muito', None),\n",
              " ('.', None)]"
            ]
          },
          "metadata": {},
          "execution_count": 52
        }
      ]
    },
    {
      "cell_type": "markdown",
      "source": [
        "### Trigram idem. Ficamos com Unigram"
      ],
      "metadata": {
        "id": "NHntd3WmP8W1"
      }
    },
    {
      "cell_type": "markdown",
      "source": [
        "## Temas interessantes da linguagem para aplicação das regras:\n",
        "\n",
        "\n",
        "https://www.todamateria.com.br/gramatica/\n",
        "\n",
        "https://www.todamateria.com.br/funcao-sintatica/\n",
        "\n"
      ],
      "metadata": {
        "id": "qR2nd0GuSsHL"
      }
    },
    {
      "cell_type": "markdown",
      "source": [
        "## A diante com UnigramTagger do nltk.tag"
      ],
      "metadata": {
        "id": "vNFSbXntS_Bb"
      }
    },
    {
      "cell_type": "code",
      "source": [
        "unitagg.tag(words_tkz)"
      ],
      "metadata": {
        "colab": {
          "base_uri": "https://localhost:8080/"
        },
        "id": "JzRWI19yQVJF",
        "outputId": "30226838-1dab-4b38-c388-33869d4aca9e"
      },
      "execution_count": null,
      "outputs": [
        {
          "output_type": "execute_result",
          "data": {
            "text/plain": [
              "[('Eu', 'PROPESS'),\n",
              " ('comer', 'V'),\n",
              " ('maçã', 'N'),\n",
              " ('ontem', 'ADV'),\n",
              " ('.', '.'),\n",
              " ('Eu', 'PROPESS'),\n",
              " ('gostar', 'V'),\n",
              " ('maçã', 'N'),\n",
              " ('muito', 'ADV'),\n",
              " ('.', '.')]"
            ]
          },
          "metadata": {},
          "execution_count": 53
        }
      ]
    },
    {
      "cell_type": "code",
      "source": [
        "unitagg.tag(tkz.word_tokenize(\"Eu comer mação ontem, gostar muito de maçã\"))"
      ],
      "metadata": {
        "colab": {
          "base_uri": "https://localhost:8080/"
        },
        "id": "Yl0qJuCcS-V0",
        "outputId": "89d9373f-c5be-414f-cf53-7993732527e2"
      },
      "execution_count": null,
      "outputs": [
        {
          "output_type": "execute_result",
          "data": {
            "text/plain": [
              "[('Eu', 'PROPESS'),\n",
              " ('comer', 'V'),\n",
              " ('mação', None),\n",
              " ('ontem', 'ADV'),\n",
              " (',', ','),\n",
              " ('gostar', 'V'),\n",
              " ('muito', 'ADV'),\n",
              " ('de', 'PREP'),\n",
              " ('maçã', 'N')]"
            ]
          },
          "metadata": {},
          "execution_count": 54
        }
      ]
    },
    {
      "cell_type": "code",
      "source": [
        "nltk.pos_tag(tkz.word_tokenize(\"Eu comer mação ontem, gostar muito de maçã\"))"
      ],
      "metadata": {
        "colab": {
          "base_uri": "https://localhost:8080/"
        },
        "id": "HHAY0jvqp4F_",
        "outputId": "53865833-9723-4073-e4b9-5c18cadf7b43"
      },
      "execution_count": null,
      "outputs": [
        {
          "output_type": "execute_result",
          "data": {
            "text/plain": [
              "[('Eu', 'NNP'),\n",
              " ('comer', 'NN'),\n",
              " ('mação', 'NN'),\n",
              " ('ontem', 'NN'),\n",
              " (',', ','),\n",
              " ('gostar', 'NN'),\n",
              " ('muito', 'NN'),\n",
              " ('de', 'IN'),\n",
              " ('maçã', 'FW')]"
            ]
          },
          "metadata": {},
          "execution_count": 55
        }
      ]
    },
    {
      "cell_type": "code",
      "source": [
        ""
      ],
      "metadata": {
        "id": "i4DBdSLlcG-x"
      },
      "execution_count": null,
      "outputs": []
    }
  ]
}